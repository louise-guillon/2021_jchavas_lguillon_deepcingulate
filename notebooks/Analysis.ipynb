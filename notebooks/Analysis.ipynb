{
 "cells": [
  {
   "cell_type": "markdown",
   "id": "compliant-amateur",
   "metadata": {},
   "source": [
    "# Subjects structure"
   ]
  },
  {
   "cell_type": "markdown",
   "id": "wicked-italy",
   "metadata": {},
   "source": [
    "The aim of this notebook is to represent the subjects' distribution in the input space (ie, before encoding thanks to SimCLR or beta-VAE"
   ]
  },
  {
   "cell_type": "code",
   "execution_count": 6,
   "id": "intimate-routine",
   "metadata": {},
   "outputs": [],
   "source": [
    "import torch\n",
    "import sys\n",
    "import os\n",
    "import math\n",
    "import pandas as pd\n",
    "import numpy as np\n",
    "from sklearn.manifold import TSNE\n",
    "import matplotlib.pyplot as plt\n",
    "\n",
    "sys.path.append('../')\n",
    "from betaVAE.datasets import SkeletonDataset"
   ]
  },
  {
   "cell_type": "markdown",
   "id": "banned-reviewer",
   "metadata": {},
   "source": [
    "## SC vs paracingular"
   ]
  },
  {
   "cell_type": "markdown",
   "id": "handmade-world",
   "metadata": {},
   "source": [
    "### Loading of data"
   ]
  },
  {
   "cell_type": "code",
   "execution_count": 7,
   "id": "offshore-variable",
   "metadata": {},
   "outputs": [],
   "source": [
    "subject_dir = \"/neurospin/dico/data/deep_folding/current/\"\n",
    "data_dir_1 = \"/neurospin/dico/data/deep_folding/current/crops/CINGULATE/mask/sulcus_based/2mm/\"\n",
    "data_dir_2 = \"/neurospin/dico/data/deep_folding/current/crops/CINGULATE/mask/sulcus_based/2mm/\"\n",
    "side = 'R'"
   ]
  },
  {
   "cell_type": "code",
   "execution_count": 11,
   "id": "lyric-subscriber",
   "metadata": {},
   "outputs": [],
   "source": [
    "train_list = pd.read_csv(os.path.join(subject_dir, 'train.csv'), header=None,\n",
    "                            usecols=[0], names=['subjects'])\n",
    "train_list['subjects'] = train_list['subjects'].astype('str')\n",
    "\n",
    "tmp = pd.read_pickle(os.path.join(data_dir_1, f\"{side}skeleton.pkl\")).T\n",
    "tmp.index.astype('str')\n",
    "\n",
    "tmp2 = pd.read_pickle(os.path.join(data_dir_2, f\"benchmark_skeleton_right.pkl\")).T\n",
    "tmp2.index.astype('str')\n",
    "\n",
    "tmp = tmp.merge(train_list[:math.floor(len(train_list)/2)], left_on = tmp.index, right_on='subjects', how='right')\n",
    "tmp2 = tmp2.merge(train_list[math.ceil(len(train_list)/2):], left_on = tmp2.index, right_on='subjects', how='right')\n",
    "filenames = list(train_list['subjects'])\n",
    "\n",
    "train_set = SkeletonDataset(dataframe=pd.concat([tmp, tmp2], ignore_index=True), filenames=filenames)\n",
    "\n",
    "labels = np.array(['paracingular' for k in range(math.floor(len(train_list)/2))] \\\n",
    "         + ['SC' for k in range(math.ceil(len(train_list)/2)-1)])"
   ]
  },
  {
   "cell_type": "markdown",
   "id": "resistant-invite",
   "metadata": {},
   "source": [
    "### TSNE representation"
   ]
  },
  {
   "cell_type": "code",
   "execution_count": 12,
   "id": "descending-partition",
   "metadata": {
    "scrolled": true
   },
   "outputs": [],
   "source": [
    "X = np.array([train_set[k][0].flatten() for k in range(len(train_set))])\n",
    "\n",
    "X_embedded = TSNE(n_components=2).fit_transform(X)"
   ]
  },
  {
   "cell_type": "code",
   "execution_count": 13,
   "id": "stainless-agriculture",
   "metadata": {},
   "outputs": [
    {
     "data": {
      "image/png": "[encoded data removed]",
      "text/plain": [
       "<Figure size 432x288 with 1 Axes>"
      ]
     },
     "metadata": {
      "needs_background": "light"
     },
     "output_type": "display_data"
    }
   ],
   "source": [
    "color_dict = {'paracingular': 'blue', 'SC': 'magenta'}\n",
    "arr = X_embedded\n",
    "\n",
    "fig = plt.figure()\n",
    "ax = fig.add_subplot(111)\n",
    "\n",
    "for g in np.unique(labels):\n",
    "    ix = np.where(labels == g)\n",
    "    x = [arr[ix][k][0] for k in range(len(ix[0]))]\n",
    "    y = [arr[ix][k][1] for k in range(len(ix[0]))]\n",
    "    if g=='SC':\n",
    "        g_lab = 'SC'\n",
    "    else:\n",
    "        g_lab=g\n",
    "    ax.scatter(x, y, c = color_dict[g], label = g_lab)\n",
    "\n",
    "\n",
    "plt.axis('off')    \n",
    "ax.legend(fontsize=12)\n",
    "ax.legend(bbox_to_anchor=(1.05, 1), loc='upper left', fontsize=12)\n",
    "\n",
    "plt.show()"
   ]
  },
  {
   "cell_type": "markdown",
   "id": "average-neutral",
   "metadata": {},
   "source": [
    "## Paracingular only"
   ]
  },
  {
   "cell_type": "code",
   "execution_count": null,
   "id": "noted-reply",
   "metadata": {},
   "outputs": [],
   "source": []
  }
 ],
 "metadata": {
  "kernelspec": {
   "display_name": "Python 3",
   "language": "python",
   "name": "python3"
  },
  "language_info": {
   "codemirror_mode": {
    "name": "ipython",
    "version": 3
   },
   "file_extension": ".py",
   "mimetype": "text/x-python",
   "name": "python",
   "nbconvert_exporter": "python",
   "pygments_lexer": "ipython3",
   "version": "3.6.9"
  }
 },
 "nbformat": 4,
 "nbformat_minor": 5
}

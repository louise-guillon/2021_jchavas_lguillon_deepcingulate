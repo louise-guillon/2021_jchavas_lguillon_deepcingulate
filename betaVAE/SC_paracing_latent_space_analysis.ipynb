{
 "cells": [
  {
   "cell_type": "markdown",
   "id": "permanent-writing",
   "metadata": {},
   "source": [
    "# Latent space analysis - right hemisphere"
   ]
  },
  {
   "cell_type": "code",
   "execution_count": 14,
   "id": "ancient-basement",
   "metadata": {},
   "outputs": [],
   "source": [
    "# Imports\n",
    "import torch\n",
    "import pandas as pd\n",
    "import math\n",
    "from vae import *\n",
    "import datasets\n",
    "from sklearn import metrics\n",
    "from sklearn.manifold import TSNE\n",
    "from sklearn.cluster import KMeans"
   ]
  },
  {
   "cell_type": "code",
   "execution_count": 2,
   "id": "british-consequence",
   "metadata": {},
   "outputs": [],
   "source": [
    "side='R'\n",
    "data_dir = '/neurospin/dico/data/deep_folding/current/crops/CINGULATE/mask/sulcus_based/2mm/'"
   ]
  },
  {
   "cell_type": "markdown",
   "id": "appreciated-invention",
   "metadata": {},
   "source": [
    "## Loading of the model"
   ]
  },
  {
   "cell_type": "code",
   "execution_count": 3,
   "id": "gothic-intervention",
   "metadata": {
    "scrolled": true
   },
   "outputs": [
    {
     "data": {
      "text/plain": [
       "<All keys matched successfully>"
      ]
     },
     "execution_count": 3,
     "metadata": {},
     "output_type": "execute_result"
    }
   ],
   "source": [
    "root_dir ='/neurospin/dico/lguillon/midl_22/run_2/'\n",
    "model = VAE((1, 12, 48, 48), 75, depth=3)\n",
    "model.load_state_dict(torch.load(root_dir + 'checkpoint.pt'))"
   ]
  },
  {
   "cell_type": "markdown",
   "id": "sustained-times",
   "metadata": {},
   "source": [
    "## Analysis"
   ]
  },
  {
   "cell_type": "markdown",
   "id": "stretch-chocolate",
   "metadata": {},
   "source": [
    "### Loading of test data"
   ]
  },
  {
   "cell_type": "code",
   "execution_count": 21,
   "id": "quality-visit",
   "metadata": {
    "scrolled": true
   },
   "outputs": [],
   "source": [
    "# fetch data \n",
    "test_csv = '/neurospin/dico/data/deep_folding/current/test.csv'\n",
    "test_list = pd.read_csv(test_csv, header=None, usecols=[0], names=['subjects'])\n",
    "test_list['subjects'] = test_list['subjects'].astype('str')\n",
    "\n",
    "# encode data\n",
    "tmp = pd.read_pickle(os.path.join(data_dir, f\"{side}skeleton.pkl\")).T\n",
    "tmp.index.astype('str')\n",
    "\n",
    "tmp2 = pd.read_pickle(os.path.join(data_dir, f\"benchmark_skeleton_right.pkl\")).T\n",
    "tmp2.index.astype('str')\n",
    "\n",
    "tmp = tmp.merge(test_list[:math.floor(len(test_list)/2)], left_on = tmp.index, right_on='subjects', how='right')\n",
    "tmp2 = tmp2.merge(test_list[math.ceil(len(test_list)/2):], left_on = tmp2.index, right_on='subjects', how='right')\n",
    "\n",
    "filenames = list(test_list.subjects)\n",
    "test_set = datasets.SkeletonDataset(dataframe=pd.concat([tmp, tmp2], ignore_index=True), filenames=filenames)\n",
    "\n",
    "labels = np.array(['paracingular' for k in range(math.floor(len(tmp)))] \\\n",
    "         + ['SC' for k in range(math.ceil(len(tmp2)))])\n",
    "\n",
    "\n",
    "corres_labels = pd.DataFrame(data={\"subjects\": filenames, \"roi\": labels})"
   ]
  },
  {
   "cell_type": "code",
   "execution_count": 23,
   "id": "computational-worry",
   "metadata": {},
   "outputs": [],
   "source": [
    "test_loader = torch.utils.data.DataLoader(test_set, batch_size=1,\n",
    "                                          shuffle=False, num_workers=0)\n",
    "\n",
    "dico_set_loaders = {'test': test_loader}"
   ]
  },
  {
   "cell_type": "code",
   "execution_count": 33,
   "id": "romance-harvey",
   "metadata": {
    "scrolled": true
   },
   "outputs": [],
   "source": [
    "device = torch.device(\"cuda\", index=0)\n",
    "model = model.to(device)\n",
    "\n",
    "class_weights = torch.FloatTensor([2, 7]).to(device)\n",
    "#class_weights = torch.FloatTensor([2, 7])\n",
    "distance = nn.CrossEntropyLoss(weight=class_weights, reduction='sum')\n",
    "\n",
    "# HCP -------- dataset_test_loader & benchmark\n",
    "tester = ModelTester(model=model, dico_set_loaders=dico_set_loaders,\n",
    "                     loss_func=distance, kl_weight=2, n_latent=75,\n",
    "                     depth=3, skeleton=True, root_dir=root_dir)\n",
    "\n",
    "results = tester.test()\n",
    "\n",
    "losses = {loader_name:[results[loader_name][k][0] for k in results[loader_name].keys()] for loader_name in dico_set_loaders.keys()}\n",
    "encoded = {loader_name:[results[loader_name][k][3] for k in results[loader_name].keys()] for loader_name in dico_set_loaders.keys()}"
   ]
  },
  {
   "cell_type": "code",
   "execution_count": 34,
   "id": "monetary-yacht",
   "metadata": {},
   "outputs": [],
   "source": [
    "df_encoded = pd.DataFrame()\n",
    "\n",
    "df_encoded['latent'] = encoded['test']\n",
    "\n",
    "X = np.array(list(df_encoded['latent']))"
   ]
  },
  {
   "cell_type": "code",
   "execution_count": 35,
   "id": "respiratory-invitation",
   "metadata": {},
   "outputs": [],
   "source": [
    "X_embedded = TSNE(n_components=2).fit_transform(X)"
   ]
  },
  {
   "cell_type": "code",
   "execution_count": 37,
   "id": "irish-comedy",
   "metadata": {},
   "outputs": [
    {
     "data": {
      "image/png": "[encoded data removed]",
      "text/plain": [
       "<Figure size 432x288 with 1 Axes>"
      ]
     },
     "metadata": {
      "needs_background": "light"
     },
     "output_type": "display_data"
    }
   ],
   "source": [
    "color_dict = {'paracingular': 'blue', 'SC': 'magenta'}\n",
    "arr = X_embedded\n",
    "\n",
    "fig = plt.figure()\n",
    "ax = fig.add_subplot(111)\n",
    "\n",
    "for g in np.unique(labels):\n",
    "    ix = np.where(labels == g)\n",
    "    x = [arr[ix][k][0] for k in range(len(ix[0]))]\n",
    "    y = [arr[ix][k][1] for k in range(len(ix[0]))]\n",
    "    if g=='SC':\n",
    "        g_lab = 'SC'\n",
    "    else:\n",
    "        g_lab=g\n",
    "    ax.scatter(x, y, c = color_dict[g], label = g_lab)\n",
    "\n",
    "\n",
    "plt.axis('off')    \n",
    "ax.legend(fontsize=12)\n",
    "ax.legend(bbox_to_anchor=(1.05, 1), loc='upper left', fontsize=12)\n",
    "\n",
    "plt.show()"
   ]
  },
  {
   "cell_type": "code",
   "execution_count": 40,
   "id": "pediatric-platinum",
   "metadata": {},
   "outputs": [
    {
     "data": {
      "text/plain": [
       "0.65606064"
      ]
     },
     "execution_count": 40,
     "metadata": {},
     "output_type": "execute_result"
    }
   ],
   "source": [
    "# Kmeans\n",
    "kmeans2d = KMeans(n_clusters=2, random_state=0).fit_predict(X_embedded)\n",
    "metrics.silhouette_score(X_embedded, kmeans2d)"
   ]
  },
  {
   "cell_type": "code",
   "execution_count": 43,
   "id": "contained-inside",
   "metadata": {},
   "outputs": [
    {
     "data": {
      "text/plain": [
       "0.114223786"
      ]
     },
     "execution_count": 43,
     "metadata": {},
     "output_type": "execute_result"
    }
   ],
   "source": [
    "# Kmeans\n",
    "kmeans = KMeans(n_clusters=2, random_state=0).fit_predict(X)\n",
    "metrics.silhouette_score(X, kmeans)"
   ]
  }
 ],
 "metadata": {
  "kernelspec": {
   "display_name": "Python 3",
   "language": "python",
   "name": "python3"
  },
  "language_info": {
   "codemirror_mode": {
    "name": "ipython",
    "version": 3
   },
   "file_extension": ".py",
   "mimetype": "text/x-python",
   "name": "python",
   "nbconvert_exporter": "python",
   "pygments_lexer": "ipython3",
   "version": "3.6.9"
  }
 },
 "nbformat": 4,
 "nbformat_minor": 5
}

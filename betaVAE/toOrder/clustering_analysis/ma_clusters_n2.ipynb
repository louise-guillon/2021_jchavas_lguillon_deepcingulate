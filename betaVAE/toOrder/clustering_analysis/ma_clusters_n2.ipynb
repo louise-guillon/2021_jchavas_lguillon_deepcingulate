{
 "cells": [
  {
   "cell_type": "markdown",
   "id": "future-screw",
   "metadata": {},
   "source": [
    "# Moving Averages CINGULATE region"
   ]
  },
  {
   "cell_type": "markdown",
   "id": "general-isolation",
   "metadata": {},
   "source": [
    "### 1) Imports"
   ]
  },
  {
   "cell_type": "code",
   "execution_count": 1,
   "id": "stylish-hudson",
   "metadata": {},
   "outputs": [],
   "source": [
    "import os\n",
    "import glob\n",
    "import sys\n",
    "\n",
    "p = os.path.abspath('../')\n",
    "if p not in sys.path:\n",
    "    sys.path.append(p)"
   ]
  },
  {
   "cell_type": "code",
   "execution_count": 2,
   "id": "christian-first",
   "metadata": {},
   "outputs": [],
   "source": [
    "import moving_averages as ma\n",
    "import colorado as cld\n",
    "import dico_toolbox as dtx\n",
    "from tqdm import tqdm\n",
    "\n",
    "import pandas as pd\n",
    "import numpy as np\n",
    "from scipy.spatial import distance\n",
    "\n",
    "import plotly.graph_objects as go\n",
    "import pickle\n",
    "import matplotlib.pyplot as plt\n",
    "\n",
    "from soma import aims\n",
    "\n",
    "from datasets import SkeletonDataset\n",
    "import torch\n",
    "from vae import *\n",
    "\n",
    "from sklearn.cluster import KMeans, SpectralClustering, AffinityPropagation\n",
    "from sklearn import metrics\n",
    "\n",
    "import matplotlib.cm as cm"
   ]
  },
  {
   "cell_type": "code",
   "execution_count": 3,
   "id": "prostate-desktop",
   "metadata": {},
   "outputs": [],
   "source": [
    "def closest_distance(centroid, df):\n",
    "    \"\"\"Returns closest point to centroid of a given cluster\n",
    "    /!\\ central_point is part of the defined set of points\n",
    "    Args:\n",
    "        IN: centroid: tuple of coordinates of centroid\n",
    "            df: pandas.DataFrame with index corresponding to subjects and as many columns as coordinates\n",
    "        OUT: central_point: subject ID corresponding to closest point to the centroid\n",
    "    \"\"\"\n",
    "    # df must have as many columns as dimensions to consider\n",
    "    distances = {}\n",
    "    # Get distances to centroid for each point\n",
    "    for sub in list(df.index):\n",
    "        pos = [df.loc[sub][k] for k in range(1, len(df.columns)+1)]\n",
    "        distances[sub] = distance.euclidean(pos, centroid)\n",
    "    # Get closest point to centroid\n",
    "    central_point = min(distances, key=distances.get)\n",
    "    return central_point"
   ]
  },
  {
   "cell_type": "code",
   "execution_count": 4,
   "id": "smaller-counter",
   "metadata": {},
   "outputs": [],
   "source": [
    "path = '/neurospin/dico/data/deep_folding/current/crops/CINGULATE/mask/sulcus_based/2mm/centered_combined/hcp/Rcrops/'"
   ]
  },
  {
   "cell_type": "markdown",
   "id": "concrete-fluid",
   "metadata": {},
   "source": [
    "### 2) Loading of subjects's distribution in the latent space\n",
    "DataFrame is obtained during analysis of beta-VAE latent space (2 dimensions) for CINGULATE crops, according to the following steps:\n",
    "- loading of trained model\n",
    "- encoding of test controls and asymmetry benchmark subjects"
   ]
  },
  {
   "cell_type": "code",
   "execution_count": 5,
   "id": "institutional-cliff",
   "metadata": {},
   "outputs": [],
   "source": [
    "if torch.cuda.is_available():\n",
    "    device = \"cuda:0\""
   ]
  },
  {
   "cell_type": "code",
   "execution_count": 6,
   "id": "descending-violence",
   "metadata": {},
   "outputs": [],
   "source": [
    "model_dir = '/neurospin/dico/lguillon/midl_22/new_design/gridsearch/n_2_kl_2/'\n",
    "model = VAE((1, 20, 40, 40), 2, depth=3)\n",
    "model.load_state_dict(torch.load(model_dir + 'checkpoint.pt'))\n",
    "model = model.to(device)"
   ]
  },
  {
   "cell_type": "code",
   "execution_count": 7,
   "id": "former-lender",
   "metadata": {},
   "outputs": [],
   "source": [
    "subject_dir = \"/neurospin/dico/data/deep_folding/current/\"\n",
    "data_dir = \"/neurospin/dico/data/deep_folding/current/crops/CINGULATE/mask/sulcus_based/2mm/centered_combined/hcp/\"\n",
    "\n",
    "train_list = pd.read_csv(os.path.join(subject_dir,\n",
    "                         f\"HCP_half_{1}bis.csv\"), header=None,\n",
    "                         usecols=[0], names=['subjects'])\n",
    "\n",
    "train_list['subjects'] = train_list['subjects'].astype('str')\n",
    "\n",
    "tmp = pd.read_pickle(os.path.join(data_dir, \"Rskeleton.pkl\")).T\n",
    "#tmp = tmp.rename(columns={0:'subjects'})\n",
    "tmp.index.astype('str')\n",
    "\n",
    "tmp = tmp.merge(train_list, left_on = tmp.index, right_on='subjects', how='right')\n",
    "\n",
    "filenames = list(train_list['subjects'])\n",
    "\n",
    "subset = SkeletonDataset(dataframe=tmp, filenames=filenames)"
   ]
  },
  {
   "cell_type": "code",
   "execution_count": 8,
   "id": "cooked-prediction",
   "metadata": {},
   "outputs": [],
   "source": [
    "dataloader = torch.utils.data.DataLoader(\n",
    "              subset,\n",
    "              batch_size=64,\n",
    "              num_workers=8,\n",
    "              shuffle=True)    "
   ]
  },
  {
   "cell_type": "code",
   "execution_count": 9,
   "id": "embedded-packet",
   "metadata": {},
   "outputs": [],
   "source": [
    "dico_set_loaders = {'data': dataloader}\n",
    "\n",
    "root_dir = '/neurospin/dico/lguillon/midl_22/new_design/analysis/n_2_kl_2/'\n",
    "\n",
    "weights = [1, 2]\n",
    "class_weights = torch.FloatTensor(weights).to(device)\n",
    "criterion = nn.CrossEntropyLoss(weight=class_weights, reduction='sum')\n",
    "tester = ModelTester(model=model, dico_set_loaders=dico_set_loaders,\n",
    "                     loss_func=criterion, kl_weight=2,\n",
    "                     n_latent=4, depth=3, root_dir=root_dir)"
   ]
  },
  {
   "cell_type": "code",
   "execution_count": 10,
   "id": "adopted-hollow",
   "metadata": {
    "scrolled": true
   },
   "outputs": [],
   "source": [
    "results = tester.test()\n",
    "encoded = {loader_name:[results[loader_name][k] for k in results[loader_name].keys()] for loader_name in dico_set_loaders.keys()}\n",
    "df_encoded = pd.DataFrame()\n",
    "df_encoded['latent'] = encoded['data']\n",
    "X = np.array(list(df_encoded['latent']))\n",
    "labels = list(results['data'].keys())"
   ]
  },
  {
   "cell_type": "code",
   "execution_count": 11,
   "id": "adverse-exclusion",
   "metadata": {},
   "outputs": [
    {
     "data": {
      "text/plain": [
       "<matplotlib.collections.PathCollection at 0x7f7a832d24e0>"
      ]
     },
     "execution_count": 11,
     "metadata": {},
     "output_type": "execute_result"
    },
    {
     "data": {
      "image/png": "[encoded data removed]",
      "text/plain": [
       "<Figure size 432x288 with 1 Axes>"
      ]
     },
     "metadata": {
      "needs_background": "light"
     },
     "output_type": "display_data"
    }
   ],
   "source": [
    "from sklearn.manifold import TSNE\n",
    "X_embedded = TSNE(n_components=2, perplexity=15).fit_transform(X)\n",
    "\n",
    "x = [X_embedded[k][0] for k in range(len(X_embedded))]\n",
    "y = [X_embedded[k][1] for k in range(len(X_embedded))]\n",
    "\n",
    "fig = plt.figure()\n",
    "ax = fig.add_subplot(111)\n",
    "ax.scatter(x, y)"
   ]
  },
  {
   "cell_type": "code",
   "execution_count": 12,
   "id": "compressed-laptop",
   "metadata": {},
   "outputs": [
    {
     "name": "stdout",
     "output_type": "stream",
     "text": [
      "18\n",
      "4\n",
      "cluster's centroids coordinates: \n",
      " [[  9.674993   -3.453913 ]\n",
      " [  4.2440395  36.812496 ]\n",
      " [-38.597313    6.9115453]\n",
      " [ 16.460104  -17.892948 ]]\n"
     ]
    }
   ],
   "source": [
    "af = AffinityPropagation(random_state=15, max_iter=1000).fit(X_embedded)\n",
    "cluster_labels_ini = af.labels_\n",
    "initial_centers = af.cluster_centers_indices_\n",
    "n_clusters_ = len(initial_centers)\n",
    "print(n_clusters_)\n",
    "x_cluster_label = af.predict(X_embedded)\n",
    "while n_clusters_ > 7:\n",
    "    af = AffinityPropagation(random_state=0).fit(X_embedded[af.cluster_centers_indices_])\n",
    "    center_cluster_labels = af.labels_\n",
    "    x_cluster_label = af.predict(X_embedded)\n",
    "    n_clusters_ = len(af.cluster_centers_indices_)\n",
    "    print(n_clusters_)\n",
    "    clusters_centroids = af.cluster_centers_\n",
    "print(f\"cluster's centroids coordinates: \\n {clusters_centroids}\")"
   ]
  },
  {
   "cell_type": "code",
   "execution_count": 13,
   "id": "found-invite",
   "metadata": {},
   "outputs": [],
   "source": [
    "dstrb_sub = pd.DataFrame(X_embedded, index=labels, columns=[1, 2])\n",
    "dstrb_sub['cluster_lab'] = x_cluster_label"
   ]
  },
  {
   "cell_type": "code",
   "execution_count": 14,
   "id": "sweet-electric",
   "metadata": {},
   "outputs": [],
   "source": [
    "cluster1 = dstrb_sub[dstrb_sub.cluster_lab==0]\n",
    "cluster2 = dstrb_sub[dstrb_sub.cluster_lab==1]\n",
    "cluster3 = dstrb_sub[dstrb_sub.cluster_lab==2]\n",
    "cluster4 = dstrb_sub[dstrb_sub.cluster_lab==3]\n",
    "assert(len(np.unique(list(cluster1.cluster_lab)))==1)\n",
    "assert(len(np.unique(list(cluster2.cluster_lab)))==1)\n",
    "assert(len(np.unique(list(cluster3.cluster_lab)))==1)\n",
    "assert(len(np.unique(list(cluster4.cluster_lab)))==1)"
   ]
  },
  {
   "cell_type": "code",
   "execution_count": 15,
   "id": "incident-connectivity",
   "metadata": {},
   "outputs": [
    {
     "data": {
      "image/png": "[encoded data removed]",
      "text/plain": [
       "<Figure size 432x288 with 1 Axes>"
      ]
     },
     "metadata": {
      "needs_background": "light"
     },
     "output_type": "display_data"
    }
   ],
   "source": [
    "arr = np.array([np.array([dstrb_sub[k][i] for k in dstrb_sub.columns[:2]]) for i in range(len(dstrb_sub))])\n",
    "\n",
    "color_dict = {0:'blue',1: 'red', 2:'forestgreen', 3:'magenta'}\n",
    "fig, ax = plt.subplots()\n",
    "\n",
    "for g in np.unique([dstrb_sub.cluster_lab]):\n",
    "    ix = np.where(dstrb_sub.cluster_lab == g)\n",
    "    x = [arr[ix][k][0] for k in range(len(ix[0]))]\n",
    "    y = [arr[ix][k][1] for k in range(len(ix[0]))]\n",
    "    g_lab= f\"cluster {g}\"\n",
    "    ax.scatter(x, y, c = color_dict[g], label = g_lab)\n",
    "\n",
    "plt.legend(bbox_to_anchor=(1.04,1), borderaxespad=0)\n",
    "\n",
    "plt.xlabel(f'tSNE dimension 1', fontsize=14)\n",
    "plt.ylabel(f'tSNE dimension 2', fontsize=14)\n",
    "plt.show()"
   ]
  },
  {
   "cell_type": "code",
   "execution_count": 16,
   "id": "removable-performer",
   "metadata": {},
   "outputs": [
    {
     "name": "stdout",
     "output_type": "stream",
     "text": [
      "Closest subject to centroid of cluster 1 is 213522\n",
      "Closest subject to centroid of cluster 2 is 633847\n",
      "Closest subject to centroid of cluster 3 is 804646\n",
      "Closest subject to centroid of cluster 4 is 720337\n"
     ]
    }
   ],
   "source": [
    "central_1 = closest_distance(clusters_centroids[0], dstrb_sub.drop(['cluster_lab'], axis=1))\n",
    "print(f\"Closest subject to centroid of cluster 1 is {central_1}\")\n",
    "central_2 = closest_distance(clusters_centroids[1], dstrb_sub.drop(['cluster_lab'], axis=1))\n",
    "print(f\"Closest subject to centroid of cluster 2 is {central_2}\")\n",
    "central_3 = closest_distance(clusters_centroids[2], dstrb_sub.drop(['cluster_lab'], axis=1))\n",
    "print(f\"Closest subject to centroid of cluster 3 is {central_3}\")\n",
    "central_4 = closest_distance(clusters_centroids[3], dstrb_sub.drop(['cluster_lab'], axis=1))\n",
    "print(f\"Closest subject to centroid of cluster 4 is {central_4}\")"
   ]
  },
  {
   "cell_type": "markdown",
   "id": "cardiovascular-identifier",
   "metadata": {},
   "source": [
    "### Creation of buckets dictionnary"
   ]
  },
  {
   "cell_type": "code",
   "execution_count": 17,
   "id": "foster-position",
   "metadata": {
    "scrolled": true
   },
   "outputs": [
    {
     "name": "stderr",
     "output_type": "stream",
     "text": [
      "100%|██████████| 550/550 [00:46<00:00, 11.95it/s]\n"
     ]
    }
   ],
   "source": [
    "bucket_path = '/neurospin/dico/data/deep_folding/current/crops/CINGULATE/mask/sulcus_based/2mm/centered_combined/hcp/Rbuckets/'\n",
    "suffix_path = '_normalized.bck'\n",
    "buckets = {}\n",
    "for sub in tqdm(list(labels)):\n",
    "    bucket = aims.read(os.path.join(bucket_path, str(sub) + suffix_path))\n",
    "    bucket = dtx.convert.bucket_aims_to_ndarray(bucket[0])\n",
    "    buckets[sub] = bucket"
   ]
  },
  {
   "cell_type": "code",
   "execution_count": 18,
   "id": "permanent-employer",
   "metadata": {},
   "outputs": [],
   "source": [
    "subjects_c1 = cluster1.index\n",
    "subjects_c2 = cluster2.index\n",
    "subjects_c3 = cluster3.index\n",
    "subjects_c4 = cluster4.index\n",
    "\n",
    "buckets_c1 = {k: v for k,v in buckets.items() if k in list(subjects_c1)}\n",
    "buckets_c2 = {k: v for k,v in buckets.items() if k in list(subjects_c2)}\n",
    "buckets_c3 = {k: v for k,v in buckets.items() if k in list(subjects_c3)}\n",
    "buckets_c4 = {k: v for k,v in buckets.items() if k in list(subjects_c4)}"
   ]
  },
  {
   "cell_type": "markdown",
   "id": "demanding-enzyme",
   "metadata": {},
   "source": [
    "#### Alignement of the subjects to respective central subject"
   ]
  },
  {
   "cell_type": "code",
   "execution_count": 26,
   "id": "foreign-disabled",
   "metadata": {
    "scrolled": true
   },
   "outputs": [
    {
     "name": "stderr",
     "output_type": "stream",
     "text": [
      ">>> INFO moving_averages.transform - using 45 cores out of 48\n",
      "Aligning buckets to 167036: 100%|██████████| 152/152 [00:02<00:00, 58.69it/s]\n",
      ">>> INFO moving_averages.transform - using 45 cores out of 48\n",
      "Aligning buckets to 919966: 100%|██████████| 142/142 [00:02<00:00, 53.13it/s]\n",
      ">>> INFO moving_averages.transform - using 45 cores out of 48\n",
      "Aligning buckets to 168038: 100%|██████████| 256/256 [00:05<00:00, 50.21it/s] \n"
     ]
    }
   ],
   "source": [
    "aligned_buckets_C1, aligned_rot_C1, aligned_transl_C1 = ma.align_buckets_by_ICP_batch(buckets_c1, central_1)\n",
    "aligned_buckets_C2, aligned_rot_C2, aligned_transl_C2 = ma.align_buckets_by_ICP_batch(buckets_c2, central_2)\n",
    "aligned_buckets_C3, aligned_rot_C3, aligned_transl_C3 = ma.align_buckets_by_ICP_batch(buckets_c3, central_3)"
   ]
  },
  {
   "cell_type": "code",
   "execution_count": 27,
   "id": "maritime-retention",
   "metadata": {},
   "outputs": [],
   "source": [
    "def subj_count_extreme_coords(isodf, axis, min_coord, max_coord, num_coord=5):\n",
    "    coord_values = np.linspace(min_coord, max_coord, num_coord)\n",
    "    step = (coord_values[1] - coord_values[0])\n",
    "    midpoint_min = coord_values[0] + step/2\n",
    "    midpoint_max = coord_values[num_coord-1] - step/2\n",
    "    coord_under = [elt for elt in isodf[axis] if elt<midpoint_min]\n",
    "    coord_over = [elt for elt in isodf[axis] if elt>midpoint_max]\n",
    "    num_subj_under = len(coord_under)\n",
    "    num_subj_over = len(coord_over)\n",
    "    return num_subj_under, num_subj_over\n",
    "\n",
    "def get_MA_coords(isodf, axis, num_subj_threshold, num_coord=5):\n",
    "    min_subj_coord = min(isodf[axis])\n",
    "    max_subj_coord = max(isodf[axis])\n",
    "    step = (max_subj_coord - min_subj_coord)/num_coord\n",
    "    num_subj_under, num_subj_over = subj_count_extreme_coords(isodf, axis, min_subj_coord, max_subj_coord)\n",
    "    while ((num_subj_under<num_subj_threshold)|(num_subj_over<num_subj_threshold)):\n",
    "        step = (max_subj_coord - min_subj_coord)/num_coord\n",
    "        if num_subj_under<num_subj_threshold:\n",
    "            min_subj_coord = min_subj_coord + step\n",
    "        if num_subj_over<num_subj_threshold:\n",
    "            max_subj_coord = max_subj_coord - step\n",
    "        num_subj_under, num_subj_over = subj_count_extreme_coords(isodf, axis, min_subj_coord, max_subj_coord)\n",
    "    return np.linspace(min_subj_coord, max_subj_coord, num_coord)"
   ]
  },
  {
   "cell_type": "markdown",
   "id": "adjusted-remedy",
   "metadata": {},
   "source": [
    "### TSNE AXIS 1 analysis"
   ]
  },
  {
   "cell_type": "code",
   "execution_count": 28,
   "id": "solid-grace",
   "metadata": {},
   "outputs": [],
   "source": [
    "MA_coords_1 = [dstrb_sub.loc[central_1][1]]\n",
    "MA_coords_2 = [dstrb_sub.loc[central_2][1]]\n",
    "MA_coords_3 = [dstrb_sub.loc[central_3][1]]"
   ]
  },
  {
   "cell_type": "markdown",
   "id": "incident-earth",
   "metadata": {},
   "source": [
    "#### Parameters"
   ]
  },
  {
   "cell_type": "code",
   "execution_count": 29,
   "id": "constitutional-russell",
   "metadata": {},
   "outputs": [],
   "source": [
    "fwhm = 10\n",
    "thresh = 90\n",
    "axis = 1"
   ]
  },
  {
   "cell_type": "markdown",
   "id": "handy-biology",
   "metadata": {},
   "source": [
    "#### Cluster 1"
   ]
  },
  {
   "cell_type": "code",
   "execution_count": 30,
   "id": "tamil-converter",
   "metadata": {
    "scrolled": false
   },
   "outputs": [
    {
     "name": "stderr",
     "output_type": "stream",
     "text": [
      "Calculating moving averages: 100%|██████████| 1/1 [00:00<00:00,  1.11it/s]\n"
     ]
    }
   ],
   "source": [
    "SPAM_vols_c1, shift1 = ma.calc_MA_volumes_batch(MA_coords_1, aligned_buckets_C1, cluster1, axis_n=axis, FWHM=fwhm)"
   ]
  },
  {
   "cell_type": "code",
   "execution_count": 36,
   "id": "bulgarian-norfolk",
   "metadata": {
    "scrolled": true
   },
   "outputs": [
    {
     "name": "stderr",
     "output_type": "stream",
     "text": [
      "100%|██████████| 1/1 [00:00<00:00, 13.33it/s]\n",
      "100%|██████████| 1/1 [00:00<00:00, 98.59it/s]\n"
     ]
    }
   ],
   "source": [
    "SPAM_meshes = {}\n",
    "\n",
    "for k, volume in tqdm(list(SPAM_vols_c1.items())[:]):\n",
    "    SPAM_meshes[k]=dtx.convert.volume_to_mesh(\n",
    "                    vol=volume, gblur_sigma=0.3, threshold=0.5)\n",
    "    \n",
    "shifted_SPAM_meshes = {}\n",
    "for dist, mesh in SPAM_meshes.items():\n",
    "    shifted_SPAM_meshes[str(dist)] = dtx.mesh.shift_aims_mesh_along_axis(mesh, dist, axis=0, scale=100)\n",
    "    \n",
    "for x, mesh in tqdm(shifted_SPAM_meshes.items()):\n",
    "    aims.write(mesh, f\"MA_cluster_1_n2.mesh\")#### Saving of average crops"
   ]
  },
  {
   "cell_type": "markdown",
   "id": "equivalent-trinity",
   "metadata": {},
   "source": [
    "#### Cluster 2"
   ]
  },
  {
   "cell_type": "code",
   "execution_count": 37,
   "id": "exempt-acting",
   "metadata": {
    "scrolled": false
   },
   "outputs": [
    {
     "name": "stderr",
     "output_type": "stream",
     "text": [
      "Calculating moving averages: 100%|██████████| 1/1 [00:00<00:00,  1.18it/s]\n"
     ]
    }
   ],
   "source": [
    "SPAM_vols_c2, shift2 = ma.calc_MA_volumes_batch(MA_coords_2, aligned_buckets_C2, cluster2, axis_n=axis, FWHM=fwhm)"
   ]
  },
  {
   "cell_type": "code",
   "execution_count": 41,
   "id": "medical-protest",
   "metadata": {
    "scrolled": true
   },
   "outputs": [
    {
     "name": "stderr",
     "output_type": "stream",
     "text": [
      "100%|██████████| 1/1 [00:00<00:00, 13.78it/s]\n",
      "100%|██████████| 1/1 [00:00<00:00, 97.11it/s]\n"
     ]
    }
   ],
   "source": [
    "SPAM_meshes_2 = {}\n",
    "\n",
    "for k, volume in tqdm(list(SPAM_vols_c2.items())[:]):\n",
    "    SPAM_meshes_2[k]=dtx.convert.volume_to_mesh(\n",
    "                    vol=volume, gblur_sigma=0.3, threshold=0.6)\n",
    "    \n",
    "shifted_SPAM_meshes_2 = {}\n",
    "for dist, mesh in SPAM_meshes_2.items():\n",
    "    shifted_SPAM_meshes_2[str(dist)] = dtx.mesh.shift_aims_mesh_along_axis(mesh, dist, axis=0, scale=100)\n",
    "    \n",
    "for x, mesh in tqdm(shifted_SPAM_meshes_2.items()):\n",
    "    aims.write(mesh, f\"MA_cluster_2_n2.mesh\")#### Saving of average crops"
   ]
  },
  {
   "cell_type": "markdown",
   "id": "excessive-equivalent",
   "metadata": {},
   "source": [
    "#### Cluster 3"
   ]
  },
  {
   "cell_type": "code",
   "execution_count": 42,
   "id": "looking-butter",
   "metadata": {
    "scrolled": false
   },
   "outputs": [
    {
     "name": "stderr",
     "output_type": "stream",
     "text": [
      "Calculating moving averages: 100%|██████████| 1/1 [00:01<00:00,  1.52s/it]\n"
     ]
    }
   ],
   "source": [
    "SPAM_vols_c3, shift3 = ma.calc_MA_volumes_batch(MA_coords_3, aligned_buckets_C3, cluster3, axis_n=axis, FWHM=fwhm)"
   ]
  },
  {
   "cell_type": "code",
   "execution_count": 49,
   "id": "consistent-satellite",
   "metadata": {
    "scrolled": true
   },
   "outputs": [
    {
     "name": "stderr",
     "output_type": "stream",
     "text": [
      "100%|██████████| 1/1 [00:00<00:00, 15.15it/s]\n",
      "100%|██████████| 1/1 [00:00<00:00, 84.60it/s]\n"
     ]
    }
   ],
   "source": [
    "SPAM_meshes_3 = {}\n",
    "\n",
    "for k, volume in tqdm(list(SPAM_vols_c3.items())[:]):\n",
    "    SPAM_meshes_3[k]=dtx.convert.volume_to_mesh(\n",
    "                    vol=volume, gblur_sigma=0.3, threshold=0.6)\n",
    "    \n",
    "shifted_SPAM_meshes_3 = {}\n",
    "for dist, mesh in SPAM_meshes_3.items():\n",
    "    shifted_SPAM_meshes_3[str(dist)] = dtx.mesh.shift_aims_mesh_along_axis(mesh, dist, axis=0, scale=100)\n",
    "    \n",
    "for x, mesh in tqdm(shifted_SPAM_meshes_3.items()):\n",
    "    aims.write(mesh, f\"MA_cluster_3_n2.mesh\")#### Saving of average crops"
   ]
  },
  {
   "cell_type": "markdown",
   "id": "adverse-indiana",
   "metadata": {},
   "source": [
    "### Replication half 2"
   ]
  },
  {
   "cell_type": "code",
   "execution_count": 19,
   "id": "square-extra",
   "metadata": {},
   "outputs": [],
   "source": [
    "model_dir = '/neurospin/dico/lguillon/midl_22/new_design/half2/n_2_kl_2/'\n",
    "model_2 = VAE((1, 20, 40, 40), 2, depth=3)\n",
    "model_2.load_state_dict(torch.load(model_dir + 'checkpoint.pt'))\n",
    "model_2 = model_2.to(device)"
   ]
  },
  {
   "cell_type": "code",
   "execution_count": 20,
   "id": "adequate-binary",
   "metadata": {},
   "outputs": [],
   "source": [
    "root_dir = '/neurospin/dico/lguillon/midl_22/new_design/analysis/model_2_n_2_kl_2/'\n",
    "\n",
    "weights = [1, 2]\n",
    "class_weights = torch.FloatTensor(weights).to(device)\n",
    "criterion = nn.CrossEntropyLoss(weight=class_weights, reduction='sum')\n",
    "tester = ModelTester(model=model_2, dico_set_loaders=dico_set_loaders,\n",
    "                     loss_func=criterion, kl_weight=2,\n",
    "                     n_latent=2, depth=3, root_dir=root_dir)"
   ]
  },
  {
   "cell_type": "code",
   "execution_count": 21,
   "id": "guilty-temple",
   "metadata": {
    "scrolled": true
   },
   "outputs": [],
   "source": [
    "results_2 = tester.test()\n",
    "encoded_2 = {loader_name:[results_2[loader_name][k] for k in results_2[loader_name].keys()] for loader_name in dico_set_loaders.keys()}\n",
    "df_encoded_2 = pd.DataFrame()\n",
    "df_encoded_2['latent'] = encoded_2['data']\n",
    "X_2 = np.array(list(df_encoded_2['latent']))\n",
    "labels_2 = list(results_2['data'].keys())"
   ]
  },
  {
   "cell_type": "code",
   "execution_count": 40,
   "id": "modern-reunion",
   "metadata": {},
   "outputs": [
    {
     "data": {
      "text/plain": [
       "<matplotlib.collections.PathCollection at 0x7f7a479d7f98>"
      ]
     },
     "execution_count": 40,
     "metadata": {},
     "output_type": "execute_result"
    },
    {
     "data": {
      "image/png": "[encoded data removed]",
      "text/plain": [
       "<Figure size 432x288 with 1 Axes>"
      ]
     },
     "metadata": {
      "needs_background": "light"
     },
     "output_type": "display_data"
    }
   ],
   "source": [
    "X_embedded_2 = TSNE(n_components=2, perplexity=20).fit_transform(X_2)\n",
    "\n",
    "x = [X_embedded_2[k][0] for k in range(len(X_embedded_2))]\n",
    "y = [X_embedded_2[k][1] for k in range(len(X_embedded_2))]\n",
    "\n",
    "fig = plt.figure()\n",
    "ax = fig.add_subplot(111)\n",
    "ax.scatter(x, y)"
   ]
  },
  {
   "cell_type": "code",
   "execution_count": 41,
   "id": "better-strategy",
   "metadata": {},
   "outputs": [
    {
     "name": "stdout",
     "output_type": "stream",
     "text": [
      "17\n",
      "4\n"
     ]
    }
   ],
   "source": [
    "af = AffinityPropagation(random_state=20, max_iter=1000).fit(X_embedded_2)\n",
    "cluster_labels_ini = af.labels_\n",
    "initial_centers = af.cluster_centers_indices_\n",
    "n_clusters_ = len(initial_centers)\n",
    "print(n_clusters_)\n",
    "x_cluster_label = af.predict(X_embedded_2)\n",
    "while n_clusters_ > 7:\n",
    "    af = AffinityPropagation(random_state=0).fit(X_embedded_2[af.cluster_centers_indices_])\n",
    "    center_cluster_labels = af.labels_\n",
    "    x_cluster_label = af.predict(X_embedded_2)\n",
    "    n_clusters_ = len(af.cluster_centers_indices_)\n",
    "    print(n_clusters_)\n",
    "    clusters_centroids = af.cluster_centers_"
   ]
  },
  {
   "cell_type": "code",
   "execution_count": 42,
   "id": "grateful-split",
   "metadata": {},
   "outputs": [],
   "source": [
    "dstrb_sub_2 = pd.DataFrame(X_embedded_2, index=labels_2, columns=[1, 2])\n",
    "dstrb_sub_2['cluster_lab_half2'] = x_cluster_label\n",
    "dstrb_sub_2['subjects'] = dstrb_sub_2.index"
   ]
  },
  {
   "cell_type": "code",
   "execution_count": 43,
   "id": "bigger-editing",
   "metadata": {},
   "outputs": [
    {
     "data": {
      "image/png": "[encoded data removed]",
      "text/plain": [
       "<Figure size 432x288 with 1 Axes>"
      ]
     },
     "metadata": {
      "needs_background": "light"
     },
     "output_type": "display_data"
    }
   ],
   "source": [
    "arr = np.array([np.array([dstrb_sub_2[k][i] for k in dstrb_sub_2.columns[:2]]) for i in range(len(dstrb_sub_2))])\n",
    "\n",
    "color_dict = {0:'blue',1: 'red', 2:'forestgreen', 3:'magenta'}\n",
    "fig, ax = plt.subplots()\n",
    "\n",
    "for g in np.unique([dstrb_sub_2.cluster_lab_half2]):\n",
    "    ix = np.where(dstrb_sub_2.cluster_lab_half2 == g)\n",
    "    x = [arr[ix][k][0] for k in range(len(ix[0]))]\n",
    "    y = [arr[ix][k][1] for k in range(len(ix[0]))]\n",
    "    g_lab= f\"cluster {g}\"\n",
    "    ax.scatter(x, y, c = color_dict[g], label = g_lab)\n",
    "\n",
    "plt.legend(bbox_to_anchor=(1.04,1), borderaxespad=0)\n",
    "\n",
    "plt.xlabel(f'tSNE dimension 1', fontsize=14)\n",
    "plt.ylabel(f'tSNE dimension 2', fontsize=14)\n",
    "plt.show()"
   ]
  },
  {
   "cell_type": "code",
   "execution_count": 44,
   "id": "burning-memory",
   "metadata": {},
   "outputs": [],
   "source": [
    "m1 = pd.merge(dstrb_sub, dstrb_sub_2, left_on=dstrb_sub.index, right_on=dstrb_sub_2.subjects)"
   ]
  },
  {
   "cell_type": "code",
   "execution_count": 45,
   "id": "substantial-headline",
   "metadata": {},
   "outputs": [
    {
     "data": {
      "text/html": [
       "<div>\n",
       "<style scoped>\n",
       "    .dataframe tbody tr th:only-of-type {\n",
       "        vertical-align: middle;\n",
       "    }\n",
       "\n",
       "    .dataframe tbody tr th {\n",
       "        vertical-align: top;\n",
       "    }\n",
       "\n",
       "    .dataframe thead th {\n",
       "        text-align: right;\n",
       "    }\n",
       "</style>\n",
       "<table border=\"1\" class=\"dataframe\">\n",
       "  <thead>\n",
       "    <tr style=\"text-align: right;\">\n",
       "      <th></th>\n",
       "      <th>key_0</th>\n",
       "      <th>1_x</th>\n",
       "      <th>2_x</th>\n",
       "      <th>cluster_lab</th>\n",
       "      <th>1_y</th>\n",
       "      <th>2_y</th>\n",
       "      <th>cluster_lab_half2</th>\n",
       "      <th>subjects</th>\n",
       "    </tr>\n",
       "  </thead>\n",
       "  <tbody>\n",
       "    <tr>\n",
       "      <th>0</th>\n",
       "      <td>113619</td>\n",
       "      <td>-0.112555</td>\n",
       "      <td>-18.661516</td>\n",
       "      <td>3</td>\n",
       "      <td>-16.628414</td>\n",
       "      <td>-1.565072</td>\n",
       "      <td>1</td>\n",
       "      <td>113619</td>\n",
       "    </tr>\n",
       "    <tr>\n",
       "      <th>1</th>\n",
       "      <td>196144</td>\n",
       "      <td>-3.085064</td>\n",
       "      <td>31.033600</td>\n",
       "      <td>1</td>\n",
       "      <td>4.512649</td>\n",
       "      <td>-6.829263</td>\n",
       "      <td>0</td>\n",
       "      <td>196144</td>\n",
       "    </tr>\n",
       "    <tr>\n",
       "      <th>2</th>\n",
       "      <td>620434</td>\n",
       "      <td>-2.591936</td>\n",
       "      <td>51.621922</td>\n",
       "      <td>1</td>\n",
       "      <td>10.343232</td>\n",
       "      <td>31.334585</td>\n",
       "      <td>3</td>\n",
       "      <td>620434</td>\n",
       "    </tr>\n",
       "    <tr>\n",
       "      <th>3</th>\n",
       "      <td>120010</td>\n",
       "      <td>10.672189</td>\n",
       "      <td>-9.753501</td>\n",
       "      <td>0</td>\n",
       "      <td>-3.102041</td>\n",
       "      <td>-24.190535</td>\n",
       "      <td>2</td>\n",
       "      <td>120010</td>\n",
       "    </tr>\n",
       "    <tr>\n",
       "      <th>4</th>\n",
       "      <td>161832</td>\n",
       "      <td>-39.478191</td>\n",
       "      <td>18.847076</td>\n",
       "      <td>2</td>\n",
       "      <td>-20.143698</td>\n",
       "      <td>23.227110</td>\n",
       "      <td>3</td>\n",
       "      <td>161832</td>\n",
       "    </tr>\n",
       "  </tbody>\n",
       "</table>\n",
       "</div>"
      ],
      "text/plain": [
       "    key_0        1_x        2_x  cluster_lab        1_y        2_y  \\\n",
       "0  113619  -0.112555 -18.661516            3 -16.628414  -1.565072   \n",
       "1  196144  -3.085064  31.033600            1   4.512649  -6.829263   \n",
       "2  620434  -2.591936  51.621922            1  10.343232  31.334585   \n",
       "3  120010  10.672189  -9.753501            0  -3.102041 -24.190535   \n",
       "4  161832 -39.478191  18.847076            2 -20.143698  23.227110   \n",
       "\n",
       "   cluster_lab_half2 subjects  \n",
       "0                  1   113619  \n",
       "1                  0   196144  \n",
       "2                  3   620434  \n",
       "3                  2   120010  \n",
       "4                  3   161832  "
      ]
     },
     "execution_count": 45,
     "metadata": {},
     "output_type": "execute_result"
    }
   ],
   "source": [
    "m1.head()"
   ]
  },
  {
   "cell_type": "code",
   "execution_count": 46,
   "id": "million-courtesy",
   "metadata": {},
   "outputs": [
    {
     "data": {
      "image/png": "[encoded data removed]",
      "text/plain": [
       "<Figure size 432x288 with 1 Axes>"
      ]
     },
     "metadata": {
      "needs_background": "light"
     },
     "output_type": "display_data"
    }
   ],
   "source": [
    "arr = np.array([np.array([m1[k][i] for k in m1.columns[1:3]]) for i in range(len(m1))])\n",
    "\n",
    "color_dict = {0:'blue',1: 'red', 2:'forestgreen', 3:'magenta'}\n",
    "fig, ax = plt.subplots()\n",
    "\n",
    "for g in np.unique([m1.cluster_lab_half2]):\n",
    "    ix = np.where(m1.cluster_lab_half2 == g)\n",
    "    x = [arr[ix][k][0] for k in range(len(ix[0]))]\n",
    "    y = [arr[ix][k][1] for k in range(len(ix[0]))]\n",
    "    g_lab= f\"cluster {g}\"\n",
    "    ax.scatter(x, y, c = color_dict[g], label = g_lab)\n",
    "\n",
    "plt.legend(bbox_to_anchor=(1.04,1), borderaxespad=0)\n",
    "\n",
    "plt.xlabel(f'tSNE dimension 1', fontsize=14)\n",
    "plt.ylabel(f'tSNE dimension 2', fontsize=14)\n",
    "plt.show()"
   ]
  },
  {
   "cell_type": "code",
   "execution_count": 47,
   "id": "addressed-tyler",
   "metadata": {},
   "outputs": [
    {
     "data": {
      "image/png": "[encoded data removed]",
      "text/plain": [
       "<Figure size 432x288 with 1 Axes>"
      ]
     },
     "metadata": {
      "needs_background": "light"
     },
     "output_type": "display_data"
    }
   ],
   "source": [
    "arr = np.array([np.array([m1[k][i] for k in m1.columns[4:6]]) for i in range(len(m1))])\n",
    "\n",
    "color_dict = {0:'blue',1: 'red', 2:'forestgreen', 3:'magenta'}\n",
    "fig, ax = plt.subplots()\n",
    "\n",
    "for g in np.unique([m1.cluster_lab]):\n",
    "    ix = np.where(m1.cluster_lab == g)\n",
    "    x = [arr[ix][k][0] for k in range(len(ix[0]))]\n",
    "    y = [arr[ix][k][1] for k in range(len(ix[0]))]\n",
    "    g_lab= f\"cluster {g}\"\n",
    "    ax.scatter(x, y, c = color_dict[g], label = g_lab)\n",
    "\n",
    "plt.legend(bbox_to_anchor=(1.04,1), borderaxespad=0)\n",
    "\n",
    "plt.xlabel(f'tSNE dimension 1', fontsize=14)\n",
    "plt.ylabel(f'tSNE dimension 2', fontsize=14)\n",
    "plt.show()"
   ]
  }
 ],
 "metadata": {
  "kernelspec": {
   "display_name": "Python 3",
   "language": "python",
   "name": "python3"
  },
  "language_info": {
   "codemirror_mode": {
    "name": "ipython",
    "version": 3
   },
   "file_extension": ".py",
   "mimetype": "text/x-python",
   "name": "python",
   "nbconvert_exporter": "python",
   "pygments_lexer": "ipython3",
   "version": "3.6.9"
  }
 },
 "nbformat": 4,
 "nbformat_minor": 5
}

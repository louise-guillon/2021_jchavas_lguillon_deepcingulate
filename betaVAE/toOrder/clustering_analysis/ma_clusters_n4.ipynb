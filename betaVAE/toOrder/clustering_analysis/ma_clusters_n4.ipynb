{
 "cells": [
  {
   "cell_type": "markdown",
   "id": "particular-boutique",
   "metadata": {},
   "source": [
    "# Moving Averages CINGULATE region"
   ]
  },
  {
   "cell_type": "markdown",
   "id": "uniform-johns",
   "metadata": {},
   "source": [
    "### 1) Imports"
   ]
  },
  {
   "cell_type": "code",
   "execution_count": 1,
   "id": "hollow-bobby",
   "metadata": {},
   "outputs": [],
   "source": [
    "import os\n",
    "import glob\n",
    "import sys\n",
    "\n",
    "p = os.path.abspath('../')\n",
    "if p not in sys.path:\n",
    "    sys.path.append(p)"
   ]
  },
  {
   "cell_type": "code",
   "execution_count": 2,
   "id": "stainless-valley",
   "metadata": {},
   "outputs": [],
   "source": [
    "import moving_averages as ma\n",
    "import colorado as cld\n",
    "import dico_toolbox as dtx\n",
    "from tqdm import tqdm\n",
    "\n",
    "import pandas as pd\n",
    "import numpy as np\n",
    "from scipy.spatial import distance\n",
    "\n",
    "import plotly.graph_objects as go\n",
    "import pickle\n",
    "import matplotlib.pyplot as plt\n",
    "\n",
    "from soma import aims\n",
    "\n",
    "from datasets import SkeletonDataset\n",
    "import torch\n",
    "from vae import *\n",
    "\n",
    "from sklearn.cluster import KMeans, SpectralClustering, AffinityPropagation\n",
    "from sklearn import metrics\n",
    "\n",
    "import matplotlib.cm as cm"
   ]
  },
  {
   "cell_type": "code",
   "execution_count": 3,
   "id": "deluxe-staff",
   "metadata": {},
   "outputs": [],
   "source": [
    "def closest_distance(centroid, df):\n",
    "    \"\"\"Returns closest point to centroid of a given cluster\n",
    "    /!\\ central_point is part of the defined set of points\n",
    "    Args:\n",
    "        IN: centroid: tuple of coordinates of centroid\n",
    "            df: pandas.DataFrame with index corresponding to subjects and as many columns as coordinates\n",
    "        OUT: central_point: subject ID corresponding to closest point to the centroid\n",
    "    \"\"\"\n",
    "    # df must have as many columns as dimensions to consider\n",
    "    distances = {}\n",
    "    # Get distances to centroid for each point\n",
    "    for sub in list(df.index):\n",
    "        pos = [df.loc[sub][k] for k in range(1, len(df.columns)+1)]\n",
    "        distances[sub] = distance.euclidean(pos, centroid)\n",
    "    # Get closest point to centroid\n",
    "    central_point = min(distances, key=distances.get)\n",
    "    return central_point"
   ]
  },
  {
   "cell_type": "code",
   "execution_count": 4,
   "id": "looking-particle",
   "metadata": {},
   "outputs": [],
   "source": [
    "path = '/neurospin/dico/data/deep_folding/current/crops/CINGULATE/mask/sulcus_based/2mm/centered_combined/hcp/Rcrops/'"
   ]
  },
  {
   "cell_type": "markdown",
   "id": "incorrect-judgment",
   "metadata": {},
   "source": [
    "### 2) Loading of subjects's distribution in the latent space\n",
    "DataFrame is obtained during analysis of beta-VAE latent space (2 dimensions) for CINGULATE crops, according to the following steps:\n",
    "- loading of trained model\n",
    "- encoding of test controls and asymmetry benchmark subjects"
   ]
  },
  {
   "cell_type": "code",
   "execution_count": 5,
   "id": "liable-appeal",
   "metadata": {},
   "outputs": [],
   "source": [
    "if torch.cuda.is_available():\n",
    "    device = \"cuda:0\""
   ]
  },
  {
   "cell_type": "code",
   "execution_count": 6,
   "id": "defensive-monroe",
   "metadata": {},
   "outputs": [],
   "source": [
    "model_dir = '/neurospin/dico/lguillon/midl_22/new_design/gridsearch/n_4_kl_2/'\n",
    "model = VAE((1, 20, 40, 40), 4, depth=3)\n",
    "model.load_state_dict(torch.load(model_dir + 'checkpoint.pt'))\n",
    "model = model.to(device)"
   ]
  },
  {
   "cell_type": "code",
   "execution_count": 7,
   "id": "mighty-fleet",
   "metadata": {},
   "outputs": [],
   "source": [
    "subject_dir = \"/neurospin/dico/data/deep_folding/current/\"\n",
    "data_dir = \"/neurospin/dico/data/deep_folding/current/crops/CINGULATE/mask/sulcus_based/2mm/centered_combined/hcp/\"\n",
    "\n",
    "train_list = pd.read_csv(os.path.join(subject_dir,\n",
    "                         f\"HCP_half_{1}bis.csv\"), header=None,\n",
    "                         usecols=[0], names=['subjects'])\n",
    "\n",
    "train_list['subjects'] = train_list['subjects'].astype('str')\n",
    "\n",
    "tmp = pd.read_pickle(os.path.join(data_dir, \"Rskeleton.pkl\")).T\n",
    "#tmp = tmp.rename(columns={0:'subjects'})\n",
    "tmp.index.astype('str')\n",
    "\n",
    "tmp = tmp.merge(train_list, left_on = tmp.index, right_on='subjects', how='right')\n",
    "\n",
    "filenames = list(train_list['subjects'])\n",
    "\n",
    "subset = SkeletonDataset(dataframe=tmp, filenames=filenames)"
   ]
  },
  {
   "cell_type": "code",
   "execution_count": 8,
   "id": "light-charles",
   "metadata": {},
   "outputs": [],
   "source": [
    "dataloader = torch.utils.data.DataLoader(\n",
    "              subset,\n",
    "              batch_size=64,\n",
    "              num_workers=8,\n",
    "              shuffle=True)    "
   ]
  },
  {
   "cell_type": "code",
   "execution_count": 9,
   "id": "equal-interaction",
   "metadata": {},
   "outputs": [],
   "source": [
    "dico_set_loaders = {'data': dataloader}\n",
    "\n",
    "root_dir = '/neurospin/dico/lguillon/midl_22/new_design/analysis/n_4_kl_2/'\n",
    "\n",
    "weights = [1, 2]\n",
    "class_weights = torch.FloatTensor(weights).to(device)\n",
    "criterion = nn.CrossEntropyLoss(weight=class_weights, reduction='sum')\n",
    "tester = ModelTester(model=model, dico_set_loaders=dico_set_loaders,\n",
    "                     loss_func=criterion, kl_weight=2,\n",
    "                     n_latent=4, depth=3, root_dir=root_dir)"
   ]
  },
  {
   "cell_type": "code",
   "execution_count": 10,
   "id": "foster-blade",
   "metadata": {
    "scrolled": true
   },
   "outputs": [],
   "source": [
    "results = tester.test()\n",
    "encoded = {loader_name:[results[loader_name][k] for k in results[loader_name].keys()] for loader_name in dico_set_loaders.keys()}\n",
    "df_encoded = pd.DataFrame()\n",
    "df_encoded['latent'] = encoded['data']\n",
    "X = np.array(list(df_encoded['latent']))\n",
    "labels = list(results['data'].keys())"
   ]
  },
  {
   "cell_type": "code",
   "execution_count": 11,
   "id": "decent-offset",
   "metadata": {},
   "outputs": [
    {
     "data": {
      "text/plain": [
       "<matplotlib.collections.PathCollection at 0x7f4748825e10>"
      ]
     },
     "execution_count": 11,
     "metadata": {},
     "output_type": "execute_result"
    },
    {
     "data": {
      "image/png": "[encoded data removed]",
      "text/plain": [
       "<Figure size 432x288 with 1 Axes>"
      ]
     },
     "metadata": {
      "needs_background": "light"
     },
     "output_type": "display_data"
    }
   ],
   "source": [
    "from sklearn.manifold import TSNE\n",
    "X_embedded = TSNE(n_components=2, perplexity=8, random_state=12).fit_transform(X)\n",
    "\n",
    "x = [X_embedded[k][0] for k in range(len(X_embedded))]\n",
    "y = [X_embedded[k][1] for k in range(len(X_embedded))]\n",
    "\n",
    "fig = plt.figure()\n",
    "ax = fig.add_subplot(111)\n",
    "ax.scatter(x, y)"
   ]
  },
  {
   "cell_type": "code",
   "execution_count": 12,
   "id": "korean-vault",
   "metadata": {},
   "outputs": [
    {
     "data": {
      "text/plain": [
       "<matplotlib.collections.PathCollection at 0x7f4712f9cc50>"
      ]
     },
     "execution_count": 12,
     "metadata": {},
     "output_type": "execute_result"
    },
    {
     "data": {
      "image/png": "[encoded data removed]",
      "text/plain": [
       "<Figure size 432x288 with 1 Axes>"
      ]
     },
     "metadata": {
      "needs_background": "light"
     },
     "output_type": "display_data"
    }
   ],
   "source": [
    "X_embedded1 = TSNE(n_components=2, perplexity=15).fit_transform(X)\n",
    "\n",
    "x = [X_embedded1[k][0] for k in range(len(X_embedded))]\n",
    "y = [X_embedded1[k][1] for k in range(len(X_embedded))]\n",
    "\n",
    "fig = plt.figure()\n",
    "ax = fig.add_subplot(111)\n",
    "ax.scatter(x, y)"
   ]
  },
  {
   "cell_type": "code",
   "execution_count": 13,
   "id": "modern-glass",
   "metadata": {},
   "outputs": [],
   "source": [
    "def centeroidnp(arr):\n",
    "    length = arr.shape[0]\n",
    "    sum_x = np.sum(arr[:, 0])\n",
    "    sum_y = np.sum(arr[:, 1])\n",
    "    return sum_x/length, sum_y/length"
   ]
  },
  {
   "cell_type": "code",
   "execution_count": 270,
   "id": "incredible-surveillance",
   "metadata": {},
   "outputs": [
    {
     "name": "stdout",
     "output_type": "stream",
     "text": [
      "18\n",
      "4\n",
      "cluster's centroids coordinates: \n",
      " [[  5.8529077 -14.0458765]\n",
      " [ 25.389046   23.391527 ]\n",
      " [-28.354366  -22.022167 ]\n",
      " [-17.763762   17.834991 ]]\n"
     ]
    }
   ],
   "source": [
    "af = AffinityPropagation(random_state=15, max_iter=1000).fit(X_embedded1)\n",
    "cluster_labels_ini = af.labels_\n",
    "initial_centers = af.cluster_centers_indices_\n",
    "n_clusters_ = len(initial_centers)\n",
    "print(n_clusters_)\n",
    "x_cluster_label = af.predict(X_embedded1)\n",
    "while n_clusters_ > 7:\n",
    "    af = AffinityPropagation(random_state=0).fit(X_embedded1[af.cluster_centers_indices_])\n",
    "    center_cluster_labels = af.labels_\n",
    "    x_cluster_label = af.predict(X_embedded1)\n",
    "    n_clusters_ = len(af.cluster_centers_indices_)\n",
    "    print(n_clusters_)\n",
    "    clusters_centroids = af.cluster_centers_\n",
    "print(f\"cluster's centroids coordinates: \\n {clusters_centroids}\")"
   ]
  },
  {
   "cell_type": "code",
   "execution_count": 268,
   "id": "corporate-austin",
   "metadata": {},
   "outputs": [
    {
     "name": "stdout",
     "output_type": "stream",
     "text": [
      "33\n",
      "6\n",
      "3\n",
      "cluster's centroids coordinates: \n",
      " [[-0.51148516  0.21541248  2.8550498   1.639824  ]\n",
      " [ 1.7011249  -1.2031103   0.93101454  1.9111269 ]\n",
      " [ 0.23244691 -2.4410856   3.2334692  -1.6141716 ]]\n"
     ]
    }
   ],
   "source": [
    "af = AffinityPropagation(random_state=0, max_iter=1000).fit(X)\n",
    "cluster_labels_ini = af.labels_\n",
    "initial_centers = af.cluster_centers_indices_\n",
    "n_clusters_ = len(initial_centers)\n",
    "print(n_clusters_)\n",
    "x_cluster_label = af.predict(X)\n",
    "while n_clusters_ > 5:\n",
    "    af = AffinityPropagation(random_state=0).fit(X[af.cluster_centers_indices_])\n",
    "    center_cluster_labels = af.labels_\n",
    "    x_cluster_label = af.predict(X)\n",
    "    n_clusters_ = len(af.cluster_centers_indices_)\n",
    "    print(n_clusters_)\n",
    "    clusters_centroids = af.cluster_centers_\n",
    "print(f\"cluster's centroids coordinates: \\n {clusters_centroids}\")"
   ]
  },
  {
   "cell_type": "code",
   "execution_count": 269,
   "id": "linear-suspect",
   "metadata": {},
   "outputs": [
    {
     "data": {
      "text/plain": [
       "0.1731393"
      ]
     },
     "execution_count": 269,
     "metadata": {},
     "output_type": "execute_result"
    }
   ],
   "source": [
    "metrics.silhouette_score(X, x_cluster_label)"
   ]
  },
  {
   "cell_type": "code",
   "execution_count": 271,
   "id": "operating-atlanta",
   "metadata": {},
   "outputs": [
    {
     "data": {
      "text/plain": [
       "0.43242744"
      ]
     },
     "execution_count": 271,
     "metadata": {},
     "output_type": "execute_result"
    }
   ],
   "source": [
    "metrics.silhouette_score(X_embedded1, x_cluster_label)"
   ]
  },
  {
   "cell_type": "code",
   "execution_count": 16,
   "id": "charitable-flavor",
   "metadata": {},
   "outputs": [],
   "source": [
    "dstrb_sub = pd.DataFrame(X_embedded1, index=labels, columns=[1, 2])\n",
    "dstrb_sub['cluster_lab'] = x_cluster_label"
   ]
  },
  {
   "cell_type": "code",
   "execution_count": 17,
   "id": "prerequisite-appliance",
   "metadata": {},
   "outputs": [],
   "source": [
    "cluster1 = dstrb_sub[dstrb_sub.cluster_lab==0]\n",
    "cluster2 = dstrb_sub[dstrb_sub.cluster_lab==1]\n",
    "cluster3 = dstrb_sub[dstrb_sub.cluster_lab==2]\n",
    "cluster4 = dstrb_sub[dstrb_sub.cluster_lab==3]\n",
    "assert(len(np.unique(list(cluster1.cluster_lab)))==1)\n",
    "assert(len(np.unique(list(cluster2.cluster_lab)))==1)\n",
    "assert(len(np.unique(list(cluster3.cluster_lab)))==1)\n",
    "assert(len(np.unique(list(cluster4.cluster_lab)))==1)"
   ]
  },
  {
   "cell_type": "code",
   "execution_count": 229,
   "id": "decent-constitution",
   "metadata": {},
   "outputs": [
    {
     "data": {
      "image/png": "[encoded data removed]",
      "text/plain": [
       "<Figure size 432x288 with 1 Axes>"
      ]
     },
     "metadata": {
      "needs_background": "light"
     },
     "output_type": "display_data"
    }
   ],
   "source": [
    "arr = np.array([np.array([dstrb_sub[k][i] for k in dstrb_sub.columns[:2]]) for i in range(len(dstrb_sub))])\n",
    "\n",
    "color_dict = {0:'forestgreen',1: 'steelblue', 2:'indigo', 3:'magenta'}\n",
    "fig, ax = plt.subplots()\n",
    "\n",
    "for g in np.unique([dstrb_sub.cluster_lab]):\n",
    "    ix = np.where(dstrb_sub.cluster_lab == g)\n",
    "    x = [arr[ix][k][0] for k in range(len(ix[0]))]\n",
    "    y = [arr[ix][k][1] for k in range(len(ix[0]))]\n",
    "    g_lab= f\"cluster {g}\"\n",
    "    ax.scatter(x, y, c = color_dict[g], label = g_lab)\n",
    "    \n",
    "\n",
    "plt.legend(bbox_to_anchor=(1.04,1), borderaxespad=0)\n",
    "\n",
    "plt.xlabel(f'tSNE dimension 1', fontsize=14)\n",
    "plt.ylabel(f'tSNE dimension 2', fontsize=14)\n",
    "plt.show()"
   ]
  },
  {
   "cell_type": "code",
   "execution_count": 19,
   "id": "placed-singer",
   "metadata": {},
   "outputs": [
    {
     "name": "stdout",
     "output_type": "stream",
     "text": [
      "Closest subject to centroid of cluster 1 is 173536\n",
      "Closest subject to centroid of cluster 2 is 129634\n",
      "Closest subject to centroid of cluster 3 is 766563\n",
      "Closest subject to centroid of cluster 4 is 389357\n"
     ]
    }
   ],
   "source": [
    "central_1 = closest_distance(clusters_centroids[0], dstrb_sub.drop(['cluster_lab'], axis=1))\n",
    "print(f\"Closest subject to centroid of cluster 1 is {central_1}\")\n",
    "central_2 = closest_distance(clusters_centroids[1], dstrb_sub.drop(['cluster_lab'], axis=1))\n",
    "print(f\"Closest subject to centroid of cluster 2 is {central_2}\")\n",
    "central_3 = closest_distance(clusters_centroids[2], dstrb_sub.drop(['cluster_lab'], axis=1))\n",
    "print(f\"Closest subject to centroid of cluster 3 is {central_3}\")\n",
    "central_4 = closest_distance(clusters_centroids[3], dstrb_sub.drop(['cluster_lab'], axis=1))\n",
    "print(f\"Closest subject to centroid of cluster 4 is {central_4}\")"
   ]
  },
  {
   "cell_type": "markdown",
   "id": "organic-brave",
   "metadata": {},
   "source": [
    "### Creation of buckets dictionnary"
   ]
  },
  {
   "cell_type": "code",
   "execution_count": 20,
   "id": "raised-google",
   "metadata": {
    "scrolled": true
   },
   "outputs": [
    {
     "name": "stderr",
     "output_type": "stream",
     "text": [
      "100%|██████████| 550/550 [00:40<00:00, 13.65it/s]\n"
     ]
    }
   ],
   "source": [
    "bucket_path = '/neurospin/dico/data/deep_folding/current/crops/CINGULATE/mask/sulcus_based/2mm/centered_combined/hcp/Rbuckets/'\n",
    "suffix_path = '_normalized.bck'\n",
    "buckets = {}\n",
    "for sub in tqdm(list(labels)):\n",
    "    bucket = aims.read(os.path.join(bucket_path, str(sub) + suffix_path))\n",
    "    bucket = dtx.convert.bucket_aims_to_ndarray(bucket[0])\n",
    "    buckets[sub] = bucket"
   ]
  },
  {
   "cell_type": "code",
   "execution_count": 21,
   "id": "atlantic-wonder",
   "metadata": {},
   "outputs": [],
   "source": [
    "subjects_c1 = cluster1.index\n",
    "subjects_c2 = cluster2.index\n",
    "subjects_c3 = cluster3.index\n",
    "subjects_c4 = cluster4.index\n",
    "\n",
    "buckets_c1 = {k: v for k,v in buckets.items() if k in list(subjects_c1)}\n",
    "buckets_c2 = {k: v for k,v in buckets.items() if k in list(subjects_c2)}\n",
    "buckets_c3 = {k: v for k,v in buckets.items() if k in list(subjects_c3)}\n",
    "buckets_c4 = {k: v for k,v in buckets.items() if k in list(subjects_c4)}"
   ]
  },
  {
   "cell_type": "markdown",
   "id": "prospective-option",
   "metadata": {},
   "source": [
    "#### Alignement of the subjects to respective central subject"
   ]
  },
  {
   "cell_type": "code",
   "execution_count": 22,
   "id": "acquired-instrument",
   "metadata": {
    "scrolled": true
   },
   "outputs": [
    {
     "name": "stderr",
     "output_type": "stream",
     "text": [
      ">>> INFO moving_averages.transform - using 45 cores out of 48\n",
      "Aligning buckets to 173536: 100%|██████████| 152/152 [00:01<00:00, 81.61it/s] \n",
      ">>> INFO moving_averages.transform - using 45 cores out of 48\n",
      "Aligning buckets to 129634: 100%|██████████| 159/159 [00:01<00:00, 112.74it/s]\n",
      ">>> INFO moving_averages.transform - using 45 cores out of 48\n",
      "Aligning buckets to 766563: 100%|██████████| 123/123 [00:01<00:00, 81.48it/s]\n",
      ">>> INFO moving_averages.transform - using 45 cores out of 48\n",
      "Aligning buckets to 389357: 100%|██████████| 116/116 [00:00<00:00, 118.07it/s]\n"
     ]
    }
   ],
   "source": [
    "aligned_buckets_C1, aligned_rot_C1, aligned_transl_C1 = ma.align_buckets_by_ICP_batch(buckets_c1, central_1)\n",
    "aligned_buckets_C2, aligned_rot_C2, aligned_transl_C2 = ma.align_buckets_by_ICP_batch(buckets_c2, central_2)\n",
    "aligned_buckets_C3, aligned_rot_C3, aligned_transl_C3 = ma.align_buckets_by_ICP_batch(buckets_c3, central_3)\n",
    "aligned_buckets_C4, aligned_rot_C4, aligned_transl_C4 = ma.align_buckets_by_ICP_batch(buckets_c4, central_4)"
   ]
  },
  {
   "cell_type": "code",
   "execution_count": 23,
   "id": "focused-cutting",
   "metadata": {},
   "outputs": [],
   "source": [
    "def subj_count_extreme_coords(isodf, axis, min_coord, max_coord, num_coord=5):\n",
    "    coord_values = np.linspace(min_coord, max_coord, num_coord)\n",
    "    step = (coord_values[1] - coord_values[0])\n",
    "    midpoint_min = coord_values[0] + step/2\n",
    "    midpoint_max = coord_values[num_coord-1] - step/2\n",
    "    coord_under = [elt for elt in isodf[axis] if elt<midpoint_min]\n",
    "    coord_over = [elt for elt in isodf[axis] if elt>midpoint_max]\n",
    "    num_subj_under = len(coord_under)\n",
    "    num_subj_over = len(coord_over)\n",
    "    return num_subj_under, num_subj_over\n",
    "\n",
    "def get_MA_coords(isodf, axis, num_subj_threshold, num_coord=5):\n",
    "    min_subj_coord = min(isodf[axis])\n",
    "    max_subj_coord = max(isodf[axis])\n",
    "    step = (max_subj_coord - min_subj_coord)/num_coord\n",
    "    num_subj_under, num_subj_over = subj_count_extreme_coords(isodf, axis, min_subj_coord, max_subj_coord, num_coord)\n",
    "    while ((num_subj_under<num_subj_threshold)|(num_subj_over<num_subj_threshold)):\n",
    "        step = (max_subj_coord - min_subj_coord)/num_coord\n",
    "        if num_subj_under<num_subj_threshold:\n",
    "            min_subj_coord = min_subj_coord + step\n",
    "        if num_subj_over<num_subj_threshold:\n",
    "            max_subj_coord = max_subj_coord - step\n",
    "        num_subj_under, num_subj_over = subj_count_extreme_coords(isodf, axis, min_subj_coord, max_subj_coord)\n",
    "    return np.linspace(min_subj_coord, max_subj_coord, num_coord)"
   ]
  },
  {
   "cell_type": "markdown",
   "id": "raised-rochester",
   "metadata": {},
   "source": [
    "### TSNE AXIS 1 analysis"
   ]
  },
  {
   "cell_type": "code",
   "execution_count": 34,
   "id": "diverse-sussex",
   "metadata": {},
   "outputs": [],
   "source": [
    "MA_coords_1 = [dstrb_sub.loc[central_1][1]]\n",
    "MA_coords_2 = [dstrb_sub.loc[central_2][1]]\n",
    "MA_coords_3 = [dstrb_sub.loc[central_3][1]]\n",
    "MA_coords_4 = [dstrb_sub.loc[central_4][1]]"
   ]
  },
  {
   "cell_type": "markdown",
   "id": "focused-delay",
   "metadata": {},
   "source": [
    "#### Parameters"
   ]
  },
  {
   "cell_type": "code",
   "execution_count": 35,
   "id": "arbitrary-maximum",
   "metadata": {},
   "outputs": [],
   "source": [
    "axis = 1"
   ]
  },
  {
   "cell_type": "markdown",
   "id": "norman-formation",
   "metadata": {},
   "source": [
    "#### Cluster 1"
   ]
  },
  {
   "cell_type": "code",
   "execution_count": 197,
   "id": "overhead-trademark",
   "metadata": {
    "scrolled": true
   },
   "outputs": [
    {
     "name": "stderr",
     "output_type": "stream",
     "text": [
      "Calculating moving averages: 100%|██████████| 1/1 [00:00<00:00,  1.13it/s]\n"
     ]
    }
   ],
   "source": [
    "SPAM_vols_c1, shift1 = ma.calc_MA_volumes_batch(MA_coords_1, aligned_buckets_C1, cluster1, axis_n=axis, FWHM=100)"
   ]
  },
  {
   "cell_type": "code",
   "execution_count": 253,
   "id": "aerial-timer",
   "metadata": {
    "scrolled": true
   },
   "outputs": [
    {
     "name": "stderr",
     "output_type": "stream",
     "text": [
      "100%|██████████| 1/1 [00:00<00:00, 20.31it/s]\n",
      "100%|██████████| 1/1 [00:00<00:00, 59.85it/s]\n"
     ]
    }
   ],
   "source": [
    "SPAM_meshes = {}\n",
    "\n",
    "for k, volume in tqdm(list(SPAM_vols_c1.items())[:]):\n",
    "    SPAM_meshes[k]=dtx.convert.volume_to_mesh(\n",
    "                    vol=volume, threshold=\"88%\", gblur_sigma=0.3, smoothRate=0.1, deciReductionRate=0)\n",
    "    \n",
    "shifted_SPAM_meshes = {}\n",
    "for dist, mesh in SPAM_meshes.items():\n",
    "    shifted_SPAM_meshes[str(dist)] = dtx.mesh.shift_aims_mesh_along_axis(mesh, 0, axis=0, scale=1)\n",
    "    \n",
    "for x, mesh in tqdm(shifted_SPAM_meshes.items()):\n",
    "    aims.write(mesh, f\"MA_cluster_1.mesh\")#### Saving of average crops"
   ]
  },
  {
   "cell_type": "markdown",
   "id": "substantial-water",
   "metadata": {},
   "source": [
    "#### Cluster 2"
   ]
  },
  {
   "cell_type": "code",
   "execution_count": 75,
   "id": "lined-croatia",
   "metadata": {
    "scrolled": false
   },
   "outputs": [
    {
     "name": "stderr",
     "output_type": "stream",
     "text": [
      "Calculating moving averages: 100%|██████████| 1/1 [00:00<00:00,  1.03it/s]\n"
     ]
    }
   ],
   "source": [
    "SPAM_vols_c2, shift2 = ma.calc_MA_volumes_batch(MA_coords_2, aligned_buckets_C2, cluster2, axis_n=axis, FWHM=10)"
   ]
  },
  {
   "cell_type": "code",
   "execution_count": 252,
   "id": "naughty-fiber",
   "metadata": {
    "scrolled": true
   },
   "outputs": [
    {
     "name": "stderr",
     "output_type": "stream",
     "text": [
      "100%|██████████| 1/1 [00:00<00:00, 21.07it/s]\n",
      "100%|██████████| 1/1 [00:00<00:00, 59.62it/s]\n"
     ]
    }
   ],
   "source": [
    "SPAM_meshes_2 = {}\n",
    "\n",
    "for k, volume in tqdm(list(SPAM_vols_c2.items())[:]):\n",
    "    SPAM_meshes_2[k]=dtx.convert.volume_to_mesh(\n",
    "                    vol=volume,threshold=\"88%\", gblur_sigma=0.20, smoothRate=0.1, deciReductionRate=0)\n",
    "    \n",
    "shifted_SPAM_meshes_2 = {}\n",
    "for dist, mesh in SPAM_meshes_2.items():\n",
    "    shifted_SPAM_meshes_2[str(dist)] = dtx.mesh.shift_aims_mesh_along_axis(mesh, 0, axis=0, scale=100)\n",
    "    \n",
    "for x, mesh in tqdm(shifted_SPAM_meshes_2.items()):\n",
    "    aims.write(mesh, f\"MA_cluster_2.mesh\")#### Saving of average crops"
   ]
  },
  {
   "cell_type": "markdown",
   "id": "agreed-challenge",
   "metadata": {},
   "source": [
    "#### Cluster 3"
   ]
  },
  {
   "cell_type": "code",
   "execution_count": 77,
   "id": "patent-favorite",
   "metadata": {
    "scrolled": true
   },
   "outputs": [
    {
     "name": "stderr",
     "output_type": "stream",
     "text": [
      "Calculating moving averages: 100%|██████████| 1/1 [00:00<00:00,  1.29it/s]\n"
     ]
    }
   ],
   "source": [
    "SPAM_vols_c3, shift3 = ma.calc_MA_volumes_batch(MA_coords_3, aligned_buckets_C3, cluster3, axis_n=axis, FWHM=10)"
   ]
  },
  {
   "cell_type": "code",
   "execution_count": 251,
   "id": "recreational-speaking",
   "metadata": {
    "scrolled": true
   },
   "outputs": [
    {
     "name": "stderr",
     "output_type": "stream",
     "text": [
      "100%|██████████| 1/1 [00:00<00:00, 18.77it/s]\n",
      "100%|██████████| 1/1 [00:00<00:00, 55.32it/s]\n"
     ]
    }
   ],
   "source": [
    "SPAM_meshes_3 = {}\n",
    "\n",
    "for k, volume in tqdm(list(SPAM_vols_c3.items())[:]):\n",
    "    SPAM_meshes_3[k]=dtx.convert.volume_to_mesh(\n",
    "                    vol=volume, threshold=\"88%\", gblur_sigma=0.3, smoothRate=0.1, deciReductionRate=0)\n",
    "    \n",
    "shifted_SPAM_meshes_3 = {}\n",
    "for dist, mesh in SPAM_meshes_3.items():\n",
    "    shifted_SPAM_meshes_3[str(dist)] = dtx.mesh.shift_aims_mesh_along_axis(mesh, 0, axis=0, scale=100)\n",
    "    \n",
    "for x, mesh in tqdm(shifted_SPAM_meshes_3.items()):\n",
    "    aims.write(mesh, f\"MA_cluster_3.mesh\")#### Saving of average crops"
   ]
  },
  {
   "cell_type": "markdown",
   "id": "hindu-flower",
   "metadata": {},
   "source": [
    "#### Cluster 4"
   ]
  },
  {
   "cell_type": "code",
   "execution_count": 87,
   "id": "several-airplane",
   "metadata": {
    "scrolled": true
   },
   "outputs": [
    {
     "name": "stderr",
     "output_type": "stream",
     "text": [
      "Calculating moving averages: 100%|██████████| 1/1 [00:00<00:00,  1.24it/s]\n"
     ]
    }
   ],
   "source": [
    "SPAM_vols_c4, shift4 = ma.calc_MA_volumes_batch(MA_coords_4, aligned_buckets_C4, cluster4, axis_n=axis, FWHM=10)"
   ]
  },
  {
   "cell_type": "code",
   "execution_count": 250,
   "id": "raised-powder",
   "metadata": {
    "scrolled": true
   },
   "outputs": [
    {
     "name": "stderr",
     "output_type": "stream",
     "text": [
      "100%|██████████| 1/1 [00:00<00:00, 17.31it/s]\n",
      "100%|██████████| 1/1 [00:00<00:00, 56.31it/s]\n"
     ]
    }
   ],
   "source": [
    "SPAM_meshes_4 = {}\n",
    "\n",
    "for k, volume in tqdm(list(SPAM_vols_c4.items())[:]):\n",
    "    SPAM_meshes_4[k]=dtx.convert.volume_to_mesh(\n",
    "                    vol=volume, threshold=\"88%\", gblur_sigma=0.3, smoothRate=0.1, deciReductionRate=0)\n",
    "    \n",
    "shifted_SPAM_meshes_4 = {}\n",
    "for dist, mesh in SPAM_meshes_4.items():\n",
    "    shifted_SPAM_meshes_4[str(dist)] = dtx.mesh.shift_aims_mesh_along_axis(mesh, 0, axis=0, scale=100)\n",
    "    \n",
    "for x, mesh in tqdm(shifted_SPAM_meshes_4.items()):\n",
    "    aims.write(mesh, f\"MA_cluster_4.mesh\")#### Saving of average crops"
   ]
  },
  {
   "cell_type": "markdown",
   "id": "indian-quarter",
   "metadata": {},
   "source": [
    "### Visualisation of neighbours"
   ]
  },
  {
   "cell_type": "code",
   "execution_count": 158,
   "id": "typical-jacob",
   "metadata": {},
   "outputs": [],
   "source": [
    "def compute_distance(df_in, centroid):\n",
    "    \"\"\"Computes distance from centroid\"\"\"\n",
    "    df_out = df_in\n",
    "    df_out['distance'] = (df_out[1]-centroid[0])**2 + (df_out[2]-centroid[1])**2\n",
    "    return df_out"
   ]
  },
  {
   "cell_type": "code",
   "execution_count": 192,
   "id": "systematic-series",
   "metadata": {
    "scrolled": true
   },
   "outputs": [
    {
     "data": {
      "text/html": [
       "<div>\n",
       "<style scoped>\n",
       "    .dataframe tbody tr th:only-of-type {\n",
       "        vertical-align: middle;\n",
       "    }\n",
       "\n",
       "    .dataframe tbody tr th {\n",
       "        vertical-align: top;\n",
       "    }\n",
       "\n",
       "    .dataframe thead th {\n",
       "        text-align: right;\n",
       "    }\n",
       "</style>\n",
       "<table border=\"1\" class=\"dataframe\">\n",
       "  <thead>\n",
       "    <tr style=\"text-align: right;\">\n",
       "      <th></th>\n",
       "      <th>1</th>\n",
       "      <th>2</th>\n",
       "      <th>cluster_lab</th>\n",
       "      <th>distance</th>\n",
       "    </tr>\n",
       "  </thead>\n",
       "  <tbody>\n",
       "    <tr>\n",
       "      <th>170631</th>\n",
       "      <td>-8.639612</td>\n",
       "      <td>-28.082607</td>\n",
       "      <td>0</td>\n",
       "      <td>10.998600</td>\n",
       "    </tr>\n",
       "    <tr>\n",
       "      <th>146634</th>\n",
       "      <td>-7.644044</td>\n",
       "      <td>-29.088284</td>\n",
       "      <td>0</td>\n",
       "      <td>11.721991</td>\n",
       "    </tr>\n",
       "    <tr>\n",
       "      <th>190031</th>\n",
       "      <td>-7.751320</td>\n",
       "      <td>-27.323004</td>\n",
       "      <td>0</td>\n",
       "      <td>12.079824</td>\n",
       "    </tr>\n",
       "    <tr>\n",
       "      <th>145531</th>\n",
       "      <td>-6.897853</td>\n",
       "      <td>-33.389378</td>\n",
       "      <td>0</td>\n",
       "      <td>12.429374</td>\n",
       "    </tr>\n",
       "  </tbody>\n",
       "</table>\n",
       "</div>"
      ],
      "text/plain": [
       "               1          2  cluster_lab   distance\n",
       "170631 -8.639612 -28.082607            0  10.998600\n",
       "146634 -7.644044 -29.088284            0  11.721991\n",
       "190031 -7.751320 -27.323004            0  12.079824\n",
       "145531 -6.897853 -33.389378            0  12.429374"
      ]
     },
     "execution_count": 192,
     "metadata": {},
     "output_type": "execute_result"
    }
   ],
   "source": [
    "distance = []\n",
    "for i in cluster1.index:\n",
    "    distance.append(np.linalg.norm(np.array(dstrb_sub.loc[i][:2])-clusters_centroids[0]))\n",
    "cluster1['distance'] = distance\n",
    "cluster1.sort_values(by='distance')[:4]"
   ]
  },
  {
   "cell_type": "code",
   "execution_count": 193,
   "id": "scenic-camping",
   "metadata": {
    "scrolled": true
   },
   "outputs": [
    {
     "data": {
      "text/html": [
       "<div>\n",
       "<style scoped>\n",
       "    .dataframe tbody tr th:only-of-type {\n",
       "        vertical-align: middle;\n",
       "    }\n",
       "\n",
       "    .dataframe tbody tr th {\n",
       "        vertical-align: top;\n",
       "    }\n",
       "\n",
       "    .dataframe thead th {\n",
       "        text-align: right;\n",
       "    }\n",
       "</style>\n",
       "<table border=\"1\" class=\"dataframe\">\n",
       "  <thead>\n",
       "    <tr style=\"text-align: right;\">\n",
       "      <th></th>\n",
       "      <th>1</th>\n",
       "      <th>2</th>\n",
       "      <th>cluster_lab</th>\n",
       "      <th>distance</th>\n",
       "    </tr>\n",
       "  </thead>\n",
       "  <tbody>\n",
       "    <tr>\n",
       "      <th>882161</th>\n",
       "      <td>22.888109</td>\n",
       "      <td>25.721785</td>\n",
       "      <td>1</td>\n",
       "      <td>1.901549</td>\n",
       "    </tr>\n",
       "    <tr>\n",
       "      <th>129937</th>\n",
       "      <td>25.916182</td>\n",
       "      <td>26.259586</td>\n",
       "      <td>1</td>\n",
       "      <td>1.909100</td>\n",
       "    </tr>\n",
       "    <tr>\n",
       "      <th>694362</th>\n",
       "      <td>24.127649</td>\n",
       "      <td>24.774544</td>\n",
       "      <td>1</td>\n",
       "      <td>2.324148</td>\n",
       "    </tr>\n",
       "    <tr>\n",
       "      <th>105620</th>\n",
       "      <td>21.518116</td>\n",
       "      <td>27.020655</td>\n",
       "      <td>1</td>\n",
       "      <td>2.683797</td>\n",
       "    </tr>\n",
       "  </tbody>\n",
       "</table>\n",
       "</div>"
      ],
      "text/plain": [
       "                1          2  cluster_lab  distance\n",
       "882161  22.888109  25.721785            1  1.901549\n",
       "129937  25.916182  26.259586            1  1.909100\n",
       "694362  24.127649  24.774544            1  2.324148\n",
       "105620  21.518116  27.020655            1  2.683797"
      ]
     },
     "execution_count": 193,
     "metadata": {},
     "output_type": "execute_result"
    }
   ],
   "source": [
    "distance = []\n",
    "for i in cluster2.index:\n",
    "    distance.append(np.linalg.norm(np.array(dstrb_sub.loc[i][:2])-clusters_centroids[1]))\n",
    "cluster2['distance'] = distance\n",
    "cluster2.sort_values(by='distance')[:4]"
   ]
  },
  {
   "cell_type": "code",
   "execution_count": 194,
   "id": "analyzed-improvement",
   "metadata": {},
   "outputs": [
    {
     "data": {
      "text/html": [
       "<div>\n",
       "<style scoped>\n",
       "    .dataframe tbody tr th:only-of-type {\n",
       "        vertical-align: middle;\n",
       "    }\n",
       "\n",
       "    .dataframe tbody tr th {\n",
       "        vertical-align: top;\n",
       "    }\n",
       "\n",
       "    .dataframe thead th {\n",
       "        text-align: right;\n",
       "    }\n",
       "</style>\n",
       "<table border=\"1\" class=\"dataframe\">\n",
       "  <thead>\n",
       "    <tr style=\"text-align: right;\">\n",
       "      <th></th>\n",
       "      <th>1</th>\n",
       "      <th>2</th>\n",
       "      <th>cluster_lab</th>\n",
       "      <th>distance</th>\n",
       "    </tr>\n",
       "  </thead>\n",
       "  <tbody>\n",
       "    <tr>\n",
       "      <th>140117</th>\n",
       "      <td>-38.423340</td>\n",
       "      <td>1.955594</td>\n",
       "      <td>2</td>\n",
       "      <td>12.665303</td>\n",
       "    </tr>\n",
       "    <tr>\n",
       "      <th>663755</th>\n",
       "      <td>-37.157543</td>\n",
       "      <td>1.349628</td>\n",
       "      <td>2</td>\n",
       "      <td>12.822507</td>\n",
       "    </tr>\n",
       "    <tr>\n",
       "      <th>168240</th>\n",
       "      <td>-37.723629</td>\n",
       "      <td>0.180110</td>\n",
       "      <td>2</td>\n",
       "      <td>14.104579</td>\n",
       "    </tr>\n",
       "    <tr>\n",
       "      <th>221218</th>\n",
       "      <td>-28.703478</td>\n",
       "      <td>-1.112995</td>\n",
       "      <td>2</td>\n",
       "      <td>15.582366</td>\n",
       "    </tr>\n",
       "  </tbody>\n",
       "</table>\n",
       "</div>"
      ],
      "text/plain": [
       "                1         2  cluster_lab   distance\n",
       "140117 -38.423340  1.955594            2  12.665303\n",
       "663755 -37.157543  1.349628            2  12.822507\n",
       "168240 -37.723629  0.180110            2  14.104579\n",
       "221218 -28.703478 -1.112995            2  15.582366"
      ]
     },
     "execution_count": 194,
     "metadata": {},
     "output_type": "execute_result"
    }
   ],
   "source": [
    "distance = []\n",
    "for i in cluster3.index:\n",
    "    distance.append(np.linalg.norm(np.array(dstrb_sub.loc[i][:2])-clusters_centroids[2]))\n",
    "cluster3['distance'] = distance\n",
    "cluster3.sort_values(by='distance')[:4]"
   ]
  },
  {
   "cell_type": "code",
   "execution_count": 195,
   "id": "sudden-playing",
   "metadata": {},
   "outputs": [
    {
     "data": {
      "text/html": [
       "<div>\n",
       "<style scoped>\n",
       "    .dataframe tbody tr th:only-of-type {\n",
       "        vertical-align: middle;\n",
       "    }\n",
       "\n",
       "    .dataframe tbody tr th {\n",
       "        vertical-align: top;\n",
       "    }\n",
       "\n",
       "    .dataframe thead th {\n",
       "        text-align: right;\n",
       "    }\n",
       "</style>\n",
       "<table border=\"1\" class=\"dataframe\">\n",
       "  <thead>\n",
       "    <tr style=\"text-align: right;\">\n",
       "      <th></th>\n",
       "      <th>1</th>\n",
       "      <th>2</th>\n",
       "      <th>cluster_lab</th>\n",
       "      <th>distance</th>\n",
       "    </tr>\n",
       "  </thead>\n",
       "  <tbody>\n",
       "    <tr>\n",
       "      <th>827052</th>\n",
       "      <td>-0.504600</td>\n",
       "      <td>6.613662</td>\n",
       "      <td>3</td>\n",
       "      <td>47.402002</td>\n",
       "    </tr>\n",
       "    <tr>\n",
       "      <th>480141</th>\n",
       "      <td>-1.629279</td>\n",
       "      <td>6.477765</td>\n",
       "      <td>3</td>\n",
       "      <td>48.209573</td>\n",
       "    </tr>\n",
       "    <tr>\n",
       "      <th>825654</th>\n",
       "      <td>-1.327522</td>\n",
       "      <td>8.194724</td>\n",
       "      <td>3</td>\n",
       "      <td>49.030942</td>\n",
       "    </tr>\n",
       "    <tr>\n",
       "      <th>100610</th>\n",
       "      <td>-2.415978</td>\n",
       "      <td>7.212763</td>\n",
       "      <td>3</td>\n",
       "      <td>49.280644</td>\n",
       "    </tr>\n",
       "  </tbody>\n",
       "</table>\n",
       "</div>"
      ],
      "text/plain": [
       "               1         2  cluster_lab   distance\n",
       "827052 -0.504600  6.613662            3  47.402002\n",
       "480141 -1.629279  6.477765            3  48.209573\n",
       "825654 -1.327522  8.194724            3  49.030942\n",
       "100610 -2.415978  7.212763            3  49.280644"
      ]
     },
     "execution_count": 195,
     "metadata": {},
     "output_type": "execute_result"
    }
   ],
   "source": [
    "distance = []\n",
    "for i in cluster4.index:\n",
    "    distance.append(np.linalg.norm(np.array(dstrb_sub.loc[i][:2])-clusters_centroids[3]))\n",
    "cluster4['distance'] = distance\n",
    "cluster4.sort_values(by='distance')[:4]"
   ]
  },
  {
   "cell_type": "markdown",
   "id": "copyrighted-bacon",
   "metadata": {},
   "source": [
    "## Replication with model trained on HCP half 2"
   ]
  },
  {
   "cell_type": "code",
   "execution_count": 24,
   "id": "assigned-dairy",
   "metadata": {},
   "outputs": [],
   "source": [
    "model_dir = '/neurospin/dico/lguillon/midl_22/new_design/half2/n_4_kl_2/'\n",
    "model_2 = VAE((1, 20, 40, 40), 4, depth=3)\n",
    "model_2.load_state_dict(torch.load(model_dir + 'checkpoint.pt'))\n",
    "model_2 = model_2.to(device)"
   ]
  },
  {
   "cell_type": "code",
   "execution_count": 25,
   "id": "vocational-mention",
   "metadata": {},
   "outputs": [],
   "source": [
    "root_dir = '/neurospin/dico/lguillon/midl_22/new_design/analysis/model_2_n_4_kl_2/'\n",
    "\n",
    "weights = [1, 2]\n",
    "class_weights = torch.FloatTensor(weights).to(device)\n",
    "criterion = nn.CrossEntropyLoss(weight=class_weights, reduction='sum')\n",
    "tester = ModelTester(model=model_2, dico_set_loaders=dico_set_loaders,\n",
    "                     loss_func=criterion, kl_weight=2,\n",
    "                     n_latent=4, depth=3, root_dir=root_dir)"
   ]
  },
  {
   "cell_type": "code",
   "execution_count": 26,
   "id": "velvet-wrist",
   "metadata": {
    "scrolled": true
   },
   "outputs": [],
   "source": [
    "results_2 = tester.test()\n",
    "encoded_2 = {loader_name:[results_2[loader_name][k] for k in results_2[loader_name].keys()] for loader_name in dico_set_loaders.keys()}\n",
    "df_encoded_2 = pd.DataFrame()\n",
    "df_encoded_2['latent'] = encoded_2['data']\n",
    "X_2 = np.array(list(df_encoded_2['latent']))\n",
    "labels_2 = list(results_2['data'].keys())"
   ]
  },
  {
   "cell_type": "code",
   "execution_count": 238,
   "id": "varied-moses",
   "metadata": {},
   "outputs": [
    {
     "data": {
      "text/plain": [
       "<matplotlib.collections.PathCollection at 0x7f45c0068940>"
      ]
     },
     "execution_count": 238,
     "metadata": {},
     "output_type": "execute_result"
    },
    {
     "data": {
      "image/png": "[encoded data removed]",
      "text/plain": [
       "<Figure size 432x288 with 1 Axes>"
      ]
     },
     "metadata": {
      "needs_background": "light"
     },
     "output_type": "display_data"
    }
   ],
   "source": [
    "from sklearn.manifold import TSNE\n",
    "X_embedded_2 = TSNE(n_components=2, perplexity=15).fit_transform(X_2)\n",
    "\n",
    "x = [X_embedded_2[k][0] for k in range(len(X_embedded_2))]\n",
    "y = [X_embedded_2[k][1] for k in range(len(X_embedded_2))]\n",
    "\n",
    "fig = plt.figure()\n",
    "ax = fig.add_subplot(111)\n",
    "ax.scatter(x, y)"
   ]
  },
  {
   "cell_type": "code",
   "execution_count": 29,
   "id": "moved-original",
   "metadata": {},
   "outputs": [
    {
     "name": "stdout",
     "output_type": "stream",
     "text": [
      "21\n",
      "4\n"
     ]
    }
   ],
   "source": [
    "af = AffinityPropagation(random_state=20, max_iter=1000).fit(X_embedded_2)\n",
    "cluster_labels_ini = af.labels_\n",
    "initial_centers = af.cluster_centers_indices_\n",
    "n_clusters_ = len(initial_centers)\n",
    "print(n_clusters_)\n",
    "x_cluster_label = af.predict(X_embedded_2)\n",
    "while n_clusters_ > 7:\n",
    "    af = AffinityPropagation(random_state=0).fit(X_embedded_2[af.cluster_centers_indices_])\n",
    "    center_cluster_labels = af.labels_\n",
    "    x_cluster_label = af.predict(X_embedded_2)\n",
    "    n_clusters_ = len(af.cluster_centers_indices_)\n",
    "    print(n_clusters_)\n",
    "    clusters_centroids = af.cluster_centers_"
   ]
  },
  {
   "cell_type": "code",
   "execution_count": 239,
   "id": "heavy-bracket",
   "metadata": {},
   "outputs": [],
   "source": [
    "dstrb_sub_2 = pd.DataFrame(X_embedded_2, index=labels_2, columns=[1, 2])\n",
    "dstrb_sub_2['cluster_lab_half2'] = x_cluster_label\n",
    "dstrb_sub_2['subjects'] = dstrb_sub_2.index"
   ]
  },
  {
   "cell_type": "code",
   "execution_count": 31,
   "id": "blind-clearance",
   "metadata": {},
   "outputs": [
    {
     "data": {
      "image/png": "[encoded data removed]",
      "text/plain": [
       "<Figure size 432x288 with 1 Axes>"
      ]
     },
     "metadata": {
      "needs_background": "light"
     },
     "output_type": "display_data"
    }
   ],
   "source": [
    "arr = np.array([np.array([dstrb_sub_2[k][i] for k in dstrb_sub_2.columns[:2]]) for i in range(len(dstrb_sub_2))])\n",
    "\n",
    "color_dict = {0:'blue',1: 'red', 2:'forestgreen', 3:'magenta'}\n",
    "fig, ax = plt.subplots()\n",
    "\n",
    "for g in np.unique([dstrb_sub_2.cluster_lab_half2]):\n",
    "    ix = np.where(dstrb_sub_2.cluster_lab_half2 == g)\n",
    "    x = [arr[ix][k][0] for k in range(len(ix[0]))]\n",
    "    y = [arr[ix][k][1] for k in range(len(ix[0]))]\n",
    "    g_lab= f\"cluster {g}\"\n",
    "    ax.scatter(x, y, c = color_dict[g], label = g_lab)\n",
    "\n",
    "plt.legend(bbox_to_anchor=(1.04,1), borderaxespad=0)\n",
    "\n",
    "plt.xlabel(f'tSNE dimension 1', fontsize=14)\n",
    "plt.ylabel(f'tSNE dimension 2', fontsize=14)\n",
    "plt.show()"
   ]
  },
  {
   "cell_type": "code",
   "execution_count": 241,
   "id": "acknowledged-brazil",
   "metadata": {},
   "outputs": [],
   "source": [
    "m1 = pd.merge(dstrb_sub, dstrb_sub_2, left_on=dstrb_sub.index, right_on=dstrb_sub_2.subjects)"
   ]
  },
  {
   "cell_type": "code",
   "execution_count": 196,
   "id": "broad-louisiana",
   "metadata": {},
   "outputs": [
    {
     "data": {
      "image/png": "[encoded data removed]",
      "text/plain": [
       "<Figure size 432x288 with 1 Axes>"
      ]
     },
     "metadata": {
      "needs_background": "light"
     },
     "output_type": "display_data"
    }
   ],
   "source": [
    "arr = np.array([np.array([m1[k][i] for k in m1.columns[1:3]]) for i in range(len(m1))])\n",
    "\n",
    "color_dict = {0:'forestgreen',1: 'red', 2:'blue', 3:'magenta'}\n",
    "fig, ax = plt.subplots()\n",
    "\n",
    "for g in np.unique([m1.cluster_lab_half2]):\n",
    "    ix = np.where(m1.cluster_lab_half2 == g)\n",
    "    x = [arr[ix][k][0] for k in range(len(ix[0]))]\n",
    "    y = [arr[ix][k][1] for k in range(len(ix[0]))]\n",
    "    g_lab= f\"cluster {g}\"\n",
    "    ax.scatter(x, y, c = color_dict[g], label = g_lab)\n",
    "\n",
    "plt.legend(bbox_to_anchor=(1.04,1), borderaxespad=0)\n",
    "\n",
    "plt.xlabel(f'tSNE dimension 1', fontsize=14)\n",
    "plt.ylabel(f'tSNE dimension 2', fontsize=14)\n",
    "plt.show()"
   ]
  },
  {
   "cell_type": "code",
   "execution_count": 233,
   "id": "military-exhibition",
   "metadata": {},
   "outputs": [
    {
     "data": {
      "text/html": [
       "<div>\n",
       "<style scoped>\n",
       "    .dataframe tbody tr th:only-of-type {\n",
       "        vertical-align: middle;\n",
       "    }\n",
       "\n",
       "    .dataframe tbody tr th {\n",
       "        vertical-align: top;\n",
       "    }\n",
       "\n",
       "    .dataframe thead th {\n",
       "        text-align: right;\n",
       "    }\n",
       "</style>\n",
       "<table border=\"1\" class=\"dataframe\">\n",
       "  <thead>\n",
       "    <tr style=\"text-align: right;\">\n",
       "      <th></th>\n",
       "      <th>key_0</th>\n",
       "      <th>1_x</th>\n",
       "      <th>2_x</th>\n",
       "      <th>cluster_lab</th>\n",
       "      <th>1_y</th>\n",
       "      <th>2_y</th>\n",
       "      <th>cluster_lab_half2</th>\n",
       "      <th>subjects</th>\n",
       "    </tr>\n",
       "  </thead>\n",
       "  <tbody>\n",
       "    <tr>\n",
       "      <th>0</th>\n",
       "      <td>175136</td>\n",
       "      <td>6.962903</td>\n",
       "      <td>-26.369091</td>\n",
       "      <td>0</td>\n",
       "      <td>14.104691</td>\n",
       "      <td>-36.128517</td>\n",
       "      <td>2</td>\n",
       "      <td>175136</td>\n",
       "    </tr>\n",
       "    <tr>\n",
       "      <th>1</th>\n",
       "      <td>308129</td>\n",
       "      <td>-22.345957</td>\n",
       "      <td>21.936989</td>\n",
       "      <td>3</td>\n",
       "      <td>-37.297073</td>\n",
       "      <td>39.081779</td>\n",
       "      <td>3</td>\n",
       "      <td>308129</td>\n",
       "    </tr>\n",
       "    <tr>\n",
       "      <th>2</th>\n",
       "      <td>704238</td>\n",
       "      <td>3.740025</td>\n",
       "      <td>-20.824774</td>\n",
       "      <td>0</td>\n",
       "      <td>29.187534</td>\n",
       "      <td>-30.684566</td>\n",
       "      <td>2</td>\n",
       "      <td>704238</td>\n",
       "    </tr>\n",
       "    <tr>\n",
       "      <th>3</th>\n",
       "      <td>169141</td>\n",
       "      <td>-32.799442</td>\n",
       "      <td>-24.940620</td>\n",
       "      <td>2</td>\n",
       "      <td>-18.650368</td>\n",
       "      <td>-36.579739</td>\n",
       "      <td>0</td>\n",
       "      <td>169141</td>\n",
       "    </tr>\n",
       "    <tr>\n",
       "      <th>4</th>\n",
       "      <td>195445</td>\n",
       "      <td>-18.689825</td>\n",
       "      <td>22.340872</td>\n",
       "      <td>3</td>\n",
       "      <td>-16.372377</td>\n",
       "      <td>38.005486</td>\n",
       "      <td>3</td>\n",
       "      <td>195445</td>\n",
       "    </tr>\n",
       "  </tbody>\n",
       "</table>\n",
       "</div>"
      ],
      "text/plain": [
       "    key_0        1_x        2_x  cluster_lab        1_y        2_y  \\\n",
       "0  175136   6.962903 -26.369091            0  14.104691 -36.128517   \n",
       "1  308129 -22.345957  21.936989            3 -37.297073  39.081779   \n",
       "2  704238   3.740025 -20.824774            0  29.187534 -30.684566   \n",
       "3  169141 -32.799442 -24.940620            2 -18.650368 -36.579739   \n",
       "4  195445 -18.689825  22.340872            3 -16.372377  38.005486   \n",
       "\n",
       "   cluster_lab_half2 subjects  \n",
       "0                  2   175136  \n",
       "1                  3   308129  \n",
       "2                  2   704238  \n",
       "3                  0   169141  \n",
       "4                  3   195445  "
      ]
     },
     "execution_count": 233,
     "metadata": {},
     "output_type": "execute_result"
    }
   ],
   "source": [
    "m1.head()"
   ]
  },
  {
   "cell_type": "code",
   "execution_count": 234,
   "id": "clinical-malaysia",
   "metadata": {},
   "outputs": [
    {
     "data": {
      "text/plain": [
       "0.5472727272727272"
      ]
     },
     "execution_count": 234,
     "metadata": {},
     "output_type": "execute_result"
    }
   ],
   "source": [
    "metrics.accuracy_score(m1.cluster_lab, m1.cluster_lab_half2)"
   ]
  },
  {
   "cell_type": "code",
   "execution_count": 235,
   "id": "consecutive-bones",
   "metadata": {},
   "outputs": [
    {
     "data": {
      "text/plain": [
       "0.3624866033734658"
      ]
     },
     "execution_count": 235,
     "metadata": {},
     "output_type": "execute_result"
    }
   ],
   "source": [
    "metrics.adjusted_rand_score(m1.cluster_lab, m1.cluster_lab_half2)"
   ]
  },
  {
   "cell_type": "code",
   "execution_count": 273,
   "id": "macro-tutorial",
   "metadata": {},
   "outputs": [
    {
     "data": {
      "text/plain": [
       "0.5481331720731915"
      ]
     },
     "execution_count": 273,
     "metadata": {},
     "output_type": "execute_result"
    }
   ],
   "source": [
    "metrics.balanced_accuracy_score(m1.cluster_lab_half2, m1.cluster_lab)"
   ]
  },
  {
   "cell_type": "code",
   "execution_count": 275,
   "id": "signed-brief",
   "metadata": {},
   "outputs": [
    {
     "data": {
      "text/plain": [
       "0.7562775293922835"
      ]
     },
     "execution_count": 275,
     "metadata": {},
     "output_type": "execute_result"
    }
   ],
   "source": [
    "metrics.rand_score(m1.cluster_lab_half2,m1.cluster_lab,)"
   ]
  },
  {
   "cell_type": "code",
   "execution_count": 244,
   "id": "behavioral-bachelor",
   "metadata": {},
   "outputs": [
    {
     "data": {
      "image/png": "[encoded data removed]",
      "text/plain": [
       "<Figure size 432x288 with 1 Axes>"
      ]
     },
     "metadata": {
      "needs_background": "light"
     },
     "output_type": "display_data"
    }
   ],
   "source": [
    "arr = np.array([np.array([m1[k][i] for k in m1.columns[4:6]]) for i in range(len(m1))])\n",
    "\n",
    "color_dict = {0:'forestgreen',1: 'steelblue', 2:'indigo', 3:'magenta'}\n",
    "fig, ax = plt.subplots()\n",
    "\n",
    "for g in np.unique([m1.cluster_lab]):\n",
    "    ix = np.where(m1.cluster_lab == g)\n",
    "    x = [arr[ix][k][0] for k in range(len(ix[0]))]\n",
    "    y = [arr[ix][k][1] for k in range(len(ix[0]))]\n",
    "    g_lab= f\"cluster {g}\"\n",
    "    ax.scatter(x, y, c = color_dict[g], label = g_lab)\n",
    "\n",
    "plt.xlabel(f'tSNE dimension 1', fontsize=14)\n",
    "plt.ylabel(f'tSNE dimension 2', fontsize=14)\n",
    "plt.show()"
   ]
  }
 ],
 "metadata": {
  "kernelspec": {
   "display_name": "Python 3",
   "language": "python",
   "name": "python3"
  },
  "language_info": {
   "codemirror_mode": {
    "name": "ipython",
    "version": 3
   },
   "file_extension": ".py",
   "mimetype": "text/x-python",
   "name": "python",
   "nbconvert_exporter": "python",
   "pygments_lexer": "ipython3",
   "version": "3.6.9"
  }
 },
 "nbformat": 4,
 "nbformat_minor": 5
}

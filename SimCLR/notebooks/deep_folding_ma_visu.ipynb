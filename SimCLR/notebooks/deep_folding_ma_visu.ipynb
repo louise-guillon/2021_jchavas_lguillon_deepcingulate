{
 "cells": [
  {
   "cell_type": "markdown",
   "metadata": {},
   "source": [
    "# Moving Averages CINGULATE region"
   ]
  },
  {
   "cell_type": "markdown",
   "metadata": {},
   "source": [
    "### 1) Imports"
   ]
  },
  {
   "cell_type": "markdown",
   "metadata": {},
   "source": []
  },
  {
   "cell_type": "code",
   "execution_count": 46,
   "metadata": {},
   "outputs": [],
   "source": [
    "import os\n",
    "import glob\n",
    "import sys\n",
    "import json\n",
    "\n",
    "p = os.path.abspath('../')\n",
    "if p not in sys.path:\n",
    "    sys.path.append(p)"
   ]
  },
  {
   "cell_type": "code",
   "execution_count": 47,
   "metadata": {},
   "outputs": [],
   "source": [
    "import moving_averages as ma\n",
    "import colorado as cld\n",
    "import dico_toolbox as dtx\n",
    "from tqdm import tqdm\n",
    "\n",
    "import pandas as pd\n",
    "import numpy as np\n",
    "from scipy.spatial import distance\n",
    "\n",
    "import plotly.graph_objects as go\n",
    "import pickle\n",
    "import matplotlib.pyplot as plt\n",
    "\n",
    "from soma import aims\n",
    "\n",
    "import torch\n",
    "\n",
    "from sklearn.cluster import KMeans, SpectralClustering, AffinityPropagation\n",
    "from sklearn import metrics\n",
    "\n",
    "import matplotlib.cm as cm\n",
    "\n",
    "from hydra import initialize, initialize_config_module, initialize_config_dir, compose\n",
    "from omegaconf import OmegaConf, DictConfig"
   ]
  },
  {
   "cell_type": "code",
   "execution_count": 48,
   "metadata": {},
   "outputs": [],
   "source": [
    "def closest_distance(centroid, df):\n",
    "    \"\"\"Returns closest point to centroid of a given cluster\n",
    "    /!\\ central_point is part of the defined set of points\n",
    "    Args:\n",
    "        IN: centroid: tuple of coordinates of centroid\n",
    "            df: pandas.DataFrame with index corresponding to subjects and as many columns as coordinates\n",
    "        OUT: central_point: subject ID corresponding to closest point to the centroid\n",
    "    \"\"\"\n",
    "    # df must have as many columns as dimensions to consider\n",
    "    distances = {}\n",
    "    # Get distances to centroid for each point\n",
    "    for sub in list(df.index):\n",
    "        pos = [df.loc[sub][k] for k in range(1, len(df.columns)+1)]\n",
    "        distances[sub] = distance.euclidean(pos, centroid)\n",
    "    # Get closest point to centroid\n",
    "    central_point = min(distances, key=distances.get)\n",
    "    return central_point"
   ]
  },
  {
   "cell_type": "code",
   "execution_count": 49,
   "metadata": {},
   "outputs": [],
   "source": [
    "path = '/neurospin/dico/data/deep_folding/current/crops/CINGULATE/mask/sulcus_based/2mm/centered_combined/hcp/Rcrops/'"
   ]
  },
  {
   "cell_type": "markdown",
   "metadata": {},
   "source": [
    "### 2) Loading of subjects's distribution in the latent space\n",
    "DataFrame is obtained during analysis of beta-VAE latent space (2 dimensions) for CINGULATE crops, according to the following steps:\n",
    "- loading of trained model\n",
    "- encoding of test controls and asymmetry benchmark subjects"
   ]
  },
  {
   "cell_type": "code",
   "execution_count": 50,
   "metadata": {},
   "outputs": [
    {
     "name": "stdout",
     "output_type": "stream",
     "text": [
      "cuda:0\n"
     ]
    }
   ],
   "source": [
    "if torch.cuda.is_available():\n",
    "    device = \"cuda:0\"\n",
    "print(device)"
   ]
  },
  {
   "cell_type": "code",
   "execution_count": 51,
   "metadata": {},
   "outputs": [],
   "source": [
    "# def process_config(config) -> DictConfig:\n",
    "#     \"\"\"Does whatever operations on the config file\n",
    "#     \"\"\"\n",
    "\n",
    "#     print(OmegaConf.to_yaml(config))\n",
    "#     print(\"Working directory : {}\".format(os.getcwd()))\n",
    "#     config.input_size = eval(config.input_size)\n",
    "#     print(\"config type: {}\".format(type(config)))\n",
    "#     return config"
   ]
  },
  {
   "cell_type": "code",
   "execution_count": 52,
   "metadata": {},
   "outputs": [],
   "source": [
    "# from hydra.core.global_hydra import GlobalHydra\n",
    "# model_dir = 'Runs/28_cingulate_back_to_2mm/Output/t-0.1/n-004_o-4'\n",
    "\n",
    "# GlobalHydra.instance().clear()\n",
    "# # Initialize hydra\n",
    "# initialize(config_path=f\"{model_dir}/.hydra\")\n",
    "# # compose from config.yaml, this composes a bunch of defaults in:\n",
    "# config=compose(config_name=\"config.yaml\")\n",
    "# config = process_config(config)"
   ]
  },
  {
   "cell_type": "code",
   "execution_count": 53,
   "metadata": {},
   "outputs": [
    {
     "name": "stdout",
     "output_type": "stream",
     "text": [
      "torch.Size([550, 4])\n"
     ]
    }
   ],
   "source": [
    "# We load the mebeddings\n",
    "result_dir = '/host/volatile/jc225751/Runs/29_MIDL_2022_clean/Output/t-0.1/n-004_o-4'\n",
    "val_embeddings_file = f\"{result_dir}/train_val_embeddings.pt\"\n",
    "embeddings = torch.load(val_embeddings_file)\n",
    "print(embeddings.shape)"
   ]
  },
  {
   "cell_type": "code",
   "execution_count": 54,
   "metadata": {},
   "outputs": [
    {
     "name": "stdout",
     "output_type": "stream",
     "text": [
      "['129634', '136833', '206222', '138837', '987983', '562345', '182032', '275645', '151021', '177342', '578057', '186444', '206525', '131621', '887373', '412528', '869472', '573249', '151930', '529953', '120515', '770352', '667056', '966975', '127731', '123824', '211316', '192439', '705341', '174437', '169949', '137431', '121315', '172635', '146129', '571144', '102816', '123925', '210415', '132118', '185442', '115825', '894067', '206323', '120010', '180937', '421226', '204622', '214524', '103212', '959574', '118124', '208428', '126628', '872158', '227533', '633847', '389357', '227432', '209834', '151728', '137633', '148941', '196750', '160931', '896879', '889579', '877168', '395756', '771354', '101107', '173940', '150423', '111009', '129937', '205220', '185846', '124826', '597869', '748662', '149337', '826353', '792766', '146735', '462139', '133928', '161832', '114924', '318637', '644044', '151526', '106521', '825654', '200210', '849971', '365343', '196346', '517239', '115219', '286650', '102008', '104820', '360030', '146432', '519950', '134627', '753150', '144832', '204016', '627549', '208024', '136732', '894774', '828862', '129432', '103010', '144933', '141422', '463040', '362034', '204218', '820745', '118932', '173132', '825553', '378756', '910241', '562446', '107422', '152831', '557857', '158035', '654754', '192136', '578158', '113922', '206828', '117021', '164636', '877269', '761957', '397154', '303624', '149539', '510225', '173637', '173435', '479762', '118528', '173839', '165941', '305830', '136126', '194443', '782157', '159340', '116221', '239944', '106016', '191336', '173233', '683256', '381038', '353740', '214625', '675661', '139637', '102614', '286347', '707749', '141826', '953764', '116423', '793465', '136631', '154835', '142424', '119833', '729254', '147636', '190031', '164030', '206727', '133019', '114621', '677766', '199655', '233326', '211922', '128026', '634748', '148335', '753251', '814649', '249947', '176845', '812746', '122317', '656253', '406836', '611938', '122822', '499566', '140117', '804646', '173738', '878877', '165436', '113619', '212217', '135528', '117930', '142626', '209329', '176744', '749058', '561242', '204420', '436845', '152225', '121820', '994273', '182840', '550439', '387959', '217126', '150625', '118831', '127933', '329844', '749361', '207628', '766563', '115017', '609143', '105620', '210011', '552544', '573451', '553344', '177645', '186040', '133827', '124220', '174841', '627852', '512835', '153429', '126325', '157336', '576255', '901139', '872562', '224022', '445543', '197651', '121921', '177140', '151324', '168745', '366042', '599671', '568963', '138231', '500222', '513130', '154431', '113215', '150928', '942658', '930449', '694362', '873968', '116524', '159138', '168038', '114217', '178950', '100307', '125222', '154229', '145834', '720337', '143325', '199150', '298051', '141119', '162733', '189652', '952863', '339847', '394956', '198047', '779370', '170631', '810843', '664757', '201111', '211821', '130114', '325129', '767464', '300618', '185947', '127630', '186848', '197449', '827052', '414229', '195445', '818859', '168947', '211215', '185038', '486759', '114318', '213421', '645551', '123723', '113316', '361941', '251833', '107018', '133625', '784565', '336841', '208630', '257542', '129533', '715950', '580650', '179245', '690152', '169141', '814548', '115320', '198653', '194847', '111211', '106319', '356948', '199251', '163836', '148840', '129028', '217429', '120414', '117122', '113821', '131722', '248339', '580751', '171431', '131217', '171633', '140319', '169747', '583858', '162026', '146836', '221218', '255740', '237334', '212015', '540436', '159845', '214221', '208327', '167238', '201515', '196144', '124422', '181232', '149741', '263436', '159239', '380036', '205725', '173536', '151223', '951457', '146533', '108525', '523032', '138534', '190132', '871762', '833148', '100610', '208226', '922854', '882161', '165638', '183741', '202820', '107725', '156334', '134425', '901442', '650746', '201818', '993675', '529549', '157942', '751550', '145531', '102513', '604537', '200917', '555348', '208125', '392447', '167440', '160830', '108222', '159946', '136227', '614439', '105216', '107220', '193845', '169545', '162329', '586460', '424939', '118023', '748258', '167036', '180432', '153227', '725751', '146634', '128632', '134324', '316835', '115724', '687163', '140925', '686969', '530635', '656657', '103111', '973770', '616645', '196952', '129129', '151425', '588565', '510326', '153025', '118225', '152427', '134728', '584355', '810439', '111312', '145127', '700634', '188751', '107321', '309636', '172130', '587664', '109123', '209228', '987074', '615441', '894673', '137936', '175136', '891667', '888678', '137532', '188145', '144125', '180533', '620434', '371843', '878776', '733548', '144731', '168240', '203721', '692964', '213522', '626648', '880157', '153934', '200311', '212419', '123117', '702133', '187345', '101309', '555651', '168139', '346137', '164939', '308129', '704238', '919966', '194645', '480141', '912447', '156435', '200513', '121719', '154330', '110007', '856463', '119126', '361234', '943862', '151829', '962058', '558960', '406432', '131924', '144226', '270332', '189450', '268850', '176441', '199958', '189349', '679770', '571548', '366446', '933253', '122418', '103515', '723141', '598568', '352132', '150019', '123420', '349244', '163331', '663755', '623844', '395958', '154734', '385046', '200008', '792867', '618952', '433839', '188448', '166640', '541943']\n"
     ]
    }
   ],
   "source": [
    "# We load the labels\n",
    "with open(f\"{result_dir}/train_val_filenames.json\", 'r') as f:\n",
    "    labels = json.load(f)\n",
    "print(labels)"
   ]
  },
  {
   "cell_type": "code",
   "execution_count": 55,
   "metadata": {},
   "outputs": [
    {
     "name": "stdout",
     "output_type": "stream",
     "text": [
      "clusters centroids = (3, 4)\n",
      "Average silhouette score: 0.43807780742645264\n"
     ]
    }
   ],
   "source": [
    "kmeans = KMeans(n_clusters=3, random_state=0).fit(embeddings)\n",
    "cluster_labels = kmeans.labels_\n",
    "clusters_centroids = kmeans.cluster_centers_\n",
    "print(f\"clusters centroids = {clusters_centroids.shape}\")\n",
    "print(f\"Average silhouette score: {metrics.silhouette_score(embeddings, cluster_labels)}\")\n"
   ]
  },
  {
   "cell_type": "code",
   "execution_count": 56,
   "metadata": {},
   "outputs": [],
   "source": [
    "dstrb_sub = pd.DataFrame(embeddings.numpy(), index=labels, columns=[1, 2, 3, 4])\n",
    "dstrb_sub['cluster_lab'] = cluster_labels"
   ]
  },
  {
   "cell_type": "code",
   "execution_count": 57,
   "metadata": {},
   "outputs": [
    {
     "data": {
      "text/html": "<div>\n<style scoped>\n    .dataframe tbody tr th:only-of-type {\n        vertical-align: middle;\n    }\n\n    .dataframe tbody tr th {\n        vertical-align: top;\n    }\n\n    .dataframe thead th {\n        text-align: right;\n    }\n</style>\n<table border=\"1\" class=\"dataframe\">\n  <thead>\n    <tr style=\"text-align: right;\">\n      <th></th>\n      <th>1</th>\n      <th>2</th>\n      <th>3</th>\n      <th>4</th>\n      <th>cluster_lab</th>\n    </tr>\n  </thead>\n  <tbody>\n    <tr>\n      <th>129634</th>\n      <td>-1.579225</td>\n      <td>5.908354</td>\n      <td>11.362507</td>\n      <td>9.859923</td>\n      <td>2</td>\n    </tr>\n    <tr>\n      <th>136833</th>\n      <td>-1.279658</td>\n      <td>7.395753</td>\n      <td>10.953645</td>\n      <td>10.460653</td>\n      <td>2</td>\n    </tr>\n    <tr>\n      <th>206222</th>\n      <td>-1.124506</td>\n      <td>1.848059</td>\n      <td>1.461904</td>\n      <td>5.974949</td>\n      <td>1</td>\n    </tr>\n    <tr>\n      <th>138837</th>\n      <td>-1.068878</td>\n      <td>5.266653</td>\n      <td>0.712424</td>\n      <td>4.285092</td>\n      <td>1</td>\n    </tr>\n    <tr>\n      <th>987983</th>\n      <td>-0.843226</td>\n      <td>3.528162</td>\n      <td>4.100409</td>\n      <td>-0.345357</td>\n      <td>0</td>\n    </tr>\n  </tbody>\n</table>\n</div>",
      "text/plain": "               1         2          3          4  cluster_lab\n129634 -1.579225  5.908354  11.362507   9.859923            2\n136833 -1.279658  7.395753  10.953645  10.460653            2\n206222 -1.124506  1.848059   1.461904   5.974949            1\n138837 -1.068878  5.266653   0.712424   4.285092            1\n987983 -0.843226  3.528162   4.100409  -0.345357            0"
     },
     "execution_count": 57,
     "metadata": {},
     "output_type": "execute_result"
    }
   ],
   "source": [
    "dstrb_sub.head()"
   ]
  },
  {
   "cell_type": "code",
   "execution_count": 58,
   "metadata": {},
   "outputs": [
    {
     "name": "stdout",
     "output_type": "stream",
     "text": [
      "cluster's centroids coordinates: \n",
      " [[-1.22980528  2.6243706   7.47857388  2.4148082 ]\n",
      " [-1.15496273  4.24738598  3.15934749  6.16005211]\n",
      " [-1.3375179   6.78827754 11.85133373  9.31367588]]\n"
     ]
    }
   ],
   "source": [
    "clusters_centroids = kmeans.cluster_centers_\n",
    "print(f\"cluster's centroids coordinates: \\n {clusters_centroids}\")"
   ]
  },
  {
   "cell_type": "code",
   "execution_count": 59,
   "metadata": {},
   "outputs": [
    {
     "name": "stdout",
     "output_type": "stream",
     "text": [
      "Closest subject to centroid of cluster 1 is 749058\n",
      "Closest subject to centroid of cluster 2 is 966975\n"
     ]
    }
   ],
   "source": [
    "central_1= closest_distance(clusters_centroids[0], dstrb_sub.drop(['cluster_lab'], axis=1))\n",
    "print(f\"Closest subject to centroid of cluster 1 is {central_1}\")\n",
    "central_2 = closest_distance(clusters_centroids[1], dstrb_sub.drop(['cluster_lab'], axis=1))\n",
    "print(f\"Closest subject to centroid of cluster 2 is {central_2}\")"
   ]
  },
  {
   "cell_type": "code",
   "execution_count": 60,
   "metadata": {},
   "outputs": [
    {
     "data": {
      "image/png": "[encoded data removed]",
      "text/plain": "<Figure size 432x288 with 1 Axes>"
     },
     "metadata": {
      "needs_background": "light"
     },
     "output_type": "display_data"
    }
   ],
   "source": [
    "arr = np.array([np.array([dstrb_sub[k][i] for k in dstrb_sub.columns[0:2]]) for i in range(len(dstrb_sub))])\n",
    "\n",
    "color_dict = {0: 'red', 1:'blue', 2:'green'}\n",
    "fig, ax = plt.subplots()\n",
    "\n",
    "for g in np.unique([dstrb_sub.cluster_lab]):\n",
    "    ix = np.where(dstrb_sub.cluster_lab == g)\n",
    "    x = [arr[ix][k][0] for k in range(len(ix[0]))]\n",
    "    y = [arr[ix][k][1] for k in range(len(ix[0]))]\n",
    "    if g =='benchmark':\n",
    "        g_lab = 'benchmark asymmetry'\n",
    "    else:\n",
    "        g_lab=g\n",
    "    ax.scatter(x, y, c = color_dict[g], label = g_lab)\n",
    "    \n",
    "ax.scatter(clusters_centroids[0][0], clusters_centroids[0][1], color='crimson', marker='X')\n",
    "ax.scatter(clusters_centroids[1][0], clusters_centroids[1][1], color='navy', marker='X')\n",
    "\n",
    "plt.xlabel(f'dimension 1', fontsize=14)\n",
    "plt.ylabel(f'dimension 2', fontsize=14)\n",
    "plt.legend()\n",
    "plt.show()"
   ]
  },
  {
   "cell_type": "code",
   "execution_count": 61,
   "metadata": {},
   "outputs": [
    {
     "data": {
      "text/html": "<div>\n<style scoped>\n    .dataframe tbody tr th:only-of-type {\n        vertical-align: middle;\n    }\n\n    .dataframe tbody tr th {\n        vertical-align: top;\n    }\n\n    .dataframe thead th {\n        text-align: right;\n    }\n</style>\n<table border=\"1\" class=\"dataframe\">\n  <thead>\n    <tr style=\"text-align: right;\">\n      <th></th>\n      <th>1</th>\n      <th>2</th>\n      <th>3</th>\n      <th>4</th>\n      <th>cluster_lab</th>\n    </tr>\n  </thead>\n  <tbody>\n    <tr>\n      <th>129634</th>\n      <td>-1.579225</td>\n      <td>5.908354</td>\n      <td>11.362507</td>\n      <td>9.859923</td>\n      <td>2</td>\n    </tr>\n    <tr>\n      <th>136833</th>\n      <td>-1.279658</td>\n      <td>7.395753</td>\n      <td>10.953645</td>\n      <td>10.460653</td>\n      <td>2</td>\n    </tr>\n    <tr>\n      <th>206222</th>\n      <td>-1.124506</td>\n      <td>1.848059</td>\n      <td>1.461904</td>\n      <td>5.974949</td>\n      <td>1</td>\n    </tr>\n    <tr>\n      <th>138837</th>\n      <td>-1.068878</td>\n      <td>5.266653</td>\n      <td>0.712424</td>\n      <td>4.285092</td>\n      <td>1</td>\n    </tr>\n    <tr>\n      <th>987983</th>\n      <td>-0.843226</td>\n      <td>3.528162</td>\n      <td>4.100409</td>\n      <td>-0.345357</td>\n      <td>0</td>\n    </tr>\n  </tbody>\n</table>\n</div>",
      "text/plain": "               1         2          3          4  cluster_lab\n129634 -1.579225  5.908354  11.362507   9.859923            2\n136833 -1.279658  7.395753  10.953645  10.460653            2\n206222 -1.124506  1.848059   1.461904   5.974949            1\n138837 -1.068878  5.266653   0.712424   4.285092            1\n987983 -0.843226  3.528162   4.100409  -0.345357            0"
     },
     "execution_count": 61,
     "metadata": {},
     "output_type": "execute_result"
    }
   ],
   "source": [
    "dstrb_sub.head()"
   ]
  },
  {
   "cell_type": "code",
   "execution_count": 62,
   "metadata": {},
   "outputs": [
    {
     "data": {
      "text/plain": "'129634'"
     },
     "execution_count": 62,
     "metadata": {},
     "output_type": "execute_result"
    }
   ],
   "source": [
    "dstrb_sub.index[0]"
   ]
  },
  {
   "cell_type": "code",
   "execution_count": 63,
   "metadata": {
    "scrolled": true
   },
   "outputs": [
    {
     "data": {
      "image/png": "[encoded data removed]",
      "text/plain": "<Figure size 432x288 with 1 Axes>"
     },
     "metadata": {
      "needs_background": "light"
     },
     "output_type": "display_data"
    }
   ],
   "source": [
    "arr = np.array([np.array([dstrb_sub[k][i] for k in dstrb_sub.columns[2:4]]) for i in range(len(dstrb_sub))])\n",
    "\n",
    "color_dict = {0: 'red', 1:'blue', 2:'green'}\n",
    "fig, ax = plt.subplots()\n",
    "\n",
    "for g in np.unique([dstrb_sub.cluster_lab]):\n",
    "    ix = np.where(dstrb_sub.cluster_lab == g)\n",
    "    x = [arr[ix][k][0] for k in range(len(ix[0]))]\n",
    "    y = [arr[ix][k][1] for k in range(len(ix[0]))]\n",
    "    ax.scatter(x, y, c = color_dict[g], label = g)\n",
    "    \n",
    "ax.scatter(clusters_centroids[0][2], clusters_centroids[0][3], color='crimson', marker='X')\n",
    "ax.scatter(clusters_centroids[1][2], clusters_centroids[1][3], color='navy', marker='X')\n",
    "# ax.scatter(dstrb_sub[3]['113316'], dstrb_sub[4]['113316'], color='orange')\n",
    "# ax.scatter(dstrb_sub[3]['144125'], dstrb_sub[4]['144125'], color='forestgreen')\n",
    "# ax.scatter(dstrb_sub[3]['217126'], dstrb_sub[4]['217126'], color='black')\n",
    "\n",
    "plt.xlabel(f'dimension 3', fontsize=14)\n",
    "plt.ylabel(f'dimension 4', fontsize=14)\n",
    "plt.legend()\n",
    "plt.show()"
   ]
  },
  {
   "cell_type": "code",
   "execution_count": 64,
   "metadata": {},
   "outputs": [
    {
     "data": {
      "image/png": "[encoded data removed]",
      "text/plain": "<Figure size 432x288 with 1 Axes>"
     },
     "metadata": {
      "needs_background": "light"
     },
     "output_type": "display_data"
    }
   ],
   "source": [
    "fig, ax = plt.subplots()\n",
    "for g in np.unique([dstrb_sub.cluster_lab]):\n",
    "    ix = np.where(dstrb_sub.cluster_lab == g)\n",
    "    x = [arr[ix][k][0] for k in range(len(ix[0]))]\n",
    "    y = [arr[ix][k][1] for k in range(len(ix[0]))]\n",
    "    ax.scatter(x, y, c = color_dict[g], label = g)\n",
    "    for k, i in zip(range(len(ix[0])), ix[0]):\n",
    "        ax.annotate(dstrb_sub.index[i], (x[k], y[k]),fontsize=7)\n",
    "    \n",
    "ax.scatter(clusters_centroids[0][2], clusters_centroids[0][3], color='crimson', marker='X')\n",
    "ax.scatter(clusters_centroids[1][2], clusters_centroids[1][3], color='navy', marker='X')\n",
    "# ax.scatter(dstrb_sub[3]['113316'], dstrb_sub[4]['113316'], color='orange')\n",
    "# ax.scatter(dstrb_sub[3]['144125'], dstrb_sub[4]['144125'], color='forestgreen')\n",
    "# ax.scatter(dstrb_sub[3]['217126'], dstrb_sub[4]['217126'], color='black')\n",
    "\n",
    "plt.xlabel(f'dimension 3', fontsize=14)\n",
    "plt.ylabel(f'dimension 4', fontsize=14)\n",
    "plt.legend()\n",
    "plt.show()"
   ]
  },
  {
   "cell_type": "code",
   "execution_count": 65,
   "metadata": {},
   "outputs": [],
   "source": [
    "cluster1 = dstrb_sub[dstrb_sub.cluster_lab==0]\n",
    "cluster2 = dstrb_sub[dstrb_sub.cluster_lab==1]\n",
    "assert(len(np.unique(list(cluster1.cluster_lab)))==1)\n",
    "assert(len(np.unique(list(cluster2.cluster_lab)))==1)"
   ]
  },
  {
   "cell_type": "markdown",
   "metadata": {},
   "source": [
    "### Creation of buckets dictionnary"
   ]
  },
  {
   "cell_type": "code",
   "execution_count": 66,
   "metadata": {
    "scrolled": true
   },
   "outputs": [
    {
     "name": "stderr",
     "output_type": "stream",
     "text": [
      "100%|██████████| 550/550 [00:43<00:00, 12.64it/s]\n"
     ]
    }
   ],
   "source": [
    "bucket_path = '/neurospin/dico/data/deep_folding/current/crops/CINGULATE/mask/sulcus_based/2mm/centered_combined/hcp/Rbuckets/'\n",
    "suffix_path = '_normalized.bck'\n",
    "buckets = {}\n",
    "for sub in tqdm(list(labels)):\n",
    "    bucket = aims.read(os.path.join(bucket_path, str(sub) + suffix_path))\n",
    "    bucket = dtx.convert.bucket_aims_to_ndarray(bucket[0])\n",
    "    buckets[sub] = bucket"
   ]
  },
  {
   "cell_type": "code",
   "execution_count": 67,
   "metadata": {},
   "outputs": [
    {
     "data": {
      "text/plain": "dict"
     },
     "execution_count": 67,
     "metadata": {},
     "output_type": "execute_result"
    }
   ],
   "source": [
    "type(buckets)"
   ]
  },
  {
   "cell_type": "code",
   "execution_count": 68,
   "metadata": {},
   "outputs": [],
   "source": [
    "subjects_c1 = cluster1.index\n",
    "subjects_c2 = cluster2.index\n",
    "\n",
    "buckets_c1 = {k: v for k,v in buckets.items() if k in list(subjects_c1)}\n",
    "buckets_c2 = {k: v for k,v in buckets.items() if k in list(subjects_c2)}"
   ]
  },
  {
   "cell_type": "code",
   "execution_count": 69,
   "metadata": {},
   "outputs": [
    {
     "data": {
      "application/vnd.plotly.v1+json": {
       "config": {
        "plotlyServerURL": "https://plot.ly"
       },
       "data": [
        {
         "marker": {
          "opacity": 1,
          "size": 1
         },
         "mode": "markers",
         "type": "scatter3d",
         "x": [
          7,
          6,
          11,
          11,
          9,
          9,
          10,
          11,
          9,
          9,
          10,
          11,
          8,
          9,
          10,
          11,
          9,
          10,
          11,
          9,
          10,
          11,
          12,
          10,
          11,
          9,
          10,
          8,
          9,
          10,
          11,
          7,
          8,
          9,
          9,
          9,
          10,
          10,
          11,
          12,
          9,
          10,
          11,
          2,
          7,
          8,
          9,
          10,
          11,
          9,
          10,
          9,
          10,
          11,
          12,
          4,
          3,
          11,
          10,
          11,
          12,
          2,
          8,
          9,
          10,
          11,
          12,
          7,
          8,
          12,
          8,
          9,
          10,
          11,
          12,
          9,
          10,
          11,
          12,
          9,
          10,
          11,
          12,
          8,
          9,
          10,
          11,
          12,
          8,
          9,
          7,
          10,
          11,
          12,
          9,
          10,
          11,
          12,
          8,
          9,
          10,
          11,
          8,
          9,
          11,
          12,
          8,
          12,
          8,
          8,
          8,
          12,
          9,
          10,
          11,
          12,
          8,
          9,
          10,
          11,
          7,
          8,
          9,
          10,
          11,
          12,
          7,
          12,
          7,
          8,
          12,
          11,
          12,
          9,
          10,
          4,
          9,
          10,
          11,
          9,
          3,
          3,
          12,
          8,
          9,
          10,
          11,
          12,
          7,
          8,
          9,
          10,
          11,
          12,
          7,
          12,
          11,
          12,
          9,
          10,
          11,
          9,
          9,
          10,
          11,
          3,
          8,
          9,
          3,
          8,
          9,
          10,
          12,
          7,
          8,
          9,
          10,
          11,
          12,
          7,
          12,
          12,
          10,
          11,
          12,
          10,
          11,
          12,
          10,
          11,
          12,
          10,
          11,
          12,
          9,
          10,
          11,
          12,
          8,
          9,
          10,
          11,
          12,
          8,
          9,
          7,
          8,
          9,
          10,
          11,
          12,
          7,
          12,
          12,
          10,
          11,
          12,
          10,
          11,
          12,
          10,
          10,
          3,
          9,
          10,
          7,
          8,
          9,
          10,
          11,
          7,
          8,
          9,
          10,
          11,
          7,
          8,
          9,
          10,
          11,
          7,
          8,
          9,
          10,
          11,
          12,
          12,
          9,
          10,
          13,
          7,
          8,
          9,
          10,
          11,
          12,
          13,
          7,
          12,
          3,
          9,
          3,
          8,
          9,
          10,
          11,
          12,
          7,
          10,
          10,
          11,
          12,
          10,
          11,
          12,
          13,
          8,
          9,
          10,
          11,
          12,
          13,
          7,
          8,
          12,
          13,
          7,
          3,
          8,
          9,
          11,
          12,
          7,
          8,
          10,
          11,
          12,
          12,
          12,
          13,
          8,
          9,
          10,
          11,
          12,
          13,
          7,
          8,
          9,
          10,
          11,
          12,
          7,
          8,
          9,
          7,
          8,
          9,
          10,
          11,
          12,
          7,
          10,
          11,
          12,
          7,
          12,
          12,
          10,
          11,
          12,
          9,
          10,
          11,
          12,
          8,
          9,
          10,
          11,
          12,
          13,
          7,
          8,
          9,
          10,
          11,
          12,
          13,
          6,
          7,
          12,
          12,
          9,
          10,
          11,
          8,
          9,
          10,
          11,
          12,
          7,
          8,
          10,
          11,
          12,
          6,
          7,
          9,
          10,
          11,
          12,
          8,
          9,
          10,
          11,
          12,
          7,
          8,
          9,
          10,
          11,
          12,
          7,
          8,
          9,
          7,
          8,
          9,
          10,
          11,
          8,
          9,
          10,
          8,
          8,
          9,
          12,
          7,
          8,
          9,
          10,
          12,
          7,
          8,
          9,
          10,
          11,
          12,
          6,
          7,
          6,
          13,
          12,
          9,
          10,
          11,
          9,
          10,
          11,
          12,
          9,
          10,
          11,
          12,
          8,
          9,
          10,
          11,
          12,
          7,
          8,
          9,
          10,
          11,
          12,
          6,
          7,
          8,
          9,
          10,
          11,
          12,
          13,
          6,
          13,
          8,
          9,
          10,
          11,
          8,
          8,
          9,
          10,
          7,
          8,
          9,
          10,
          11,
          12,
          13,
          8,
          9,
          10,
          11,
          12,
          13,
          13,
          13,
          13,
          11,
          12,
          9,
          10,
          11,
          9,
          10,
          2,
          8,
          7,
          8,
          9,
          10,
          11,
          7,
          8,
          9,
          10,
          11,
          12,
          13,
          13,
          8,
          10,
          12,
          13,
          7,
          8,
          9,
          10,
          11,
          12,
          13,
          9,
          10,
          9,
          2,
          2,
          8,
          9,
          10,
          11,
          12,
          13,
          7,
          8,
          9,
          10,
          11,
          12,
          13,
          6,
          7,
          8,
          9,
          10,
          11,
          12,
          13,
          11,
          10,
          13,
          9,
          10,
          11,
          12,
          13,
          7,
          8,
          9,
          10,
          12,
          13,
          6,
          7,
          6,
          8,
          9,
          11,
          9,
          10,
          11,
          8,
          9,
          10,
          11,
          7,
          11,
          12,
          13,
          8,
          9,
          10,
          11,
          12,
          13,
          6,
          7,
          8,
          9,
          10,
          11,
          12,
          13,
          6,
          7,
          8,
          6,
          7,
          11,
          9,
          11,
          8,
          9,
          10,
          11,
          6,
          7,
          8,
          8,
          9,
          10,
          11,
          13,
          7,
          8,
          10,
          12,
          13,
          7,
          8,
          9,
          8,
          9,
          10,
          11,
          6,
          7,
          8,
          9,
          6,
          8,
          10,
          8,
          9,
          10,
          11,
          12,
          13,
          10,
          11,
          11,
          6,
          7,
          8,
          9,
          10,
          11,
          6,
          5,
          6,
          12,
          5,
          8,
          9,
          10,
          11,
          12,
          8,
          9,
          12,
          10,
          8,
          9,
          10,
          11,
          6,
          7,
          8,
          9,
          10,
          11,
          5,
          6,
          7,
          8,
          9,
          10,
          11,
          12,
          5,
          8,
          9,
          10,
          11,
          12,
          5,
          8,
          10,
          11,
          12,
          11,
          9,
          10,
          11,
          9,
          10,
          11,
          6,
          7,
          8,
          9,
          5,
          6,
          7,
          8,
          9,
          5,
          6,
          7,
          8,
          9,
          10,
          11,
          12,
          5,
          6,
          7,
          8,
          9,
          10,
          11,
          12,
          5,
          6,
          7,
          8,
          9,
          10,
          8,
          9,
          10,
          11,
          8,
          9,
          10,
          11,
          6,
          7,
          12,
          8,
          9,
          10,
          11,
          12,
          6,
          7,
          8,
          9,
          11,
          12,
          9,
          11,
          8,
          10,
          12,
          7,
          8,
          9,
          10,
          11,
          12,
          10,
          11,
          12,
          9,
          10,
          11,
          12,
          10,
          9,
          10,
          11,
          10
         ],
         "y": [
          27,
          28,
          27,
          28,
          27,
          28,
          28,
          28,
          27,
          28,
          28,
          28,
          28,
          28,
          28,
          28,
          29,
          29,
          29,
          30,
          30,
          30,
          30,
          31,
          31,
          17,
          18,
          28,
          28,
          28,
          28,
          29,
          29,
          29,
          30,
          17,
          17,
          18,
          18,
          18,
          27,
          27,
          27,
          28,
          28,
          28,
          28,
          28,
          28,
          14,
          14,
          17,
          18,
          18,
          18,
          21,
          23,
          25,
          26,
          26,
          26,
          27,
          27,
          27,
          27,
          27,
          27,
          28,
          28,
          13,
          23,
          23,
          23,
          23,
          23,
          24,
          24,
          24,
          24,
          25,
          25,
          25,
          25,
          26,
          26,
          26,
          26,
          26,
          27,
          27,
          28,
          12,
          12,
          12,
          13,
          13,
          13,
          13,
          22,
          22,
          22,
          22,
          23,
          23,
          23,
          23,
          24,
          24,
          25,
          26,
          27,
          12,
          13,
          13,
          13,
          13,
          21,
          21,
          21,
          21,
          22,
          22,
          22,
          22,
          22,
          22,
          23,
          23,
          24,
          25,
          28,
          29,
          29,
          30,
          30,
          12,
          13,
          13,
          13,
          14,
          15,
          16,
          19,
          20,
          20,
          20,
          20,
          20,
          21,
          21,
          21,
          21,
          21,
          21,
          22,
          27,
          28,
          28,
          29,
          29,
          29,
          30,
          13,
          13,
          13,
          14,
          14,
          14,
          15,
          19,
          19,
          19,
          19,
          20,
          20,
          20,
          20,
          20,
          20,
          21,
          23,
          24,
          25,
          25,
          25,
          26,
          26,
          26,
          27,
          27,
          27,
          28,
          28,
          28,
          12,
          12,
          12,
          12,
          13,
          13,
          13,
          13,
          13,
          14,
          14,
          19,
          19,
          19,
          19,
          19,
          19,
          20,
          20,
          22,
          23,
          23,
          23,
          24,
          24,
          24,
          25,
          26,
          10,
          10,
          10,
          11,
          11,
          11,
          11,
          11,
          12,
          12,
          12,
          12,
          12,
          13,
          13,
          13,
          13,
          13,
          14,
          14,
          14,
          14,
          14,
          14,
          15,
          18,
          18,
          18,
          19,
          19,
          19,
          19,
          19,
          19,
          19,
          20,
          23,
          9,
          9,
          10,
          10,
          10,
          10,
          10,
          10,
          11,
          11,
          14,
          14,
          14,
          15,
          15,
          15,
          17,
          18,
          18,
          18,
          18,
          18,
          18,
          19,
          19,
          19,
          19,
          20,
          8,
          9,
          9,
          9,
          9,
          10,
          10,
          10,
          10,
          10,
          14,
          15,
          16,
          17,
          17,
          17,
          17,
          17,
          17,
          18,
          18,
          18,
          18,
          18,
          18,
          19,
          19,
          8,
          9,
          9,
          9,
          9,
          9,
          9,
          10,
          10,
          10,
          10,
          11,
          12,
          13,
          14,
          14,
          14,
          15,
          15,
          15,
          15,
          16,
          16,
          16,
          16,
          16,
          16,
          17,
          17,
          17,
          17,
          17,
          17,
          17,
          18,
          18,
          22,
          23,
          24,
          24,
          24,
          8,
          8,
          8,
          8,
          8,
          9,
          9,
          9,
          9,
          9,
          10,
          10,
          12,
          12,
          12,
          12,
          13,
          13,
          13,
          13,
          13,
          14,
          14,
          14,
          14,
          14,
          14,
          15,
          15,
          15,
          16,
          16,
          16,
          22,
          22,
          23,
          23,
          23,
          5,
          6,
          6,
          6,
          7,
          7,
          7,
          7,
          7,
          8,
          8,
          8,
          8,
          8,
          8,
          9,
          9,
          10,
          19,
          20,
          3,
          3,
          3,
          4,
          4,
          4,
          4,
          5,
          5,
          5,
          5,
          6,
          6,
          6,
          6,
          6,
          7,
          7,
          7,
          7,
          7,
          7,
          8,
          8,
          8,
          8,
          8,
          8,
          8,
          8,
          9,
          9,
          20,
          20,
          20,
          20,
          3,
          4,
          4,
          4,
          8,
          8,
          8,
          8,
          8,
          8,
          8,
          9,
          9,
          9,
          9,
          9,
          9,
          10,
          12,
          13,
          18,
          18,
          19,
          19,
          19,
          20,
          20,
          6,
          8,
          9,
          9,
          9,
          9,
          9,
          10,
          10,
          10,
          10,
          10,
          10,
          10,
          11,
          12,
          12,
          12,
          12,
          13,
          13,
          13,
          13,
          13,
          13,
          13,
          14,
          14,
          18,
          5,
          6,
          10,
          10,
          10,
          10,
          10,
          10,
          11,
          11,
          11,
          11,
          11,
          11,
          11,
          12,
          12,
          12,
          12,
          12,
          12,
          12,
          12,
          16,
          1,
          8,
          9,
          9,
          9,
          9,
          9,
          10,
          10,
          10,
          10,
          10,
          10,
          11,
          11,
          12,
          15,
          15,
          15,
          1,
          1,
          1,
          2,
          2,
          2,
          2,
          3,
          7,
          7,
          7,
          8,
          8,
          8,
          8,
          8,
          8,
          9,
          9,
          9,
          9,
          9,
          9,
          9,
          9,
          10,
          10,
          10,
          11,
          11,
          14,
          15,
          1,
          2,
          2,
          2,
          2,
          3,
          3,
          3,
          7,
          7,
          7,
          7,
          7,
          8,
          8,
          8,
          8,
          8,
          9,
          14,
          14,
          2,
          2,
          2,
          2,
          3,
          3,
          3,
          3,
          4,
          6,
          6,
          7,
          7,
          7,
          7,
          7,
          8,
          13,
          13,
          2,
          3,
          3,
          3,
          3,
          3,
          3,
          4,
          5,
          5,
          5,
          6,
          6,
          6,
          6,
          6,
          6,
          7,
          7,
          7,
          13,
          3,
          3,
          3,
          3,
          4,
          4,
          4,
          4,
          4,
          4,
          5,
          5,
          5,
          5,
          5,
          5,
          5,
          5,
          6,
          6,
          6,
          6,
          6,
          6,
          7,
          7,
          7,
          7,
          7,
          2,
          3,
          3,
          3,
          4,
          4,
          4,
          5,
          5,
          5,
          5,
          6,
          6,
          6,
          6,
          6,
          7,
          7,
          7,
          7,
          7,
          7,
          7,
          7,
          8,
          8,
          8,
          8,
          8,
          8,
          8,
          8,
          9,
          9,
          9,
          1,
          1,
          1,
          2,
          2,
          2,
          2,
          3,
          3,
          3,
          3,
          6,
          6,
          7,
          8,
          8,
          8,
          8,
          8,
          9,
          9,
          9,
          9,
          9,
          9,
          2,
          2,
          3,
          8,
          8,
          9,
          9,
          9,
          9,
          9,
          9,
          10,
          5,
          7,
          8,
          8,
          8,
          8,
          5,
          6,
          6,
          6,
          7
         ],
         "z": [
          1,
          1,
          2,
          2,
          3,
          3,
          3,
          3,
          4,
          4,
          4,
          4,
          5,
          5,
          5,
          5,
          5,
          5,
          5,
          5,
          5,
          5,
          5,
          5,
          5,
          6,
          6,
          6,
          6,
          6,
          6,
          6,
          6,
          6,
          6,
          7,
          7,
          7,
          7,
          7,
          7,
          7,
          7,
          7,
          7,
          7,
          7,
          7,
          7,
          8,
          8,
          8,
          8,
          8,
          8,
          8,
          8,
          8,
          8,
          8,
          8,
          8,
          8,
          8,
          8,
          8,
          8,
          8,
          8,
          9,
          9,
          9,
          9,
          9,
          9,
          9,
          9,
          9,
          9,
          9,
          9,
          9,
          9,
          9,
          9,
          9,
          9,
          9,
          9,
          9,
          9,
          10,
          10,
          10,
          10,
          10,
          10,
          10,
          10,
          10,
          10,
          10,
          10,
          10,
          10,
          10,
          10,
          10,
          10,
          10,
          10,
          11,
          11,
          11,
          11,
          11,
          11,
          11,
          11,
          11,
          11,
          11,
          11,
          11,
          11,
          11,
          11,
          11,
          11,
          11,
          11,
          11,
          11,
          11,
          11,
          12,
          12,
          12,
          12,
          12,
          12,
          12,
          12,
          12,
          12,
          12,
          12,
          12,
          12,
          12,
          12,
          12,
          12,
          12,
          12,
          12,
          12,
          12,
          12,
          12,
          12,
          12,
          13,
          13,
          13,
          13,
          13,
          13,
          13,
          13,
          13,
          13,
          13,
          13,
          13,
          13,
          13,
          13,
          13,
          13,
          13,
          13,
          13,
          13,
          13,
          13,
          13,
          13,
          13,
          13,
          13,
          13,
          13,
          13,
          14,
          14,
          14,
          14,
          14,
          14,
          14,
          14,
          14,
          14,
          14,
          14,
          14,
          14,
          14,
          14,
          14,
          14,
          14,
          14,
          14,
          14,
          14,
          14,
          14,
          14,
          14,
          14,
          15,
          15,
          15,
          15,
          15,
          15,
          15,
          15,
          15,
          15,
          15,
          15,
          15,
          15,
          15,
          15,
          15,
          15,
          15,
          15,
          15,
          15,
          15,
          15,
          15,
          15,
          15,
          15,
          15,
          15,
          15,
          15,
          15,
          15,
          15,
          15,
          15,
          16,
          16,
          16,
          16,
          16,
          16,
          16,
          16,
          16,
          16,
          16,
          16,
          16,
          16,
          16,
          16,
          16,
          16,
          16,
          16,
          16,
          16,
          16,
          16,
          16,
          16,
          16,
          16,
          17,
          17,
          17,
          17,
          17,
          17,
          17,
          17,
          17,
          17,
          17,
          17,
          17,
          17,
          17,
          17,
          17,
          17,
          17,
          17,
          17,
          17,
          17,
          17,
          17,
          17,
          17,
          18,
          18,
          18,
          18,
          18,
          18,
          18,
          18,
          18,
          18,
          18,
          18,
          18,
          18,
          18,
          18,
          18,
          18,
          18,
          18,
          18,
          18,
          18,
          18,
          18,
          18,
          18,
          18,
          18,
          18,
          18,
          18,
          18,
          18,
          18,
          18,
          18,
          18,
          18,
          18,
          18,
          19,
          19,
          19,
          19,
          19,
          19,
          19,
          19,
          19,
          19,
          19,
          19,
          19,
          19,
          19,
          19,
          19,
          19,
          19,
          19,
          19,
          19,
          19,
          19,
          19,
          19,
          19,
          19,
          19,
          19,
          19,
          19,
          19,
          19,
          19,
          19,
          19,
          19,
          20,
          20,
          20,
          20,
          20,
          20,
          20,
          20,
          20,
          20,
          20,
          20,
          20,
          20,
          20,
          20,
          20,
          20,
          20,
          20,
          21,
          21,
          21,
          21,
          21,
          21,
          21,
          21,
          21,
          21,
          21,
          21,
          21,
          21,
          21,
          21,
          21,
          21,
          21,
          21,
          21,
          21,
          21,
          21,
          21,
          21,
          21,
          21,
          21,
          21,
          21,
          21,
          21,
          21,
          21,
          21,
          22,
          22,
          22,
          22,
          22,
          22,
          22,
          22,
          22,
          22,
          22,
          22,
          22,
          22,
          22,
          22,
          22,
          22,
          22,
          22,
          22,
          22,
          22,
          22,
          22,
          22,
          22,
          23,
          23,
          23,
          23,
          23,
          23,
          23,
          23,
          23,
          23,
          23,
          23,
          23,
          23,
          23,
          23,
          23,
          23,
          23,
          23,
          23,
          23,
          23,
          23,
          23,
          23,
          23,
          23,
          23,
          24,
          24,
          24,
          24,
          24,
          24,
          24,
          24,
          24,
          24,
          24,
          24,
          24,
          24,
          24,
          24,
          24,
          24,
          24,
          24,
          24,
          24,
          24,
          24,
          25,
          25,
          25,
          25,
          25,
          25,
          25,
          25,
          25,
          25,
          25,
          25,
          25,
          25,
          25,
          25,
          25,
          25,
          25,
          26,
          26,
          26,
          26,
          26,
          26,
          26,
          26,
          26,
          26,
          26,
          26,
          26,
          26,
          26,
          26,
          26,
          26,
          26,
          26,
          26,
          26,
          26,
          26,
          26,
          26,
          26,
          26,
          26,
          26,
          26,
          26,
          27,
          27,
          27,
          27,
          27,
          27,
          27,
          27,
          27,
          27,
          27,
          27,
          27,
          27,
          27,
          27,
          27,
          27,
          27,
          27,
          27,
          28,
          28,
          28,
          28,
          28,
          28,
          28,
          28,
          28,
          28,
          28,
          28,
          28,
          28,
          28,
          28,
          28,
          28,
          28,
          29,
          29,
          29,
          29,
          29,
          29,
          29,
          29,
          29,
          29,
          29,
          29,
          29,
          29,
          29,
          29,
          29,
          29,
          29,
          29,
          29,
          30,
          30,
          30,
          30,
          30,
          30,
          30,
          30,
          30,
          30,
          30,
          30,
          30,
          30,
          30,
          30,
          30,
          30,
          30,
          30,
          30,
          30,
          30,
          30,
          30,
          30,
          30,
          30,
          30,
          31,
          31,
          31,
          31,
          31,
          31,
          31,
          31,
          31,
          31,
          31,
          31,
          31,
          31,
          31,
          31,
          31,
          31,
          31,
          31,
          31,
          31,
          31,
          31,
          31,
          31,
          31,
          31,
          31,
          31,
          31,
          31,
          31,
          31,
          31,
          32,
          32,
          32,
          32,
          32,
          32,
          32,
          32,
          32,
          32,
          32,
          32,
          32,
          32,
          32,
          32,
          32,
          32,
          32,
          32,
          32,
          32,
          32,
          32,
          32,
          33,
          33,
          33,
          33,
          33,
          33,
          33,
          33,
          33,
          33,
          33,
          33,
          34,
          34,
          34,
          34,
          34,
          34,
          35,
          35,
          35,
          35,
          35
         ]
        }
       ],
       "layout": {
        "legend": {
         "itemsizing": "constant"
        },
        "scene": {
         "aspectmode": "data",
         "camera": {
          "eye": {
           "x": -0.8,
           "y": 0,
           "z": 2
          }
         }
        },
        "template": {
         "data": {
          "bar": [
           {
            "error_x": {
             "color": "#2a3f5f"
            },
            "error_y": {
             "color": "#2a3f5f"
            },
            "marker": {
             "line": {
              "color": "#E5ECF6",
              "width": 0.5
             }
            },
            "type": "bar"
           }
          ],
          "barpolar": [
           {
            "marker": {
             "line": {
              "color": "#E5ECF6",
              "width": 0.5
             }
            },
            "type": "barpolar"
           }
          ],
          "carpet": [
           {
            "aaxis": {
             "endlinecolor": "#2a3f5f",
             "gridcolor": "white",
             "linecolor": "white",
             "minorgridcolor": "white",
             "startlinecolor": "#2a3f5f"
            },
            "baxis": {
             "endlinecolor": "#2a3f5f",
             "gridcolor": "white",
             "linecolor": "white",
             "minorgridcolor": "white",
             "startlinecolor": "#2a3f5f"
            },
            "type": "carpet"
           }
          ],
          "choropleth": [
           {
            "colorbar": {
             "outlinewidth": 0,
             "ticks": ""
            },
            "type": "choropleth"
           }
          ],
          "contour": [
           {
            "colorbar": {
             "outlinewidth": 0,
             "ticks": ""
            },
            "colorscale": [
             [
              0,
              "#0d0887"
             ],
             [
              0.1111111111111111,
              "#46039f"
             ],
             [
              0.2222222222222222,
              "#7201a8"
             ],
             [
              0.3333333333333333,
              "#9c179e"
             ],
             [
              0.4444444444444444,
              "#bd3786"
             ],
             [
              0.5555555555555556,
              "#d8576b"
             ],
             [
              0.6666666666666666,
              "#ed7953"
             ],
             [
              0.7777777777777778,
              "#fb9f3a"
             ],
             [
              0.8888888888888888,
              "#fdca26"
             ],
             [
              1,
              "#f0f921"
             ]
            ],
            "type": "contour"
           }
          ],
          "contourcarpet": [
           {
            "colorbar": {
             "outlinewidth": 0,
             "ticks": ""
            },
            "type": "contourcarpet"
           }
          ],
          "heatmap": [
           {
            "colorbar": {
             "outlinewidth": 0,
             "ticks": ""
            },
            "colorscale": [
             [
              0,
              "#0d0887"
             ],
             [
              0.1111111111111111,
              "#46039f"
             ],
             [
              0.2222222222222222,
              "#7201a8"
             ],
             [
              0.3333333333333333,
              "#9c179e"
             ],
             [
              0.4444444444444444,
              "#bd3786"
             ],
             [
              0.5555555555555556,
              "#d8576b"
             ],
             [
              0.6666666666666666,
              "#ed7953"
             ],
             [
              0.7777777777777778,
              "#fb9f3a"
             ],
             [
              0.8888888888888888,
              "#fdca26"
             ],
             [
              1,
              "#f0f921"
             ]
            ],
            "type": "heatmap"
           }
          ],
          "heatmapgl": [
           {
            "colorbar": {
             "outlinewidth": 0,
             "ticks": ""
            },
            "colorscale": [
             [
              0,
              "#0d0887"
             ],
             [
              0.1111111111111111,
              "#46039f"
             ],
             [
              0.2222222222222222,
              "#7201a8"
             ],
             [
              0.3333333333333333,
              "#9c179e"
             ],
             [
              0.4444444444444444,
              "#bd3786"
             ],
             [
              0.5555555555555556,
              "#d8576b"
             ],
             [
              0.6666666666666666,
              "#ed7953"
             ],
             [
              0.7777777777777778,
              "#fb9f3a"
             ],
             [
              0.8888888888888888,
              "#fdca26"
             ],
             [
              1,
              "#f0f921"
             ]
            ],
            "type": "heatmapgl"
           }
          ],
          "histogram": [
           {
            "marker": {
             "colorbar": {
              "outlinewidth": 0,
              "ticks": ""
             }
            },
            "type": "histogram"
           }
          ],
          "histogram2d": [
           {
            "colorbar": {
             "outlinewidth": 0,
             "ticks": ""
            },
            "colorscale": [
             [
              0,
              "#0d0887"
             ],
             [
              0.1111111111111111,
              "#46039f"
             ],
             [
              0.2222222222222222,
              "#7201a8"
             ],
             [
              0.3333333333333333,
              "#9c179e"
             ],
             [
              0.4444444444444444,
              "#bd3786"
             ],
             [
              0.5555555555555556,
              "#d8576b"
             ],
             [
              0.6666666666666666,
              "#ed7953"
             ],
             [
              0.7777777777777778,
              "#fb9f3a"
             ],
             [
              0.8888888888888888,
              "#fdca26"
             ],
             [
              1,
              "#f0f921"
             ]
            ],
            "type": "histogram2d"
           }
          ],
          "histogram2dcontour": [
           {
            "colorbar": {
             "outlinewidth": 0,
             "ticks": ""
            },
            "colorscale": [
             [
              0,
              "#0d0887"
             ],
             [
              0.1111111111111111,
              "#46039f"
             ],
             [
              0.2222222222222222,
              "#7201a8"
             ],
             [
              0.3333333333333333,
              "#9c179e"
             ],
             [
              0.4444444444444444,
              "#bd3786"
             ],
             [
              0.5555555555555556,
              "#d8576b"
             ],
             [
              0.6666666666666666,
              "#ed7953"
             ],
             [
              0.7777777777777778,
              "#fb9f3a"
             ],
             [
              0.8888888888888888,
              "#fdca26"
             ],
             [
              1,
              "#f0f921"
             ]
            ],
            "type": "histogram2dcontour"
           }
          ],
          "mesh3d": [
           {
            "colorbar": {
             "outlinewidth": 0,
             "ticks": ""
            },
            "type": "mesh3d"
           }
          ],
          "parcoords": [
           {
            "line": {
             "colorbar": {
              "outlinewidth": 0,
              "ticks": ""
             }
            },
            "type": "parcoords"
           }
          ],
          "pie": [
           {
            "automargin": true,
            "type": "pie"
           }
          ],
          "scatter": [
           {
            "marker": {
             "colorbar": {
              "outlinewidth": 0,
              "ticks": ""
             }
            },
            "type": "scatter"
           }
          ],
          "scatter3d": [
           {
            "line": {
             "colorbar": {
              "outlinewidth": 0,
              "ticks": ""
             }
            },
            "marker": {
             "colorbar": {
              "outlinewidth": 0,
              "ticks": ""
             }
            },
            "type": "scatter3d"
           }
          ],
          "scattercarpet": [
           {
            "marker": {
             "colorbar": {
              "outlinewidth": 0,
              "ticks": ""
             }
            },
            "type": "scattercarpet"
           }
          ],
          "scattergeo": [
           {
            "marker": {
             "colorbar": {
              "outlinewidth": 0,
              "ticks": ""
             }
            },
            "type": "scattergeo"
           }
          ],
          "scattergl": [
           {
            "marker": {
             "colorbar": {
              "outlinewidth": 0,
              "ticks": ""
             }
            },
            "type": "scattergl"
           }
          ],
          "scattermapbox": [
           {
            "marker": {
             "colorbar": {
              "outlinewidth": 0,
              "ticks": ""
             }
            },
            "type": "scattermapbox"
           }
          ],
          "scatterpolar": [
           {
            "marker": {
             "colorbar": {
              "outlinewidth": 0,
              "ticks": ""
             }
            },
            "type": "scatterpolar"
           }
          ],
          "scatterpolargl": [
           {
            "marker": {
             "colorbar": {
              "outlinewidth": 0,
              "ticks": ""
             }
            },
            "type": "scatterpolargl"
           }
          ],
          "scatterternary": [
           {
            "marker": {
             "colorbar": {
              "outlinewidth": 0,
              "ticks": ""
             }
            },
            "type": "scatterternary"
           }
          ],
          "surface": [
           {
            "colorbar": {
             "outlinewidth": 0,
             "ticks": ""
            },
            "colorscale": [
             [
              0,
              "#0d0887"
             ],
             [
              0.1111111111111111,
              "#46039f"
             ],
             [
              0.2222222222222222,
              "#7201a8"
             ],
             [
              0.3333333333333333,
              "#9c179e"
             ],
             [
              0.4444444444444444,
              "#bd3786"
             ],
             [
              0.5555555555555556,
              "#d8576b"
             ],
             [
              0.6666666666666666,
              "#ed7953"
             ],
             [
              0.7777777777777778,
              "#fb9f3a"
             ],
             [
              0.8888888888888888,
              "#fdca26"
             ],
             [
              1,
              "#f0f921"
             ]
            ],
            "type": "surface"
           }
          ],
          "table": [
           {
            "cells": {
             "fill": {
              "color": "#EBF0F8"
             },
             "line": {
              "color": "white"
             }
            },
            "header": {
             "fill": {
              "color": "#C8D4E3"
             },
             "line": {
              "color": "white"
             }
            },
            "type": "table"
           }
          ]
         },
         "layout": {
          "annotationdefaults": {
           "arrowcolor": "#2a3f5f",
           "arrowhead": 0,
           "arrowwidth": 1
          },
          "autotypenumbers": "strict",
          "coloraxis": {
           "colorbar": {
            "outlinewidth": 0,
            "ticks": ""
           }
          },
          "colorscale": {
           "diverging": [
            [
             0,
             "#8e0152"
            ],
            [
             0.1,
             "#c51b7d"
            ],
            [
             0.2,
             "#de77ae"
            ],
            [
             0.3,
             "#f1b6da"
            ],
            [
             0.4,
             "#fde0ef"
            ],
            [
             0.5,
             "#f7f7f7"
            ],
            [
             0.6,
             "#e6f5d0"
            ],
            [
             0.7,
             "#b8e186"
            ],
            [
             0.8,
             "#7fbc41"
            ],
            [
             0.9,
             "#4d9221"
            ],
            [
             1,
             "#276419"
            ]
           ],
           "sequential": [
            [
             0,
             "#0d0887"
            ],
            [
             0.1111111111111111,
             "#46039f"
            ],
            [
             0.2222222222222222,
             "#7201a8"
            ],
            [
             0.3333333333333333,
             "#9c179e"
            ],
            [
             0.4444444444444444,
             "#bd3786"
            ],
            [
             0.5555555555555556,
             "#d8576b"
            ],
            [
             0.6666666666666666,
             "#ed7953"
            ],
            [
             0.7777777777777778,
             "#fb9f3a"
            ],
            [
             0.8888888888888888,
             "#fdca26"
            ],
            [
             1,
             "#f0f921"
            ]
           ],
           "sequentialminus": [
            [
             0,
             "#0d0887"
            ],
            [
             0.1111111111111111,
             "#46039f"
            ],
            [
             0.2222222222222222,
             "#7201a8"
            ],
            [
             0.3333333333333333,
             "#9c179e"
            ],
            [
             0.4444444444444444,
             "#bd3786"
            ],
            [
             0.5555555555555556,
             "#d8576b"
            ],
            [
             0.6666666666666666,
             "#ed7953"
            ],
            [
             0.7777777777777778,
             "#fb9f3a"
            ],
            [
             0.8888888888888888,
             "#fdca26"
            ],
            [
             1,
             "#f0f921"
            ]
           ]
          },
          "colorway": [
           "#636efa",
           "#EF553B",
           "#00cc96",
           "#ab63fa",
           "#FFA15A",
           "#19d3f3",
           "#FF6692",
           "#B6E880",
           "#FF97FF",
           "#FECB52"
          ],
          "font": {
           "color": "#2a3f5f"
          },
          "geo": {
           "bgcolor": "white",
           "lakecolor": "white",
           "landcolor": "#E5ECF6",
           "showlakes": true,
           "showland": true,
           "subunitcolor": "white"
          },
          "hoverlabel": {
           "align": "left"
          },
          "hovermode": "closest",
          "mapbox": {
           "style": "light"
          },
          "paper_bgcolor": "white",
          "plot_bgcolor": "#E5ECF6",
          "polar": {
           "angularaxis": {
            "gridcolor": "white",
            "linecolor": "white",
            "ticks": ""
           },
           "bgcolor": "#E5ECF6",
           "radialaxis": {
            "gridcolor": "white",
            "linecolor": "white",
            "ticks": ""
           }
          },
          "scene": {
           "xaxis": {
            "backgroundcolor": "#E5ECF6",
            "gridcolor": "white",
            "gridwidth": 2,
            "linecolor": "white",
            "showbackground": true,
            "ticks": "",
            "zerolinecolor": "white"
           },
           "yaxis": {
            "backgroundcolor": "#E5ECF6",
            "gridcolor": "white",
            "gridwidth": 2,
            "linecolor": "white",
            "showbackground": true,
            "ticks": "",
            "zerolinecolor": "white"
           },
           "zaxis": {
            "backgroundcolor": "#E5ECF6",
            "gridcolor": "white",
            "gridwidth": 2,
            "linecolor": "white",
            "showbackground": true,
            "ticks": "",
            "zerolinecolor": "white"
           }
          },
          "shapedefaults": {
           "line": {
            "color": "#2a3f5f"
           }
          },
          "ternary": {
           "aaxis": {
            "gridcolor": "white",
            "linecolor": "white",
            "ticks": ""
           },
           "baxis": {
            "gridcolor": "white",
            "linecolor": "white",
            "ticks": ""
           },
           "bgcolor": "#E5ECF6",
           "caxis": {
            "gridcolor": "white",
            "linecolor": "white",
            "ticks": ""
           }
          },
          "title": {
           "x": 0.05
          },
          "xaxis": {
           "automargin": true,
           "gridcolor": "white",
           "linecolor": "white",
           "ticks": "",
           "title": {
            "standoff": 15
           },
           "zerolinecolor": "white",
           "zerolinewidth": 2
          },
          "yaxis": {
           "automargin": true,
           "gridcolor": "white",
           "linecolor": "white",
           "ticks": "",
           "title": {
            "standoff": 15
           },
           "zerolinecolor": "white",
           "zerolinewidth": 2
          }
         }
        },
        "title": {
         "text": ""
        }
       }
      }
     },
     "metadata": {},
     "output_type": "display_data"
    }
   ],
   "source": [
    "cld.draw(list(buckets_c1.values())[0])"
   ]
  },
  {
   "cell_type": "markdown",
   "metadata": {},
   "source": [
    "#### Alignement of the subjects to respective central subject"
   ]
  },
  {
   "cell_type": "code",
   "execution_count": 70,
   "metadata": {
    "scrolled": true
   },
   "outputs": [
    {
     "name": "stderr",
     "output_type": "stream",
     "text": [
      ">>> INFO moving_averages.transform - using 45 cores out of 48\n",
      "Aligning buckets to 749058: 100%|██████████| 130/130 [00:01<00:00, 81.91it/s] \n",
      ">>> INFO moving_averages.transform - using 45 cores out of 48\n",
      "Aligning buckets to 966975: 100%|██████████| 177/177 [00:02<00:00, 85.26it/s]\n"
     ]
    }
   ],
   "source": [
    "aligned_buckets_C1, aligned_rot_C1, aligned_transl_C1 = ma.align_buckets_by_ICP_batch(buckets_c1, central_1)\n",
    "aligned_buckets_C2, aligned_rot_C2, aligned_transl_C2 = ma.align_buckets_by_ICP_batch(buckets_c2, central_2)"
   ]
  },
  {
   "cell_type": "code",
   "execution_count": 71,
   "metadata": {},
   "outputs": [
    {
     "data": {
      "image/png": "[encoded data removed]",
      "text/plain": "<Figure size 432x288 with 1 Axes>"
     },
     "metadata": {
      "needs_background": "light"
     },
     "output_type": "display_data"
    }
   ],
   "source": [
    "plt.hist(cluster1[3], alpha=0.5)\n",
    "plt.hist(cluster2[3], alpha=0.5)\n",
    "plt.show()"
   ]
  },
  {
   "cell_type": "code",
   "execution_count": 72,
   "metadata": {},
   "outputs": [],
   "source": [
    "def subj_count_extreme_coords(isodf, axis, min_coord, max_coord, num_coord=10):\n",
    "    coord_values = np.linspace(min_coord, max_coord, num_coord)\n",
    "    step = (coord_values[1] - coord_values[0])\n",
    "    midpoint_min = coord_values[0] + step/2\n",
    "    midpoint_max = coord_values[num_coord-1] - step/2\n",
    "    coord_under = [elt for elt in isodf[axis] if elt<midpoint_min]\n",
    "    coord_over = [elt for elt in isodf[axis] if elt>midpoint_max]\n",
    "    num_subj_under = len(coord_under)\n",
    "    num_subj_over = len(coord_over)\n",
    "    return num_subj_under, num_subj_over\n",
    "\n",
    "def get_MA_coords(isodf, axis, num_subj_threshold, num_coord=10):\n",
    "    min_subj_coord = min(isodf[axis])\n",
    "    max_subj_coord = max(isodf[axis])\n",
    "    step = (max_subj_coord - min_subj_coord)/num_coord\n",
    "    num_subj_under, num_subj_over = subj_count_extreme_coords(isodf, axis, min_subj_coord, max_subj_coord)\n",
    "    while ((num_subj_under<num_subj_threshold)|(num_subj_over<num_subj_threshold)):\n",
    "        step = (max_subj_coord - min_subj_coord)/num_coord\n",
    "        if num_subj_under<num_subj_threshold:\n",
    "            min_subj_coord = min_subj_coord + step\n",
    "        if num_subj_over<num_subj_threshold:\n",
    "            max_subj_coord = max_subj_coord - step\n",
    "        num_subj_under, num_subj_over = subj_count_extreme_coords(isodf, axis, min_subj_coord, max_subj_coord)\n",
    "    return np.linspace(min_subj_coord, max_subj_coord, num_coord)"
   ]
  },
  {
   "cell_type": "code",
   "execution_count": 73,
   "metadata": {},
   "outputs": [],
   "source": [
    "MA_coords = get_MA_coords(cluster1, 3, num_subj_threshold=14, num_coord=2)\n",
    "step = step = MA_coords[1]-MA_coords[0]"
   ]
  },
  {
   "cell_type": "code",
   "execution_count": 74,
   "metadata": {},
   "outputs": [
    {
     "data": {
      "text/plain": "array([6.94454324, 6.94454324])"
     },
     "execution_count": 74,
     "metadata": {},
     "output_type": "execute_result"
    }
   ],
   "source": [
    "MA_coords"
   ]
  },
  {
   "cell_type": "code",
   "execution_count": 75,
   "metadata": {},
   "outputs": [
    {
     "data": {
      "text/plain": "numpy.ndarray"
     },
     "execution_count": 75,
     "metadata": {},
     "output_type": "execute_result"
    }
   ],
   "source": [
    "type(MA_coords)"
   ]
  },
  {
   "cell_type": "code",
   "execution_count": 76,
   "metadata": {},
   "outputs": [
    {
     "data": {
      "text/plain": "0.0"
     },
     "execution_count": 76,
     "metadata": {},
     "output_type": "execute_result"
    }
   ],
   "source": [
    "step"
   ]
  },
  {
   "cell_type": "code",
   "execution_count": 77,
   "metadata": {},
   "outputs": [
    {
     "data": {
      "text/plain": "Index(['987983', '182032', '275645', '151021', '573249', '151930', '192439',\n       '705341', '132118', '185442',\n       ...\n       '176441', '199958', '679770', '723141', '150019', '123420', '349244',\n       '200008', '433839', '541943'],\n      dtype='object', length=130)"
     },
     "execution_count": 77,
     "metadata": {},
     "output_type": "execute_result"
    }
   ],
   "source": [
    "cluster1.index "
   ]
  },
  {
   "cell_type": "code",
   "execution_count": 80,
   "metadata": {
    "scrolled": true
   },
   "outputs": [
    {
     "name": "stderr",
     "output_type": "stream",
     "text": [
      "Calculating moving averages: 100%|██████████| 2/2 [00:00<00:00,  3.42it/s]\n"
     ]
    }
   ],
   "source": [
    "SPAM_vols_c1, shift1 = ma.calc_MA_volumes_batch(\\\n",
    "    centers=MA_coords,\n",
    "    buckets_dict=aligned_buckets_C1,\n",
    "    distance_df=cluster1, axis_n=3, FWHM=0.5)"
   ]
  },
  {
   "cell_type": "code",
   "execution_count": null,
   "metadata": {},
   "outputs": [],
   "source": [
    "# SPAM_vols_c1, shift1 = ma.moving_averages_tools.calc_one_MA_volume(aligned_buckets_C1, cluster1, axis_n=3, FWHM=0.5)"
   ]
  },
  {
   "cell_type": "code",
   "execution_count": 81,
   "metadata": {},
   "outputs": [
    {
     "data": {
      "text/plain": "dict_items([(6.944543242454529, array([[[0., 0., 0., ..., 0., 0., 0.],\n        [0., 0., 0., ..., 0., 0., 0.],\n        [0., 0., 0., ..., 0., 0., 0.],\n        ...,\n        [0., 0., 0., ..., 0., 0., 0.],\n        [0., 0., 0., ..., 0., 0., 0.],\n        [0., 0., 0., ..., 0., 0., 0.]],\n\n       [[0., 0., 0., ..., 0., 0., 0.],\n        [0., 0., 0., ..., 0., 0., 0.],\n        [0., 0., 0., ..., 0., 0., 0.],\n        ...,\n        [0., 0., 0., ..., 0., 0., 0.],\n        [0., 0., 0., ..., 0., 0., 0.],\n        [0., 0., 0., ..., 0., 0., 0.]],\n\n       [[0., 0., 0., ..., 0., 0., 0.],\n        [0., 0., 0., ..., 0., 0., 0.],\n        [0., 0., 0., ..., 0., 0., 0.],\n        ...,\n        [0., 0., 0., ..., 0., 0., 0.],\n        [0., 0., 0., ..., 0., 0., 0.],\n        [0., 0., 0., ..., 0., 0., 0.]],\n\n       ...,\n\n       [[0., 0., 0., ..., 0., 0., 0.],\n        [0., 0., 0., ..., 0., 0., 0.],\n        [0., 0., 0., ..., 0., 0., 0.],\n        ...,\n        [0., 0., 0., ..., 0., 0., 0.],\n        [0., 0., 0., ..., 0., 0., 0.],\n        [0., 0., 0., ..., 0., 0., 0.]],\n\n       [[0., 0., 0., ..., 0., 0., 0.],\n        [0., 0., 0., ..., 0., 0., 0.],\n        [0., 0., 0., ..., 0., 0., 0.],\n        ...,\n        [0., 0., 0., ..., 0., 0., 0.],\n        [0., 0., 0., ..., 0., 0., 0.],\n        [0., 0., 0., ..., 0., 0., 0.]],\n\n       [[0., 0., 0., ..., 0., 0., 0.],\n        [0., 0., 0., ..., 0., 0., 0.],\n        [0., 0., 0., ..., 0., 0., 0.],\n        ...,\n        [0., 0., 0., ..., 0., 0., 0.],\n        [0., 0., 0., ..., 0., 0., 0.],\n        [0., 0., 0., ..., 0., 0., 0.]]]))])"
     },
     "execution_count": 81,
     "metadata": {},
     "output_type": "execute_result"
    }
   ],
   "source": [
    "SPAM_vols_c1.items()"
   ]
  },
  {
   "cell_type": "code",
   "execution_count": null,
   "metadata": {
    "scrolled": true
   },
   "outputs": [],
   "source": [
    "SPAM_meshes = {}\n",
    "\n",
    "for k, volume in tqdm(list(SPAM_vols_c1.items())[:]):\n",
    "    SPAM_meshes[k]=dtx.convert.volume_to_mesh(\n",
    "                    vol=volume,\n",
    "                    gblur_sigma=0.0,\n",
    "                    threshold=0.45,\n",
    "                    deciReductionRate=0,\n",
    "                    smoothRate=0.25)\n",
    "    #SPAM_meshes[k] = dtx.mesh.shift_aims_mesh(SPAM_meshes[k], 2*shift1[k])\n",
    "    \n",
    "shifted_SPAM_meshes = {}\n",
    "for dist, mesh in SPAM_meshes.items():\n",
    "    shifted_SPAM_meshes[str(dist)] = dtx.mesh.shift_aims_mesh_along_axis(mesh, dist, axis=0, scale=30)"
   ]
  },
  {
   "cell_type": "code",
   "execution_count": null,
   "metadata": {},
   "outputs": [],
   "source": [
    "fig = cld.draw(list(SPAM_vols_c1.values())[0], th_min=0.2)\n",
    "cld.draw(list(SPAM_meshes.values())[0], fig=fig)"
   ]
  },
  {
   "cell_type": "code",
   "execution_count": null,
   "metadata": {},
   "outputs": [],
   "source": [
    "for x, mesh in tqdm(shifted_SPAM_meshes.items()):\n",
    "    aims.write(mesh, f\"MA_{x}_2cluster33.mesh\")#### Saving of average crops"
   ]
  },
  {
   "cell_type": "markdown",
   "metadata": {},
   "source": [
    "### Whole cluster analysis"
   ]
  },
  {
   "cell_type": "code",
   "execution_count": null,
   "metadata": {},
   "outputs": [],
   "source": [
    "clusters_centroids"
   ]
  },
  {
   "cell_type": "code",
   "execution_count": null,
   "metadata": {},
   "outputs": [],
   "source": [
    "np.mean(clusters_centroids,axis=0)"
   ]
  },
  {
   "cell_type": "code",
   "execution_count": null,
   "metadata": {
    "scrolled": true
   },
   "outputs": [],
   "source": [
    "clusters_centroids = kmeans.cluster_centers_\n",
    "print(f\"cluster's centroids coordinates: \\n {clusters_centroids}\")\n",
    "centroid = np.mean(clusters_centroids, axis=0)\n",
    "print(centroid)\n",
    "\n",
    "central = closest_distance(centroid, dstrb_sub.drop(['cluster_lab'], axis=1))\n",
    "print(f\"Closest subject to centroid of cluster is {central}\")\n",
    "print(dstrb_sub[3][str(central)], dstrb_sub[4][str(central)])"
   ]
  },
  {
   "cell_type": "code",
   "execution_count": null,
   "metadata": {},
   "outputs": [],
   "source": [
    "aligned_buckets, aligned_rot, aligned_transl = ma.align_buckets_by_ICP_batch(buckets, central)"
   ]
  },
  {
   "cell_type": "code",
   "execution_count": null,
   "metadata": {},
   "outputs": [],
   "source": [
    "MA_coords = get_MA_coords(dstrb_sub, 3, num_subj_threshold=14, num_coord=5)\n",
    "step = step = MA_coords[1]-MA_coords[0]"
   ]
  },
  {
   "cell_type": "code",
   "execution_count": null,
   "metadata": {},
   "outputs": [],
   "source": [
    "MA_coords"
   ]
  },
  {
   "cell_type": "code",
   "execution_count": null,
   "metadata": {},
   "outputs": [],
   "source": [
    "step"
   ]
  },
  {
   "cell_type": "code",
   "execution_count": null,
   "metadata": {},
   "outputs": [],
   "source": [
    "len(dstrb_sub)"
   ]
  },
  {
   "cell_type": "code",
   "execution_count": null,
   "metadata": {},
   "outputs": [],
   "source": [
    "#SPAM_centers_c1 = [-2.05716]\n",
    "#SPAM_vols_c1, shift1 = ma.calc_MA_volumes_batch(SPAM_centers_c1, aligned_buckets_C1, cluster1, axis_n=1, FWHM=1)\n",
    "SPAM_vols, shift = ma.calc_MA_volumes_batch(MA_coords, aligned_buckets, dstrb_sub, axis_n=1, FWHM=1)"
   ]
  },
  {
   "cell_type": "code",
   "execution_count": null,
   "metadata": {},
   "outputs": [],
   "source": [
    "# Draws first volume in the brochette\n",
    "cld.draw(list(SPAM_vols.values())[0], th_min=0.3)"
   ]
  },
  {
   "cell_type": "code",
   "execution_count": null,
   "metadata": {},
   "outputs": [],
   "source": [
    "# Draws last volume in the brochette\n",
    "cld.draw(list(SPAM_vols.values())[-1], th_min=0.3)"
   ]
  },
  {
   "cell_type": "code",
   "execution_count": null,
   "metadata": {
    "scrolled": true
   },
   "outputs": [],
   "source": [
    "SPAM_meshes = {}\n",
    "\n",
    "for k, volume in tqdm(list(SPAM_vols.items())[:]):\n",
    "    SPAM_meshes[k]=dtx.convert.volume_to_mesh(\n",
    "                    vol=volume,\n",
    "                    gblur_sigma=0,\n",
    "                    threshold=0.45,\n",
    "                    deciReductionRate=0,\n",
    "                    smoothRate=0.4)\n",
    "    #SPAM_meshes[k] = dtx.mesh.shift_aims_mesh(SPAM_meshes[k], 2*shift1[k])\n",
    "    \n",
    "shifted_SPAM_meshes = {}\n",
    "for dist, mesh in SPAM_meshes.items():\n",
    "    shifted_SPAM_meshes[str(dist)] = dtx.mesh.shift_aims_mesh_along_axis(mesh, dist, axis=0, scale=20)"
   ]
  },
  {
   "cell_type": "code",
   "execution_count": null,
   "metadata": {},
   "outputs": [],
   "source": [
    "for x, mesh in tqdm(shifted_SPAM_meshes.items()):\n",
    "    aims.write(mesh, f\"MA_{x}_2cluster44.mesh\")#### Saving of average crops"
   ]
  },
  {
   "cell_type": "code",
   "execution_count": null,
   "metadata": {},
   "outputs": [],
   "source": [
    "cld.draw(list(SPAM_meshes.values())[0])"
   ]
  },
  {
   "cell_type": "code",
   "execution_count": null,
   "metadata": {},
   "outputs": [],
   "source": [
    "cld.draw(list(SPAM_meshes.values())[4])"
   ]
  },
  {
   "cell_type": "code",
   "execution_count": null,
   "metadata": {},
   "outputs": [],
   "source": [
    "fig = cld.draw(list(SPAM_vols.values())[0], th_min=0.2)\n",
    "cld.draw(list(SPAM_meshes.values())[0], fig=fig)"
   ]
  },
  {
   "cell_type": "code",
   "execution_count": null,
   "metadata": {},
   "outputs": [],
   "source": [
    "SPAM_centers_c2 = [0]\n",
    "SPAM_vols_c2, shift2 = ma.calc_MA_volumes_batch(SPAM_centers_c2, aligned_buckets_C2, cluster2, axis_n=3, FWHM=1)"
   ]
  },
  {
   "cell_type": "markdown",
   "metadata": {},
   "source": [
    "#### Visualization of average crops of both clusters"
   ]
  },
  {
   "cell_type": "code",
   "execution_count": null,
   "metadata": {},
   "outputs": [],
   "source": [
    "fig = cld.draw(shifted_SPAM_meshes)\n",
    "ma.plot.brochette_layout(fig, \"subjects meshes\")"
   ]
  },
  {
   "cell_type": "code",
   "execution_count": null,
   "metadata": {},
   "outputs": [],
   "source": [
    "\n",
    "for x, mesh in tqdm(shifted_SPAM_meshes.items()):\n",
    "    aims.write(mesh, f\"MA_{x}_2cluster2.mesh\")"
   ]
  },
  {
   "cell_type": "markdown",
   "metadata": {},
   "source": [
    "# Saves extreme bucket files"
   ]
  },
  {
   "cell_type": "code",
   "execution_count": null,
   "metadata": {},
   "outputs": [],
   "source": [
    "arr = np.array([np.array([dstrb_sub[k][i] for k in dstrb_sub.columns[2:4]]) for i in range(len(dstrb_sub))])\n",
    "\n",
    "# Selects subjects whose 3rd dimension is higher than 14\n",
    "ix_sup14 = np.where(arr[:,0] > 14.)\n",
    "print(ix_sup14)"
   ]
  },
  {
   "cell_type": "code",
   "execution_count": null,
   "metadata": {},
   "outputs": [],
   "source": [
    "for ix in np.nditer(ix_sup14):\n",
    "    sub = dstrb_sub.index[ix]\n",
    "    aims.write(dtx.convert.bucket_numpy_to_bucketMap_aims(buckets[sub]), f\">14_{sub}.bck\")"
   ]
  },
  {
   "cell_type": "code",
   "execution_count": null,
   "metadata": {},
   "outputs": [],
   "source": [
    "# Selects subjects whose 3rd dimension is less than 1\n",
    "ix_inf1 = np.where(arr[:,0] < 1.)\n",
    "print(ix_inf1)"
   ]
  },
  {
   "cell_type": "code",
   "execution_count": null,
   "metadata": {},
   "outputs": [],
   "source": [
    "for ix in np.nditer(ix_inf1):\n",
    "    sub = dstrb_sub.index[ix]\n",
    "    aims.write(dtx.convert.bucket_numpy_to_bucketMap_aims(buckets[sub]), f\"<1_{sub}.bck\")"
   ]
  },
  {
   "cell_type": "code",
   "execution_count": null,
   "metadata": {},
   "outputs": [],
   "source": []
  }
 ],
 "metadata": {
  "kernelspec": {
   "display_name": "Run_29_python3",
   "name": "run_29_python3"
  },
  "language_info": {
   "codemirror_mode": {
    "name": "ipython",
    "version": 3
   },
   "file_extension": ".py",
   "mimetype": "text/x-python",
   "name": "python",
   "nbconvert_exporter": "python",
   "pygments_lexer": "ipython3",
   "version": "3.6.9"
  },
  "orig_nbformat": 3
 },
 "nbformat": 4,
 "nbformat_minor": 5
}
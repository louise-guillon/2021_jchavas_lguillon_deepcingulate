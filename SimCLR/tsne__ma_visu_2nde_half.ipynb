{
 "cells": [
  {
   "cell_type": "markdown",
   "metadata": {},
   "source": [
    "# Moving Averages CINGULATE region"
   ]
  },
  {
   "cell_type": "markdown",
   "metadata": {},
   "source": [
    "# 1) Imports"
   ]
  },
  {
   "cell_type": "markdown",
   "metadata": {},
   "source": []
  },
  {
   "cell_type": "code",
   "execution_count": null,
   "metadata": {},
   "outputs": [
    {
     "ename": "Error",
     "evalue": "Kernel is dead",
     "output_type": "error",
     "traceback": [
      "Error: Kernel is dead",
      "at g._sendKernelShellControl (/casa/home/.vscode/extensions/ms-toolsai.jupyter-2021.6.832593372/out/client/extension.js:52:846419)",
      "at g.sendShellMessage (/casa/home/.vscode/extensions/ms-toolsai.jupyter-2021.6.832593372/out/client/extension.js:52:846188)",
      "at g.requestExecute (/casa/home/.vscode/extensions/ms-toolsai.jupyter-2021.6.832593372/out/client/extension.js:52:848730)",
      "at d.requestExecute (/casa/home/.vscode/extensions/ms-toolsai.jupyter-2021.6.832593372/out/client/extension.js:37:294720)",
      "at w.requestExecute (/casa/home/.vscode/extensions/ms-toolsai.jupyter-2021.6.832593372/out/client/extension.js:24:130554)",
      "at w.executeCodeCell (/casa/home/.vscode/extensions/ms-toolsai.jupyter-2021.6.832593372/out/client/extension.js:90:315950)",
      "at w.execute (/casa/home/.vscode/extensions/ms-toolsai.jupyter-2021.6.832593372/out/client/extension.js:90:315573)",
      "at w.start (/casa/home/.vscode/extensions/ms-toolsai.jupyter-2021.6.832593372/out/client/extension.js:90:311378)",
      "at runMicrotasks (<anonymous>)",
      "at processTicksAndRejections (internal/process/task_queues.js:93:5)",
      "at async t.CellExecutionQueue.executeQueuedCells (/casa/home/.vscode/extensions/ms-toolsai.jupyter-2021.6.832593372/out/client/extension.js:90:325786)",
      "at async t.CellExecutionQueue.start (/casa/home/.vscode/extensions/ms-toolsai.jupyter-2021.6.832593372/out/client/extension.js:90:325326)"
     ]
    }
   ],
   "source": [
    "import os\n",
    "import glob\n",
    "import sys\n",
    "import json\n",
    "\n",
    "p = os.path.abspath('../')\n",
    "if p not in sys.path:\n",
    "    sys.path.append(p)"
   ]
  },
  {
   "cell_type": "code",
   "execution_count": null,
   "metadata": {},
   "outputs": [],
   "source": [
    "import moving_averages as ma\n",
    "import colorado as cld\n",
    "import dico_toolbox as dtx\n",
    "from tqdm import tqdm\n",
    "\n",
    "import pandas as pd\n",
    "import numpy as np\n",
    "from scipy.spatial import distance\n",
    "\n",
    "import plotly.graph_objects as go\n",
    "import pickle\n",
    "import matplotlib.pyplot as plt\n",
    "\n",
    "from soma import aims\n",
    "\n",
    "import torch\n",
    "\n",
    "from sklearn.cluster import KMeans, SpectralClustering, AffinityPropagation\n",
    "from sklearn.cluster import DBSCAN\n",
    "from sklearn import metrics\n",
    "from sklearn.manifold import TSNE\n",
    "\n",
    "import matplotlib.cm as cm\n",
    "\n",
    "from hydra import initialize, initialize_config_module, initialize_config_dir, compose\n",
    "from omegaconf import OmegaConf, DictConfig"
   ]
  },
  {
   "cell_type": "markdown",
   "metadata": {},
   "source": [
    "# 2) Functions and datasets"
   ]
  },
  {
   "cell_type": "code",
   "execution_count": null,
   "metadata": {},
   "outputs": [],
   "source": [
    "def closest_distance(centroid, df):\n",
    "    \"\"\"Returns closest point to centroid of a given cluster\n",
    "    /!\\ central_point is part of the defined set of points\n",
    "    Args:\n",
    "        IN: centroid: tuple of coordinates of centroid\n",
    "            df: pandas.DataFrame with index corresponding to subjects and as many columns as coordinates\n",
    "        OUT: central_point: subject ID corresponding to closest point to the centroid\n",
    "    \"\"\"\n",
    "    # df must have as many columns as dimensions to consider\n",
    "    distances = {}\n",
    "    # Get distances to centroid for each point\n",
    "    for sub in list(df.index):\n",
    "        pos = [df.loc[sub][k] for k in range(0, len(df.columns))]\n",
    "        distances[sub] = distance.euclidean(pos, centroid)\n",
    "    # Get closest point to centroid\n",
    "    central_point = min(distances, key=distances.get)\n",
    "    return central_point"
   ]
  },
  {
   "cell_type": "code",
   "execution_count": null,
   "metadata": {},
   "outputs": [],
   "source": [
    "def mscatter(x, y, ax=None, m=None, **kw):\n",
    "    if not ax:\n",
    "        ax = plt.gca()\n",
    "    sc = ax.scatter(x, y, **kw)\n",
    "    if (m is not None) and (len(m) == len(x)):\n",
    "        paths = []\n",
    "        for marker in m:\n",
    "            if isinstance(marker, mmarkers.MarkerStyle):\n",
    "                marker_obj = marker\n",
    "            else:\n",
    "                marker_obj = mmarkers.MarkerStyle(marker)\n",
    "            path = marker_obj.get_path().transformed(\n",
    "                marker_obj.get_transform())\n",
    "            paths.append(path)\n",
    "        sc.set_paths(paths)\n",
    "    return sc"
   ]
  },
  {
   "cell_type": "code",
   "execution_count": null,
   "metadata": {},
   "outputs": [],
   "source": [
    "path = '/neurospin/dico/data/deep_folding/current/crops/CINGULATE/mask/sulcus_based/2mm/centered_combined/hcp/Rcrops/'"
   ]
  },
  {
   "cell_type": "code",
   "execution_count": null,
   "metadata": {},
   "outputs": [],
   "source": [
    "if torch.cuda.is_available():\n",
    "    device = \"cuda:0\"\n",
    "print(device)"
   ]
  },
  {
   "cell_type": "code",
   "execution_count": null,
   "metadata": {},
   "outputs": [],
   "source": [
    "# We load the mebeddings\n",
    "result_dir = '/host/volatile/jc225751/Runs/28_cingulate_back_to_2mm/Output/t-0.1/n-004_o-4_2nde_half'\n",
    "train_val_embeddings_file = f\"{result_dir}/train_val_embeddings.pt\"\n",
    "embeddings = torch.load(train_val_embeddings_file)\n",
    "print(embeddings.shape)"
   ]
  },
  {
   "cell_type": "code",
   "execution_count": null,
   "metadata": {},
   "outputs": [],
   "source": [
    "# We load the labels\n",
    "with open(f\"{result_dir}/train_val_filenames.json\", 'r') as f:\n",
    "    subject_labels = json.load(f)\n",
    "print(subject_labels[0])    "
   ]
  },
  {
   "cell_type": "markdown",
   "metadata": {},
   "source": [
    "# 3) T-SNE and different clusterings"
   ]
  },
  {
   "cell_type": "code",
   "execution_count": null,
   "metadata": {},
   "outputs": [],
   "source": [
    "tsne = TSNE(n_components=2, perplexity=30, init='pca', random_state=50)\n",
    "X_tsne = tsne.fit_transform(embeddings)"
   ]
  },
  {
   "cell_type": "code",
   "execution_count": null,
   "metadata": {},
   "outputs": [],
   "source": [
    "fig, ax = plt.subplots(1)\n",
    "mscatter(X_tsne[:, 0], X_tsne[:, 1], s=20, ax=ax)\n",
    "plt.show()\n"
   ]
  },
  {
   "cell_type": "code",
   "execution_count": null,
   "metadata": {},
   "outputs": [],
   "source": [
    "X_tsne.shape "
   ]
  },
  {
   "cell_type": "code",
   "execution_count": null,
   "metadata": {},
   "outputs": [],
   "source": [
    "af = AffinityPropagation().fit(X_tsne)\n",
    "cluster_labels_ini = af.labels_\n",
    "initial_centers = af.cluster_centers_indices_\n",
    "n_clusters_ = len(initial_centers)\n",
    "while n_clusters_ > 5:\n",
    "    af = AffinityPropagation().fit(X_tsne[af.cluster_centers_indices_])\n",
    "    cluster_labels_af = af.labels_\n",
    "    x_cluster_label_af = af.predict(X_tsne)\n",
    "    n_clusters_ = len(af.cluster_centers_indices_)\n",
    "    print(n_clusters_)\n",
    "\n",
    "print(f\"Average silhouette score: {metrics.silhouette_score(X_tsne, x_cluster_label_af)}\")"
   ]
  },
  {
   "cell_type": "code",
   "execution_count": null,
   "metadata": {},
   "outputs": [],
   "source": [
    "fig, ax = plt.subplots(1)\n",
    "mscatter(X_tsne[:, 0], X_tsne[:, 1], c=x_cluster_label_af, s=20, ax=ax)\n",
    "plt.show()"
   ]
  },
  {
   "cell_type": "code",
   "execution_count": null,
   "metadata": {},
   "outputs": [],
   "source": [
    "kmeans = KMeans(n_clusters=10, random_state=0).fit(X_tsne)\n",
    "cluster_labels_kmeans = kmeans.labels_\n",
    "x_cluster_label_kmeans = kmeans.predict(X_tsne)\n",
    "clusters_centroids_kmeans = kmeans.cluster_centers_\n",
    "print(f\"clusters centroids = {clusters_centroids_kmeans.shape}\")\n",
    "print(f\"Average silhouette score: {metrics.silhouette_score(X_tsne, cluster_labels_kmeans)}\")\n"
   ]
  },
  {
   "cell_type": "code",
   "execution_count": null,
   "metadata": {},
   "outputs": [],
   "source": [
    "fig, ax = plt.subplots(1)\n",
    "mscatter(X_tsne[:, 0], X_tsne[:, 1], c=x_cluster_label_kmeans, s=20, ax=ax)\n",
    "plt.show()"
   ]
  },
  {
   "cell_type": "code",
   "execution_count": null,
   "metadata": {},
   "outputs": [],
   "source": [
    "dbscan = DBSCAN(eps=2).fit(X_tsne)\n",
    "cluster_labels_dbscan = dbscan.labels_\n",
    "x_cluster_label_dbscan = dbscan.fit_predict(X_tsne)\n",
    "print(f\"Average silhouette score: {metrics.silhouette_score(X_tsne, cluster_labels_dbscan)}\")\n"
   ]
  },
  {
   "cell_type": "code",
   "execution_count": null,
   "metadata": {},
   "outputs": [],
   "source": [
    "fig, ax = plt.subplots(1)\n",
    "mscatter(X_tsne[:, 0], X_tsne[:, 1], c=x_cluster_label_dbscan, s=20, ax=ax)\n",
    "plt.show()"
   ]
  },
  {
   "cell_type": "markdown",
   "metadata": {},
   "source": [
    "# 4) MA with AffinityPropagation clustering"
   ]
  },
  {
   "cell_type": "code",
   "execution_count": null,
   "metadata": {},
   "outputs": [],
   "source": [
    "x_cluster_label_af.shape"
   ]
  },
  {
   "cell_type": "code",
   "execution_count": null,
   "metadata": {},
   "outputs": [],
   "source": [
    "dstrb_sub = pd.DataFrame(X_tsne, index=subject_labels, columns=[0,1])\n",
    "dstrb_sub['af_label'] = x_cluster_label_af"
   ]
  },
  {
   "cell_type": "code",
   "execution_count": null,
   "metadata": {},
   "outputs": [],
   "source": [
    "dstrb_sub.head()"
   ]
  },
  {
   "cell_type": "code",
   "execution_count": null,
   "metadata": {},
   "outputs": [],
   "source": [
    "clusters_centroids = af.cluster_centers_\n",
    "print(f\"cluster's centroids coordinates: \\n {clusters_centroids}\")"
   ]
  },
  {
   "cell_type": "code",
   "execution_count": null,
   "metadata": {},
   "outputs": [],
   "source": [
    "dstrb_sub.loc[dstrb_sub.index[0]]"
   ]
  },
  {
   "cell_type": "code",
   "execution_count": null,
   "metadata": {},
   "outputs": [],
   "source": [
    "central = []\n",
    "for i in range(clusters_centroids.shape[0]):\n",
    "    central.append(closest_distance(clusters_centroids[i], dstrb_sub.drop(['af_label'], axis=1)))\n",
    "    print(f\"Closest subject to centroid of cluster {i} is {central[i]}\")"
   ]
  },
  {
   "cell_type": "code",
   "execution_count": null,
   "metadata": {},
   "outputs": [],
   "source": [
    "arr = np.array([np.array([dstrb_sub[k][i] for k in dstrb_sub.columns[0:2]]) for i in range(len(dstrb_sub))])\n",
    "\n",
    "color_dict = {0: 'blue', 1:'red', 2:'green', 3:'magenta'}\n",
    "fig, ax = plt.subplots()\n",
    "\n",
    "for g in np.unique([dstrb_sub.af_label]):\n",
    "    ix = np.where(dstrb_sub.af_label == g)\n",
    "    x = [arr[ix][k][0] for k in range(len(ix[0]))]\n",
    "    y = [arr[ix][k][1] for k in range(len(ix[0]))]\n",
    "    ax.scatter(x, y, c = color_dict[g], label = g)\n",
    "\n",
    "for g in np.unique([dstrb_sub.af_label]):\n",
    "    ax.scatter(clusters_centroids[g][0],\n",
    "               clusters_centroids[g][1],\n",
    "               color='black',\n",
    "               marker='X',\n",
    "               s=120)\n",
    "\n",
    "plt.xlabel(f't-SNE dimension 1', fontsize=14)\n",
    "plt.ylabel(f't-SNE dimension 2', fontsize=14)\n",
    "plt.legend()\n",
    "plt.show()"
   ]
  },
  {
   "cell_type": "code",
   "execution_count": null,
   "metadata": {},
   "outputs": [],
   "source": [
    "arr = np.array([np.array([dstrb_sub[k][i] for k in dstrb_sub.columns[0:2]]) for i in range(len(dstrb_sub))])\n",
    "\n",
    "color_dict = {0: 'blue', 1:'red', 2:'green', 3:'magenta'}\n",
    "fig, ax = plt.subplots()\n",
    "\n",
    "for g in np.unique([dstrb_sub.af_label]):\n",
    "    ix = np.where(dstrb_sub.af_label == g)\n",
    "    x = [arr[ix][k][0] for k in range(len(ix[0]))]\n",
    "    y = [arr[ix][k][1] for k in range(len(ix[0]))]\n",
    "    ax.scatter(x, y, c = color_dict[g], label = f\"cluster {g}\")\n",
    "\n",
    "plt.xlabel(f'tSNE dimension 1', fontsize=14)\n",
    "plt.ylabel(f'tSNE dimension 2', fontsize=14)\n",
    "plt.legend(bbox_to_anchor=(1.28,1))\n",
    "plt.show()"
   ]
  },
  {
   "cell_type": "code",
   "execution_count": null,
   "metadata": {},
   "outputs": [],
   "source": [
    "print(len(dstrb_sub))"
   ]
  },
  {
   "cell_type": "code",
   "execution_count": null,
   "metadata": {},
   "outputs": [],
   "source": [
    "clusters = []\n",
    "for lab in np.unique([dstrb_sub.af_label]):\n",
    "    cluster_df = dstrb_sub[dstrb_sub.af_label==lab]\n",
    "    clusters.append(cluster_df)\n",
    "for lab in np.unique([dstrb_sub.af_label]):\n",
    "    assert(len(np.unique(list(clusters[lab].af_label)))==1)"
   ]
  },
  {
   "cell_type": "markdown",
   "metadata": {},
   "source": [
    "### Creation of buckets dictionnary"
   ]
  },
  {
   "cell_type": "code",
   "execution_count": null,
   "metadata": {
    "scrolled": true
   },
   "outputs": [],
   "source": [
    "bucket_path = '/neurospin/dico/data/deep_folding/current/crops/CINGULATE/mask/sulcus_based/2mm/centered_combined/hcp/Rbuckets/'\n",
    "suffix_path = '_normalized.bck'\n",
    "buckets = {}\n",
    "for sub in tqdm(list(subject_labels)):\n",
    "    bucket = aims.read(os.path.join(bucket_path, str(sub) + suffix_path))\n",
    "    bucket = dtx.convert.bucket_aims_to_ndarray(bucket[0])\n",
    "    buckets[sub] = bucket"
   ]
  },
  {
   "cell_type": "code",
   "execution_count": null,
   "metadata": {},
   "outputs": [],
   "source": [
    "clusters[0].index"
   ]
  },
  {
   "cell_type": "code",
   "execution_count": null,
   "metadata": {},
   "outputs": [],
   "source": [
    "subjects = []\n",
    "for lab in range(len(clusters)):\n",
    "    subject = clusters[lab].index\n",
    "    subjects.append(subject)"
   ]
  },
  {
   "cell_type": "code",
   "execution_count": null,
   "metadata": {},
   "outputs": [],
   "source": [
    "buckets_c = []\n",
    "for lab in range(len(subjects)):\n",
    "    bucket_c = {k: v for k,v in buckets.items() if k in list(subjects[lab])}\n",
    "    buckets_c.append(bucket_c)"
   ]
  },
  {
   "cell_type": "code",
   "execution_count": null,
   "metadata": {},
   "outputs": [],
   "source": [
    "cld.draw(list(buckets_c[0].values())[0])"
   ]
  },
  {
   "cell_type": "markdown",
   "metadata": {},
   "source": [
    "#### Alignement of the subjects to respective central subject"
   ]
  },
  {
   "cell_type": "code",
   "execution_count": null,
   "metadata": {
    "scrolled": true
   },
   "outputs": [],
   "source": [
    "aligned_buckets = []\n",
    "aligned_rot = []\n",
    "aligned_transl = []\n",
    "\n",
    "for lab in range(len(subjects)):\n",
    "    print(lab)\n",
    "    buck, rot, trans = ma.align_buckets_by_ICP_batch(buckets_c[lab], central[lab])\n",
    "    aligned_buckets.append(buck)\n",
    "    aligned_rot.append(rot)\n",
    "    aligned_transl.append(trans)"
   ]
  },
  {
   "cell_type": "code",
   "execution_count": null,
   "metadata": {},
   "outputs": [],
   "source": [
    "for lab in range(len(subjects)):\n",
    "    plt.hist(clusters[lab][0], alpha=0.5)\n",
    "plt.show()"
   ]
  },
  {
   "cell_type": "code",
   "execution_count": null,
   "metadata": {},
   "outputs": [],
   "source": [
    "for lab in range(len(subjects)):\n",
    "    plt.hist(clusters[lab][1], alpha=0.5)\n",
    "plt.show()"
   ]
  },
  {
   "cell_type": "code",
   "execution_count": null,
   "metadata": {},
   "outputs": [],
   "source": [
    "def subj_count_extreme_coords(isodf, axis, min_coord, max_coord, num_coord=10):\n",
    "    coord_values = np.linspace(min_coord, max_coord, num_coord)\n",
    "    step = (coord_values[1] - coord_values[0])\n",
    "    midpoint_min = coord_values[0] + step/2\n",
    "    midpoint_max = coord_values[num_coord-1] - step/2\n",
    "    coord_under = [elt for elt in isodf[axis] if elt<midpoint_min]\n",
    "    coord_over = [elt for elt in isodf[axis] if elt>midpoint_max]\n",
    "    num_subj_under = len(coord_under)\n",
    "    num_subj_over = len(coord_over)\n",
    "    return num_subj_under, num_subj_over\n",
    "\n",
    "def get_MA_coords(isodf, axis, num_subj_threshold, num_coord=10):\n",
    "    min_subj_coord = min(isodf[axis])\n",
    "    max_subj_coord = max(isodf[axis])\n",
    "    step = (max_subj_coord - min_subj_coord)/num_coord\n",
    "    num_subj_under, num_subj_over = subj_count_extreme_coords(isodf, axis, min_subj_coord, max_subj_coord)\n",
    "    while ((num_subj_under<num_subj_threshold)|(num_subj_over<num_subj_threshold)):\n",
    "        step = (max_subj_coord - min_subj_coord)/num_coord\n",
    "        if num_subj_under<num_subj_threshold:\n",
    "            min_subj_coord = min_subj_coord + step\n",
    "        if num_subj_over<num_subj_threshold:\n",
    "            max_subj_coord = max_subj_coord - step\n",
    "        num_subj_under, num_subj_over = subj_count_extreme_coords(isodf, axis, min_subj_coord, max_subj_coord)\n",
    "    return np.linspace(min_subj_coord, max_subj_coord, num_coord)"
   ]
  },
  {
   "cell_type": "code",
   "execution_count": null,
   "metadata": {},
   "outputs": [],
   "source": [
    "clusters[0].head()"
   ]
  },
  {
   "cell_type": "code",
   "execution_count": null,
   "metadata": {},
   "outputs": [],
   "source": [
    "clusters_centroids"
   ]
  },
  {
   "cell_type": "markdown",
   "metadata": {},
   "source": [
    "# Average on the first axis"
   ]
  },
  {
   "cell_type": "code",
   "execution_count": null,
   "metadata": {
    "scrolled": true
   },
   "outputs": [],
   "source": [
    "FWHM = [10., 10., 10., 10.]\n",
    "SPAM_vols = [[], []]\n",
    "shift = [[], []]\n",
    "for ax in [0, 1]:\n",
    "    for i in range(len(subjects)):\n",
    "        vol_1, shift_1 = ma.moving_averages_tools.calc_one_MA_volume(\n",
    "            buckets_dict=aligned_buckets[i], \n",
    "            distance_df=clusters[i],\n",
    "            axis_n=ax,\n",
    "            center=clusters_centroids[i][ax],\n",
    "            FWHM=FWHM[i])\n",
    "        SPAM_vols_1 = dict({clusters_centroids[i][ax]:vol_1})\n",
    "        SPAM_vols[ax].append(SPAM_vols_1)\n",
    "        shift[ax].append(shift_1)\n"
   ]
  },
  {
   "cell_type": "code",
   "execution_count": null,
   "metadata": {
    "scrolled": true
   },
   "outputs": [],
   "source": [
    "SPAM_meshes = [[], []]\n",
    "thresholds = [[0.45, 0.44, 0.4, 0.4], [0.38, 0.42, 0.4, 0.42]]\n",
    "threshold = 0.62\n",
    "\n",
    "for ax in [0, 1]:\n",
    "    for i in range(len(subjects)):\n",
    "        SPAM_mesh_1 = {}\n",
    "\n",
    "        for k, volume in tqdm(list(SPAM_vols[ax][i].items())[:]):\n",
    "            SPAM_mesh_1[k]=dtx.convert.volume_to_mesh(\n",
    "                            vol=volume,\n",
    "                            gblur_sigma=0.0,\n",
    "                            threshold=threshold,\n",
    "                            deciReductionRate=0,\n",
    "                            smoothRate=0.1)\n",
    "        SPAM_meshes[ax].append(SPAM_mesh_1)\n"
   ]
  },
  {
   "cell_type": "code",
   "execution_count": null,
   "metadata": {},
   "outputs": [],
   "source": [
    "fig = cld.draw(list(SPAM_vols[1][0].values())[0], th_min=0.2)\n",
    "cld.draw(list(SPAM_meshes[1][0].values())[0], fig=fig)"
   ]
  },
  {
   "cell_type": "code",
   "execution_count": null,
   "metadata": {},
   "outputs": [],
   "source": [
    "SPAM_meshes[0][1]"
   ]
  },
  {
   "cell_type": "code",
   "execution_count": null,
   "metadata": {},
   "outputs": [],
   "source": [
    "for ax in [0, 1]:\n",
    "    for i in range(len(subjects)):\n",
    "        for _, mesh in tqdm(SPAM_meshes[ax][i].items()):\n",
    "            aims.write(mesh, f\"AF_cluster_ax{ax}_{i}.mesh\")"
   ]
  },
  {
   "cell_type": "markdown",
   "metadata": {},
   "source": []
  },
  {
   "cell_type": "markdown",
   "metadata": {},
   "source": [
    "# Find typical examples"
   ]
  },
  {
   "cell_type": "code",
   "execution_count": null,
   "metadata": {},
   "outputs": [],
   "source": [
    "clusters[0].head()"
   ]
  },
  {
   "cell_type": "code",
   "execution_count": null,
   "metadata": {},
   "outputs": [],
   "source": [
    "clusters[0].nsmallest(2,[0])"
   ]
  },
  {
   "cell_type": "code",
   "execution_count": null,
   "metadata": {},
   "outputs": [],
   "source": [
    "def compute_distance(df_in, centroid):\n",
    "    \"\"\"Computes distance from centroid\"\"\"\n",
    "    df_out = df_in\n",
    "    df_out['distance'] = (df_out[0]-centroid[0])**2 + (df_out[1]-centroid[1])**2\n",
    "    return df_out"
   ]
  },
  {
   "cell_type": "code",
   "execution_count": null,
   "metadata": {},
   "outputs": [],
   "source": [
    "clusters[0] = compute_distance(clusters[0], clusters_centroids[0])"
   ]
  },
  {
   "cell_type": "code",
   "execution_count": null,
   "metadata": {},
   "outputs": [],
   "source": [
    "neighbours = []\n",
    "for i in range(len(subjects)):\n",
    "    clusters[i] = compute_distance(clusters[i], clusters_centroids[i])\n",
    "    neighbours.append(list(clusters[i].nsmallest(4,'distance').index))\n",
    "print(neighbours)"
   ]
  },
  {
   "cell_type": "code",
   "execution_count": null,
   "metadata": {},
   "outputs": [],
   "source": [
    "for idx, lab in enumerate(neighbours):\n",
    "    for sub in lab:\n",
    "        sub_bucket = dtx.convert.bucket_numpy_to_bucketMap_aims(buckets[sub])\n",
    "        aims.write(sub_bucket, f\"{idx}_{sub}.bck\")"
   ]
  },
  {
   "cell_type": "code",
   "execution_count": null,
   "metadata": {},
   "outputs": [],
   "source": []
  }
 ],
 "metadata": {
  "kernelspec": {
   "display_name": "Run_28_python3",
   "language": "python",
   "name": "run_28_python3"
  },
  "language_info": {
   "name": "python",
   "version": ""
  },
  "orig_nbformat": 3
 },
 "nbformat": 4,
 "nbformat_minor": 5
}
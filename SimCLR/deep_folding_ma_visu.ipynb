{
 "cells": [
  {
   "cell_type": "markdown",
   "metadata": {},
   "source": [
    "# Moving Averages CINGULATE region"
   ]
  },
  {
   "cell_type": "markdown",
   "metadata": {},
   "source": [
    "### 1) Imports"
   ]
  },
  {
   "cell_type": "markdown",
   "metadata": {},
   "source": []
  },
  {
   "cell_type": "code",
   "execution_count": 40,
   "metadata": {},
   "outputs": [],
   "source": [
    "import os\n",
    "import glob\n",
    "import sys\n",
    "import json\n",
    "\n",
    "p = os.path.abspath('../')\n",
    "if p not in sys.path:\n",
    "    sys.path.append(p)"
   ]
  },
  {
   "cell_type": "code",
   "execution_count": null,
   "metadata": {},
   "outputs": [],
   "source": [
    "import moving_averages as ma\n",
    "import colorado as cld\n",
    "import dico_toolbox as dtx\n",
    "from tqdm import tqdm\n",
    "\n",
    "import pandas as pd\n",
    "import numpy as np\n",
    "from scipy.spatial import distance\n",
    "\n",
    "import plotly.graph_objects as go\n",
    "import pickle\n",
    "import matplotlib.pyplot as plt\n",
    "\n",
    "from soma import aims\n",
    "\n",
    "import torch\n",
    "\n",
    "from sklearn.cluster import KMeans, SpectralClustering, AffinityPropagation\n",
    "from sklearn import metrics\n",
    "\n",
    "import matplotlib.cm as cm\n",
    "\n",
    "from hydra import initialize, initialize_config_module, initialize_config_dir, compose\n",
    "from omegaconf import OmegaConf, DictConfig"
   ]
  },
  {
   "cell_type": "code",
   "execution_count": null,
   "metadata": {},
   "outputs": [],
   "source": [
    "def closest_distance(centroid, df):\n",
    "    \"\"\"Returns closest point to centroid of a given cluster\n",
    "    /!\\ central_point is part of the defined set of points\n",
    "    Args:\n",
    "        IN: centroid: tuple of coordinates of centroid\n",
    "            df: pandas.DataFrame with index corresponding to subjects and as many columns as coordinates\n",
    "        OUT: central_point: subject ID corresponding to closest point to the centroid\n",
    "    \"\"\"\n",
    "    # df must have as many columns as dimensions to consider\n",
    "    distances = {}\n",
    "    # Get distances to centroid for each point\n",
    "    for sub in list(df.index):\n",
    "        pos = [df.loc[sub][k] for k in range(1, len(df.columns)+1)]\n",
    "        distances[sub] = distance.euclidean(pos, centroid)\n",
    "    # Get closest point to centroid\n",
    "    central_point = min(distances, key=distances.get)\n",
    "    return central_point"
   ]
  },
  {
   "cell_type": "code",
   "execution_count": null,
   "metadata": {},
   "outputs": [],
   "source": [
    "path = '/neurospin/dico/data/deep_folding/current/crops/CINGULATE/mask/sulcus_based/2mm/centered_combined/hcp/Rcrops/'"
   ]
  },
  {
   "cell_type": "markdown",
   "metadata": {},
   "source": [
    "### 2) Loading of subjects's distribution in the latent space\n",
    "DataFrame is obtained during analysis of beta-VAE latent space (2 dimensions) for CINGULATE crops, according to the following steps:\n",
    "- loading of trained model\n",
    "- encoding of test controls and asymmetry benchmark subjects"
   ]
  },
  {
   "cell_type": "code",
   "execution_count": null,
   "metadata": {},
   "outputs": [],
   "source": [
    "if torch.cuda.is_available():\n",
    "    device = \"cuda:0\"\n",
    "print(device)"
   ]
  },
  {
   "cell_type": "code",
   "execution_count": null,
   "metadata": {},
   "outputs": [],
   "source": [
    "# def process_config(config) -> DictConfig:\n",
    "#     \"\"\"Does whatever operations on the config file\n",
    "#     \"\"\"\n",
    "\n",
    "#     print(OmegaConf.to_yaml(config))\n",
    "#     print(\"Working directory : {}\".format(os.getcwd()))\n",
    "#     config.input_size = eval(config.input_size)\n",
    "#     print(\"config type: {}\".format(type(config)))\n",
    "#     return config"
   ]
  },
  {
   "cell_type": "code",
   "execution_count": null,
   "metadata": {},
   "outputs": [],
   "source": [
    "# from hydra.core.global_hydra import GlobalHydra\n",
    "# model_dir = 'Runs/28_cingulate_back_to_2mm/Output/t-0.1/n-004_o-4'\n",
    "\n",
    "# GlobalHydra.instance().clear()\n",
    "# # Initialize hydra\n",
    "# initialize(config_path=f\"{model_dir}/.hydra\")\n",
    "# # compose from config.yaml, this composes a bunch of defaults in:\n",
    "# config=compose(config_name=\"config.yaml\")\n",
    "# config = process_config(config)"
   ]
  },
  {
   "cell_type": "code",
   "execution_count": 37,
   "metadata": {},
   "outputs": [
    {
     "name": "stdout",
     "output_type": "stream",
     "text": [
      "torch.Size([110, 4])\n"
     ]
    }
   ],
   "source": [
    "# We load the mebeddings\n",
    "result_dir = '/host/volatile/jc225751/Runs/28_cingulate_back_to_2mm/Output/t-0.1/n-004_o-4'\n",
    "val_embeddings_file = f\"{result_dir}/val_embeddings.pt\"\n",
    "embeddings = torch.load(val_embeddings_file)\n",
    "print(embeddings.shape)"
   ]
  },
  {
   "cell_type": "code",
   "execution_count": 42,
   "metadata": {},
   "outputs": [
    {
     "name": "stdout",
     "output_type": "stream",
     "text": [
      "['145834', '587664', '233326', '140925', '113215', '102008', '122418', '141826', '656657', '150019', '157336', '692964', '190132', '144933', '168745', '675661', '123925', '217126', '707749', '715950', '378756', '268850', '804646', '137936', '910241', '104820', '723141', '165436', '138231', '943862', '784565', '198653', '197449', '173233', '877269', '166640', '725751', '150625', '627549', '880157', '173435', '529953', '144125', '664757', '421226', '127933', '221218', '100610', '825654', '168139', '171633', '397154', '141422', '869472', '114318', '227533', '818859', '748662', '185846', '361941', '172130', '588565', '129129', '156435', '211922', '189349', '115320', '134728', '159845', '106521', '552544', '163331', '700634', '113821', '134627', '107725', '167440', '126325', '169141', '154229', '133928', '145127', '136227', '227432', '131217', '168240', '562446', '325129', '571548', '164030', '686969', '150928', '871762', '182032', '966975', '113316', '753150', '121921', '792766', '286347', '101309', '204622', '814649', '771354', '185442', '115825', '168038', '615441', '129533', '159138']\n"
     ]
    }
   ],
   "source": [
    "# We load the labels\n",
    "with open(f\"{result_dir}/val_filenames.json\", 'r') as f:\n",
    "    labels = json.load(f)\n",
    "print(labels)"
   ]
  },
  {
   "cell_type": "code",
   "execution_count": 48,
   "metadata": {},
   "outputs": [
    {
     "name": "stdout",
     "output_type": "stream",
     "text": [
      "clusters centroids = (2, 4)\n",
      "Average silhouette score: 0.4480094611644745\n"
     ]
    }
   ],
   "source": [
    "kmeans = KMeans(n_clusters=2, random_state=0).fit(embeddings)\n",
    "cluster_labels = kmeans.labels_\n",
    "clusters_centroids = kmeans.cluster_centers_\n",
    "print(f\"clusters centroids = {clusters_centroids.shape}\")\n",
    "print(f\"Average silhouette score: {metrics.silhouette_score(embeddings, cluster_labels)}\")\n"
   ]
  },
  {
   "cell_type": "code",
   "execution_count": 50,
   "metadata": {},
   "outputs": [],
   "source": [
    "dstrb_sub = pd.DataFrame(embeddings.numpy(), index=labels, columns=[1, 2, 3, 4])\n",
    "dstrb_sub['cluster_lab'] = cluster_labels"
   ]
  },
  {
   "cell_type": "code",
   "execution_count": 51,
   "metadata": {},
   "outputs": [
    {
     "data": {
      "text/html": "<div>\n<style scoped>\n    .dataframe tbody tr th:only-of-type {\n        vertical-align: middle;\n    }\n\n    .dataframe tbody tr th {\n        vertical-align: top;\n    }\n\n    .dataframe thead th {\n        text-align: right;\n    }\n</style>\n<table border=\"1\" class=\"dataframe\">\n  <thead>\n    <tr style=\"text-align: right;\">\n      <th></th>\n      <th>1</th>\n      <th>2</th>\n      <th>3</th>\n      <th>4</th>\n      <th>cluster_lab</th>\n    </tr>\n  </thead>\n  <tbody>\n    <tr>\n      <th>145834</th>\n      <td>-1.102997</td>\n      <td>6.063592</td>\n      <td>11.192781</td>\n      <td>5.579839</td>\n      <td>0</td>\n    </tr>\n    <tr>\n      <th>587664</th>\n      <td>-0.989749</td>\n      <td>1.439369</td>\n      <td>-0.764728</td>\n      <td>5.886118</td>\n      <td>1</td>\n    </tr>\n    <tr>\n      <th>233326</th>\n      <td>-0.801902</td>\n      <td>7.309334</td>\n      <td>10.075326</td>\n      <td>7.100291</td>\n      <td>0</td>\n    </tr>\n    <tr>\n      <th>140925</th>\n      <td>-0.840939</td>\n      <td>4.757116</td>\n      <td>5.218879</td>\n      <td>2.073957</td>\n      <td>1</td>\n    </tr>\n    <tr>\n      <th>113215</th>\n      <td>-1.313898</td>\n      <td>5.444936</td>\n      <td>3.234003</td>\n      <td>8.068856</td>\n      <td>1</td>\n    </tr>\n  </tbody>\n</table>\n</div>",
      "text/plain": "               1         2          3         4  cluster_lab\n145834 -1.102997  6.063592  11.192781  5.579839            0\n587664 -0.989749  1.439369  -0.764728  5.886118            1\n233326 -0.801902  7.309334  10.075326  7.100291            0\n140925 -0.840939  4.757116   5.218879  2.073957            1\n113215 -1.313898  5.444936   3.234003  8.068856            1"
     },
     "execution_count": 51,
     "metadata": {},
     "output_type": "execute_result"
    }
   ],
   "source": [
    "dstrb_sub.head()"
   ]
  },
  {
   "cell_type": "code",
   "execution_count": 52,
   "metadata": {},
   "outputs": [
    {
     "name": "stdout",
     "output_type": "stream",
     "text": [
      "cluster's centroids coordinates: \n",
      " [[-1.32936707  6.45413204 11.57266074  8.70867575]\n",
      " [-1.1666423   3.49686977  4.44863651  4.60448636]]\n"
     ]
    }
   ],
   "source": [
    "clusters_centroids = kmeans.cluster_centers_\n",
    "print(f\"cluster's centroids coordinates: \\n {clusters_centroids}\")"
   ]
  },
  {
   "cell_type": "code",
   "execution_count": 53,
   "metadata": {},
   "outputs": [
    {
     "name": "stdout",
     "output_type": "stream",
     "text": [
      "Closest subject to centroid of cluster 1 is 113316\n",
      "Closest subject to centroid of cluster 2 is 144125\n"
     ]
    }
   ],
   "source": [
    "central_1 = closest_distance(clusters_centroids[0], dstrb_sub.drop(['cluster_lab'], axis=1))\n",
    "print(f\"Closest subject to centroid of cluster 1 is {central_1}\")\n",
    "central_2 = closest_distance(clusters_centroids[1], dstrb_sub.drop(['cluster_lab'], axis=1))\n",
    "print(f\"Closest subject to centroid of cluster 2 is {central_2}\")"
   ]
  },
  {
   "cell_type": "code",
   "execution_count": 61,
   "metadata": {
    "scrolled": true
   },
   "outputs": [
    {
     "data": {
      "image/png": "[encoded data removed]",
      "text/plain": "<Figure size 432x288 with 1 Axes>"
     },
     "metadata": {
      "needs_background": "light"
     },
     "output_type": "display_data"
    }
   ],
   "source": [
    "arr = np.array([np.array([dstrb_sub[k][i] for k in dstrb_sub.columns[2:4]]) for i in range(len(dstrb_sub))])\n",
    "\n",
    "color_dict = {1: 'red', 0:'blue'}\n",
    "fig, ax = plt.subplots()\n",
    "\n",
    "for g in np.unique([dstrb_sub.cluster_lab]):\n",
    "    ix = np.where(dstrb_sub.cluster_lab == g)\n",
    "    x = [arr[ix][k][0] for k in range(len(ix[0]))]\n",
    "    y = [arr[ix][k][1] for k in range(len(ix[0]))]\n",
    "    if g =='benchmark':\n",
    "        g_lab = 'benchmark asymmetry'\n",
    "    else:\n",
    "        g_lab=g\n",
    "    ax.scatter(x, y, c = color_dict[g], label = g_lab)\n",
    "    \n",
    "ax.scatter(clusters_centroids[0][0], clusters_centroids[0][1], color='crimson', marker='X')\n",
    "ax.scatter(clusters_centroids[1][0], clusters_centroids[1][1], color='navy', marker='X')\n",
    "ax.scatter(dstrb_sub[1]['113316'], dstrb_sub[2]['113316'], color='orange')\n",
    "ax.scatter(dstrb_sub[1]['144125'], dstrb_sub[2]['144125'], color='forestgreen')\n",
    "\n",
    "plt.xlabel(f'dimension 3', fontsize=14)\n",
    "plt.ylabel(f'dimension 4', fontsize=14)\n",
    "plt.legend()\n",
    "plt.show()"
   ]
  },
  {
   "cell_type": "code",
   "execution_count": null,
   "metadata": {},
   "outputs": [],
   "source": [
    "cluster1 = dstrb_sub[dstrb_sub.cluster_lab==0]\n",
    "cluster2 = dstrb_sub[dstrb_sub.cluster_lab==1]\n",
    "assert(len(np.unique(list(cluster1.cluster_lab)))==1)\n",
    "assert(len(np.unique(list(cluster2.cluster_lab)))==1)"
   ]
  },
  {
   "cell_type": "markdown",
   "metadata": {},
   "source": [
    "### Creation of buckets dictionnary"
   ]
  },
  {
   "cell_type": "code",
   "execution_count": null,
   "metadata": {},
   "outputs": [],
   "source": [
    "def create_bucket(vol):\n",
    "    arr = np.asarray(vol)\n",
    "\n",
    "    # Threshold and \"binarize\"\n",
    "    arr[np.where(arr > 1)]=1\n",
    "    # Writes volume\n",
    "    temp_dir = '/tmp/'\n",
    "    threshold_filename = f'{temp_dir}/temp_threshold.nii.gz'\n",
    "    aims.write(vol, threshold_filename)\n",
    "    # Save to bucket file\n",
    "    bucket_filename = f\"{temp_dir}/temp_bucket.bck\"\n",
    "    cmd = f\"AimsFileConvert -c Bucket -t VOID -e 1 -i {threshold_filename} -o {bucket_filename}\"\n",
    "    os.system(cmd)\n",
    "    # Displays bucket file\n",
    "    bucket, bucket_raw, dxyz, rot, tr = ma.load_bucket(bucket_filename)\n",
    "    m = dtx.convert.bucket_to_mesh(bucket)\n",
    "    cmd = f\"rm {threshold_filename} {threshold_filename+'.minf'} {bucket_filename} {bucket_filename+'.minf'}\"\n",
    "    os.system(cmd)\n",
    "    \n",
    "    return bucket, m"
   ]
  },
  {
   "cell_type": "code",
   "execution_count": null,
   "metadata": {},
   "outputs": [],
   "source": [
    "bucket_path = '/neurospin/dico/data/deep_folding/current/crops/CINGULATE/mask/sulcus_based/2mm/centered_combined/hcp/Rcrops/'\n",
    "suffix_path = '_normalized.nii.gz'\n",
    "buckets = {}\n",
    "for sub in tqdm(list(labels)):\n",
    "    bucket = aims.read(os.path.join(bucket_path, str(sub) + suffix_path))\n",
    "    bucket, m = create_bucket(bucket)\n",
    "    bucket = np.asarray(bucket)\n",
    "    buckets[sub] = bucket"
   ]
  },
  {
   "cell_type": "code",
   "execution_count": null,
   "metadata": {
    "scrolled": true
   },
   "outputs": [],
   "source": [
    "bucket_path = '/neurospin/dico/data/deep_folding/current/crops/CINGULATE/mask/sulcus_based/2mm/centered_combined/hcp/Rbuckets/'\n",
    "suffix_path = '_normalized.bck'\n",
    "buckets = {}\n",
    "for sub in tqdm(list(labels)):\n",
    "    bucket = aims.read(os.path.join(bucket_path, str(sub) + suffix_path))\n",
    "    #bucket, m = create_bucket(bucket)\n",
    "    bucket = dtx.convert.bucket_aims_to_ndarray(bucket[0])\n",
    "    buckets[sub] = bucket"
   ]
  },
  {
   "cell_type": "code",
   "execution_count": null,
   "metadata": {},
   "outputs": [],
   "source": [
    "subjects_c1 = cluster1.index\n",
    "subjects_c2 = cluster2.index\n",
    "\n",
    "buckets_c1 = {k: v for k,v in buckets.items() if k in list(subjects_c1)}\n",
    "buckets_c2 = {k: v for k,v in buckets.items() if k in list(subjects_c2)}"
   ]
  },
  {
   "cell_type": "markdown",
   "metadata": {},
   "source": [
    "#### Alignement of the subjects to respective central subject"
   ]
  },
  {
   "cell_type": "code",
   "execution_count": null,
   "metadata": {
    "scrolled": true
   },
   "outputs": [],
   "source": [
    "aligned_buckets_C1, aligned_rot_C1, aligned_transl_C1 = ma.align_buckets_by_ICP_batch(buckets_c1, central_1)\n",
    "aligned_buckets_C2, aligned_rot_C2, aligned_transl_C2 = ma.align_buckets_by_ICP_batch(buckets_c2, central_2)"
   ]
  },
  {
   "cell_type": "code",
   "execution_count": null,
   "metadata": {},
   "outputs": [],
   "source": [
    "aligned_buckets = aligned_buckets_C1\n",
    "aligned_buckets.update(aligned_buckets_C2)"
   ]
  },
  {
   "cell_type": "code",
   "execution_count": null,
   "metadata": {},
   "outputs": [],
   "source": [
    "plt.hist(cluster1[1])"
   ]
  },
  {
   "cell_type": "code",
   "execution_count": null,
   "metadata": {
    "scrolled": true
   },
   "outputs": [],
   "source": [
    "plt.hist(cluster2[1])"
   ]
  },
  {
   "cell_type": "code",
   "execution_count": null,
   "metadata": {},
   "outputs": [],
   "source": [
    "def subj_count_extreme_coords(isodf, axis, min_coord, max_coord, num_coord=10):\n",
    "    coord_values = np.linspace(min_coord, max_coord, num_coord)\n",
    "    step = (coord_values[1] - coord_values[0])\n",
    "    midpoint_min = coord_values[0] + step/2\n",
    "    midpoint_max = coord_values[num_coord-1] - step/2\n",
    "    coord_under = [elt for elt in isodf[axis] if elt<midpoint_min]\n",
    "    coord_over = [elt for elt in isodf[axis] if elt>midpoint_max]\n",
    "    num_subj_under = len(coord_under)\n",
    "    num_subj_over = len(coord_over)\n",
    "    return num_subj_under, num_subj_over\n",
    "\n",
    "def get_MA_coords(isodf, axis, num_subj_threshold, num_coord=10):\n",
    "    min_subj_coord = min(isodf[axis])\n",
    "    max_subj_coord = max(isodf[axis])\n",
    "    step = (max_subj_coord - min_subj_coord)/num_coord\n",
    "    num_subj_under, num_subj_over = subj_count_extreme_coords(isodf, axis, min_subj_coord, max_subj_coord)\n",
    "    while ((num_subj_under<num_subj_threshold)|(num_subj_over<num_subj_threshold)):\n",
    "        step = (max_subj_coord - min_subj_coord)/num_coord\n",
    "        if num_subj_under<num_subj_threshold:\n",
    "            min_subj_coord = min_subj_coord + step\n",
    "        if num_subj_over<num_subj_threshold:\n",
    "            max_subj_coord = max_subj_coord - step\n",
    "        num_subj_under, num_subj_over = subj_count_extreme_coords(isodf, axis, min_subj_coord, max_subj_coord)\n",
    "    return np.linspace(min_subj_coord, max_subj_coord, num_coord)"
   ]
  },
  {
   "cell_type": "code",
   "execution_count": null,
   "metadata": {},
   "outputs": [],
   "source": [
    "MA_coords = get_MA_coords(cluster1, 1, num_subj_threshold=14)\n",
    "step = step = MA_coords[1]-MA_coords[0]"
   ]
  },
  {
   "cell_type": "code",
   "execution_count": null,
   "metadata": {},
   "outputs": [],
   "source": [
    "MA_coords"
   ]
  },
  {
   "cell_type": "code",
   "execution_count": null,
   "metadata": {},
   "outputs": [],
   "source": [
    "step"
   ]
  },
  {
   "cell_type": "code",
   "execution_count": null,
   "metadata": {
    "scrolled": true
   },
   "outputs": [],
   "source": [
    "#SPAM_centers_c1 = [-2.05716]\n",
    "#SPAM_vols_c1, shift1 = ma.calc_MA_volumes_batch(SPAM_centers_c1, aligned_buckets_C1, cluster1, axis_n=1, FWHM=1)\n",
    "SPAM_vols_c1, shift1 = ma.calc_MA_volumes_batch(MA_coords, aligned_buckets_C1, cluster1, axis_n=1, FWHM=step)"
   ]
  },
  {
   "cell_type": "code",
   "execution_count": null,
   "metadata": {
    "scrolled": true
   },
   "outputs": [],
   "source": [
    "SPAM_meshes = {}\n",
    "\n",
    "for k, volume in tqdm(list(SPAM_vols_c1.items())[:]):\n",
    "    SPAM_meshes[k]=dtx.convert.volume_to_mesh(\n",
    "                    vol=volume, gblur_sigma=0.6, threshold=\"85%\")\n",
    "    #SPAM_meshes[k] = dtx.mesh.shift_aims_mesh(SPAM_meshes[k], 2*shift1[k])\n",
    "    \n",
    "shifted_SPAM_meshes = {}\n",
    "for dist, mesh in SPAM_meshes.items():\n",
    "    shifted_SPAM_meshes[str(dist)] = dtx.mesh.shift_aims_mesh_along_axis(mesh, dist, axis=0, scale=100)"
   ]
  },
  {
   "cell_type": "code",
   "execution_count": null,
   "metadata": {},
   "outputs": [],
   "source": [
    "for x, mesh in tqdm(shifted_SPAM_meshes.items()):\n",
    "    aims.write(mesh, f\"MA_{x}_2cluster33.mesh\")#### Saving of average crops"
   ]
  },
  {
   "cell_type": "markdown",
   "metadata": {},
   "source": [
    "### Whole cluster analysis"
   ]
  },
  {
   "cell_type": "code",
   "execution_count": null,
   "metadata": {},
   "outputs": [],
   "source": [
    "clusters_centroids"
   ]
  },
  {
   "cell_type": "code",
   "execution_count": null,
   "metadata": {},
   "outputs": [],
   "source": [
    "np.mean(clusters_centroids,axis=0)"
   ]
  },
  {
   "cell_type": "code",
   "execution_count": null,
   "metadata": {
    "scrolled": true
   },
   "outputs": [],
   "source": [
    "clusters_centroids = kmeans.cluster_centers_\n",
    "print(f\"cluster's centroids coordinates: \\n {clusters_centroids}\")\n",
    "centroid = np.mean(clusters_centroids, axis=0)\n",
    "print(centroid)\n",
    "\n",
    "central = closest_distance(centroid, dstrb_sub.drop(['cluster_lab'], axis=1))\n",
    "print(f\"Closest subject to centroid of cluster is {central}\")\n",
    "print(dstrb_sub[1][str(central)], dstrb_sub[2][str(central)])"
   ]
  },
  {
   "cell_type": "code",
   "execution_count": null,
   "metadata": {},
   "outputs": [],
   "source": [
    "aligned_buckets, aligned_rot, aligned_transl = ma.align_buckets_by_ICP_batch(buckets, central)"
   ]
  },
  {
   "cell_type": "code",
   "execution_count": null,
   "metadata": {},
   "outputs": [],
   "source": [
    "MA_coords = get_MA_coords(dstrb_sub, 1, num_subj_threshold=14)\n",
    "step = step = MA_coords[1]-MA_coords[0]"
   ]
  },
  {
   "cell_type": "code",
   "execution_count": null,
   "metadata": {},
   "outputs": [],
   "source": [
    "MA_coords"
   ]
  },
  {
   "cell_type": "code",
   "execution_count": null,
   "metadata": {},
   "outputs": [],
   "source": [
    "step"
   ]
  },
  {
   "cell_type": "code",
   "execution_count": null,
   "metadata": {},
   "outputs": [],
   "source": [
    "len(dstrb_sub)"
   ]
  },
  {
   "cell_type": "code",
   "execution_count": null,
   "metadata": {},
   "outputs": [],
   "source": [
    "#SPAM_centers_c1 = [-2.05716]\n",
    "#SPAM_vols_c1, shift1 = ma.calc_MA_volumes_batch(SPAM_centers_c1, aligned_buckets_C1, cluster1, axis_n=1, FWHM=1)\n",
    "SPAM_vols, shift = ma.calc_MA_volumes_batch(MA_coords, aligned_buckets, dstrb_sub, axis_n=1, FWHM=0.4)"
   ]
  },
  {
   "cell_type": "code",
   "execution_count": null,
   "metadata": {},
   "outputs": [],
   "source": [
    "cld.draw(list(SPAM_vols.values())[-1], th_min=0.3)"
   ]
  },
  {
   "cell_type": "code",
   "execution_count": null,
   "metadata": {},
   "outputs": [],
   "source": [
    "cld.draw(list(SPAM_vols.values())[0], th_min=0.3)"
   ]
  },
  {
   "cell_type": "code",
   "execution_count": null,
   "metadata": {
    "scrolled": true
   },
   "outputs": [],
   "source": [
    "SPAM_meshes = {}\n",
    "\n",
    "for k, volume in tqdm(list(SPAM_vols.items())[:]):\n",
    "    SPAM_meshes[k]=dtx.convert.volume_to_mesh(\n",
    "                    vol=volume, gblur_sigma=1, threshold=0.45,deciReductionRate=0, smoothRate=0.25)\n",
    "    #SPAM_meshes[k] = dtx.mesh.shift_aims_mesh(SPAM_meshes[k], 2*shift1[k])\n",
    "    \n",
    "shifted_SPAM_meshes = {}\n",
    "for dist, mesh in SPAM_meshes.items():\n",
    "    shifted_SPAM_meshes[str(dist)] = dtx.mesh.shift_aims_mesh_along_axis(mesh, dist, axis=0, scale=75)"
   ]
  },
  {
   "cell_type": "code",
   "execution_count": null,
   "metadata": {},
   "outputs": [],
   "source": [
    "for x, mesh in tqdm(shifted_SPAM_meshes.items()):\n",
    "    aims.write(mesh, f\"MA_{x}_2cluster44.mesh\")#### Saving of average crops"
   ]
  },
  {
   "cell_type": "code",
   "execution_count": null,
   "metadata": {},
   "outputs": [],
   "source": [
    "fig = cld.draw(list(SPAM_vols.values())[0], th_min=0.2)\n",
    "cld.draw(list(SPAM_meshes.values())[0], fig=fig)"
   ]
  },
  {
   "cell_type": "code",
   "execution_count": null,
   "metadata": {},
   "outputs": [],
   "source": [
    "SPAM_centers_c2 = [0]\n",
    "SPAM_vols_c2, shift2 = ma.calc_MA_volumes_batch(SPAM_centers_c2, aligned_buckets_C2, cluster2, axis_n=1, FWHM=1)"
   ]
  },
  {
   "cell_type": "code",
   "execution_count": null,
   "metadata": {},
   "outputs": [],
   "source": [
    "SPAM_meshes2 = {}\n",
    "\n",
    "for k, volume in tqdm(list(SPAM_vols_c2.items())[:]):\n",
    "    SPAM_meshes2[k]=dtx.convert.volume_to_mesh(\n",
    "                    vol=volume, gblur_sigma=0.8)\n",
    "    \n",
    "shifted_SPAM_meshes2 = {}\n",
    "for dist, mesh in SPAM_meshes2.items():\n",
    "    shifted_SPAM_meshes2[str(dist)]=cld.aims_tools.shift_aims_mesh(mesh, dist)"
   ]
  },
  {
   "cell_type": "markdown",
   "metadata": {},
   "source": [
    "#### Visualization of average crops of both clusters"
   ]
  },
  {
   "cell_type": "code",
   "execution_count": null,
   "metadata": {},
   "outputs": [],
   "source": [
    "fig = cld.draw(shifted_SPAM_meshes)\n",
    "ma.plot.brochette_layout(fig, \"subjects meshes\")"
   ]
  },
  {
   "cell_type": "code",
   "execution_count": null,
   "metadata": {},
   "outputs": [],
   "source": [
    "\n",
    "for x, mesh in tqdm(shifted_SPAM_meshes2.items()):\n",
    "    aims.write(mesh, f\"MA_{x}_2cluster2.mesh\")"
   ]
  },
  {
   "cell_type": "code",
   "execution_count": null,
   "metadata": {},
   "outputs": [],
   "source": []
  },
  {
   "cell_type": "markdown",
   "metadata": {},
   "source": [
    "### 5) 2 clusters analysis"
   ]
  },
  {
   "cell_type": "markdown",
   "metadata": {},
   "source": [
    "#### Loading of subjects of the two clusters"
   ]
  },
  {
   "cell_type": "code",
   "execution_count": null,
   "metadata": {},
   "outputs": [],
   "source": [
    "tsne_subjects = pd.read_csv('tsne_asym_bench_sc.csv', index_col=\"id_sub\").drop(columns={'Unnamed: 0'})\n",
    "subjects_tsne = tsne_subjects.index\n",
    "tsne_subjects = tsne_subjects.rename(columns={'tsne: 0': 0, 'tsne: 1': 1})\n",
    "tsne_subjects.head()"
   ]
  },
  {
   "cell_type": "markdown",
   "metadata": {},
   "source": [
    "We can use labels if we have them (in the case where we use benchmark subjects vs controls for example):"
   ]
  },
  {
   "cell_type": "code",
   "execution_count": null,
   "metadata": {},
   "outputs": [],
   "source": [
    "color_dict = {'normal_test': 'blue', 'benchmark': 'magenta'}\n",
    "\n",
    "arr = np.array([np.array([tsne_subjects[k][i] for k in tsne_subjects.columns[:2]]) for i in tsne_subjects.index])\n",
    "\n",
    "fig, ax = plt.subplots()\n",
    "ax = fig.add_subplot(111)\n",
    "for g in np.unique([tsne_subjects.label]):\n",
    "    ix = np.where(tsne_subjects.label == g)\n",
    "    x = [arr[ix][k][0] for k in range(len(ix[0]))]\n",
    "    y = [arr[ix][k][1] for k in range(len(ix[0]))]\n",
    "    if g =='benchmark':\n",
    "        g_lab = 'benchmark asymmetry'\n",
    "    else:\n",
    "        g_lab=g\n",
    "    ax.scatter(x, y, c = color_dict[g], label = g_lab)\n",
    "\n",
    "plt.xlabel(f'1st most important feature: {tsne_subjects.columns[0]}', fontsize=14)\n",
    "plt.ylabel(f'2nd most important feature: {tsne_subjects.columns[1]}', fontsize=14)\n",
    "plt.show()"
   ]
  },
  {
   "cell_type": "markdown",
   "metadata": {},
   "source": [
    "We can also imagine a case where we don't have any labels but two clusters and apply a kmeans algorithm:"
   ]
  },
  {
   "cell_type": "code",
   "execution_count": null,
   "metadata": {},
   "outputs": [],
   "source": [
    "from sklearn.cluster import KMeans\n",
    "\n",
    "X = np.array([np.array([tsne_subjects[k][i] for k in tsne_subjects.columns[:2]]) for i in tsne_subjects.index])\n",
    "\n",
    "kmeans = KMeans(n_clusters=2, random_state=0).fit(X)\n",
    "\n",
    "labels = kmeans.labels_\n",
    "tsne_subjects['kmeans_label'] = labels\n",
    "clusters_centroids = kmeans.cluster_centers_\n",
    "print(f\"cluster's centroids coordinates: \\n {clusters_centroids}\")"
   ]
  },
  {
   "cell_type": "code",
   "execution_count": null,
   "metadata": {},
   "outputs": [],
   "source": [
    "color_dict = {1: 'blue', 0: 'magenta'}\n",
    "\n",
    "arr = np.array([np.array([tsne_subjects[k][i] for k in tsne_subjects.columns[:2]]) for i in tsne_subjects.index])\n",
    "\n",
    "fig, ax = plt.subplots()\n",
    "ax = fig.add_subplot(111)\n",
    "\n",
    "for g in np.unique(kmeans.labels_):\n",
    "    ix = np.where(kmeans.labels_ == g)\n",
    "    x = [arr[ix][k][0] for k in range(len(ix[0]))]\n",
    "    y = [arr[ix][k][1] for k in range(len(ix[0]))]\n",
    "    if g =='benchmark':\n",
    "        g_lab = 'benchmark asymmetry'\n",
    "    else:\n",
    "        g_lab=g\n",
    "    ax.scatter(x, y, c = color_dict[g], label = g_lab)\n",
    "\n",
    "ax.scatter(clusters_centroids[0][0], clusters_centroids[0][1], color='crimson', marker='X')\n",
    "ax.scatter(clusters_centroids[1][0], clusters_centroids[1][1], color='navy', marker='X')\n",
    "ax.scatter(tsne_subjects[0][116726], tsne_subjects[1][116726], color='forestgreen')\n",
    "ax.scatter(tsne_subjects[0][163836], tsne_subjects[1][163836], color='forestgreen')\n",
    "\n",
    "\n",
    "plt.xlabel(f'{tsne_subjects.columns[0]}', fontsize=14)\n",
    "plt.ylabel(f'{tsne_subjects.columns[1]}', fontsize=14)\n",
    "plt.show()"
   ]
  },
  {
   "cell_type": "markdown",
   "metadata": {},
   "source": [
    "#### Central subjects for both clusters:"
   ]
  },
  {
   "cell_type": "code",
   "execution_count": null,
   "metadata": {},
   "outputs": [],
   "source": [
    "central_1 = closest_distance(clusters_centroids[0], tsne_subjects.drop(['label', 'kmeans_label'], axis=1))\n",
    "print(f\"Closest subject to centroid of cluster 1 is {central_1}\")\n",
    "central_2 = closest_distance(clusters_centroids[1], tsne_subjects.drop(['label', 'kmeans_label'], axis=1))\n",
    "print(f\"Closest subject to centroid of cluster 2 is {central_2}\")"
   ]
  },
  {
   "cell_type": "markdown",
   "metadata": {},
   "source": [
    "We create sub-dataframes based on labels"
   ]
  },
  {
   "cell_type": "code",
   "execution_count": null,
   "metadata": {
    "scrolled": true
   },
   "outputs": [],
   "source": [
    "cluster1 = tsne_subjects[tsne_subjects.kmeans_label==0]\n",
    "cluster2 = tsne_subjects[tsne_subjects.kmeans_label==1]\n",
    "assert(len(np.unique(list(cluster1.kmeans_label)))==1)\n",
    "assert(len(np.unique(list(cluster2.kmeans_label)))==1)"
   ]
  },
  {
   "cell_type": "markdown",
   "metadata": {},
   "source": [
    "#### Creation of buckets dictionnary"
   ]
  },
  {
   "cell_type": "code",
   "execution_count": null,
   "metadata": {},
   "outputs": [],
   "source": [
    "subjects_c1 = cluster1.index\n",
    "subjects_c2 = cluster2.index\n",
    "\n",
    "buckets_c1 = {k: v for k,v in buckets.items() if k in list(subjects_c1)}\n",
    "buckets_c2 = {k: v for k,v in buckets.items() if k in list(subjects_c2)}"
   ]
  },
  {
   "cell_type": "markdown",
   "metadata": {},
   "source": [
    "#### Alignement of the subjects to respective central subject"
   ]
  },
  {
   "cell_type": "code",
   "execution_count": null,
   "metadata": {},
   "outputs": [],
   "source": [
    "aligned_buckets_C1, aligned_rot_C1, aligned_transl_C1 = ma.align_buckets_by_ICP_batch(buckets_c1, central_1, cores=2)\n",
    "aligned_buckets_C2, aligned_rot_C2, aligned_transl_C2 = ma.align_buckets_by_ICP_batch(buckets_c2, central_2, cores=2)"
   ]
  },
  {
   "cell_type": "code",
   "execution_count": null,
   "metadata": {},
   "outputs": [],
   "source": [
    "sns.displot(cluster1, x=0)"
   ]
  },
  {
   "cell_type": "code",
   "execution_count": null,
   "metadata": {},
   "outputs": [],
   "source": [
    "sns.displot(cluster2, x=0)"
   ]
  },
  {
   "cell_type": "code",
   "execution_count": null,
   "metadata": {},
   "outputs": [],
   "source": [
    "SPAM_centers_c1 = [0]\n",
    "SPAM_vols_c1 = ma.calc_MA_volumes_batch(SPAM_centers_c1, aligned_buckets_C1, cluster1, axis_n=0, FWHM=1)"
   ]
  },
  {
   "cell_type": "code",
   "execution_count": null,
   "metadata": {},
   "outputs": [],
   "source": [
    "SPAM_centers_c2 = [4.5]\n",
    "SPAM_vols_c2 = ma.calc_MA_volumes_batch(SPAM_centers_c2, aligned_buckets_C2, cluster2, axis_n=0, FWHM=1)"
   ]
  },
  {
   "cell_type": "code",
   "execution_count": null,
   "metadata": {},
   "outputs": [],
   "source": [
    "SPAM_meshes = {}\n",
    "\n",
    "for k, volume in tqdm(list(SPAM_vols_c1.items())[:]+list(SPAM_vols_c2.items())[:]):\n",
    "    SPAM_meshes[k]=cld.aims_tools.volume_to_mesh(\n",
    "                    volume=volume, smoothingFactor=1.4,\n",
    "                    aimsThreshold=\"90%\")\n",
    "    \n",
    "shifted_SPAM_meshes = {}\n",
    "for dist, mesh in SPAM_meshes.items():\n",
    "    shifted_SPAM_meshes[str(dist)]=cld.aims_tools.shift_aims_mesh(mesh, dist)"
   ]
  },
  {
   "cell_type": "markdown",
   "metadata": {},
   "source": [
    "#### Visualization of average crops of both clusters"
   ]
  },
  {
   "cell_type": "code",
   "execution_count": null,
   "metadata": {},
   "outputs": [],
   "source": [
    "fig = cld.draw(shifted_SPAM_meshes)\n",
    "ma.plot.brochette_layout(fig, \"subjects meshes\")"
   ]
  },
  {
   "cell_type": "markdown",
   "metadata": {},
   "source": [
    "#### Saving of average crops"
   ]
  },
  {
   "cell_type": "code",
   "execution_count": null,
   "metadata": {},
   "outputs": [],
   "source": [
    "for x, mesh in tqdm(shifted_SPAM_meshes.items()):\n",
    "    aims.write(mesh, f\"MA_{x}_2cluster.mesh\")"
   ]
  }
 ],
 "metadata": {
  "kernelspec": {
   "display_name": "Run_28_python3",
   "language": "python",
   "name": "run_28_python3"
  },
  "language_info": {
   "codemirror_mode": {
    "name": "ipython",
    "version": 3
   },
   "file_extension": ".py",
   "mimetype": "text/x-python",
   "name": "python",
   "nbconvert_exporter": "python",
   "pygments_lexer": "ipython3",
   "version": "3.6.9"
  }
 },
 "nbformat": 4,
 "nbformat_minor": 5
}
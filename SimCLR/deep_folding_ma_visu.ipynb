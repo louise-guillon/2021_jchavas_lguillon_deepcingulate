{
 "cells": [
  {
   "cell_type": "markdown",
   "id": "b932d216",
   "metadata": {},
   "source": [
    "# Moving Averages CINGULATE region"
   ]
  },
  {
   "cell_type": "markdown",
   "id": "d44e309f",
   "metadata": {},
   "source": [
    "### 1) Imports"
   ]
  },
  {
   "cell_type": "markdown",
   "id": "d0505ffa",
   "metadata": {},
   "source": []
  },
  {
   "cell_type": "code",
   "execution_count": 1,
   "id": "8886f932",
   "metadata": {},
   "outputs": [],
   "source": [
    "import os\n",
    "import glob\n",
    "import sys\n",
    "import json\n",
    "\n",
    "p = os.path.abspath('../')\n",
    "if p not in sys.path:\n",
    "    sys.path.append(p)"
   ]
  },
  {
   "cell_type": "code",
   "execution_count": 2,
   "id": "f99f2c5d",
   "metadata": {},
   "outputs": [],
   "source": [
    "import moving_averages as ma\n",
    "import colorado as cld\n",
    "import dico_toolbox as dtx\n",
    "from tqdm import tqdm\n",
    "\n",
    "import pandas as pd\n",
    "import numpy as np\n",
    "from scipy.spatial import distance\n",
    "\n",
    "import plotly.graph_objects as go\n",
    "import pickle\n",
    "import matplotlib.pyplot as plt\n",
    "\n",
    "from soma import aims\n",
    "\n",
    "import torch\n",
    "\n",
    "from sklearn.cluster import KMeans, SpectralClustering, AffinityPropagation\n",
    "from sklearn import metrics\n",
    "\n",
    "import matplotlib.cm as cm\n",
    "\n",
    "from hydra import initialize, initialize_config_module, initialize_config_dir, compose\n",
    "from omegaconf import OmegaConf, DictConfig"
   ]
  },
  {
   "cell_type": "code",
   "execution_count": 3,
   "id": "8b0b7d51",
   "metadata": {},
   "outputs": [],
   "source": [
    "def closest_distance(centroid, df):\n",
    "    \"\"\"Returns closest point to centroid of a given cluster\n",
    "    /!\\ central_point is part of the defined set of points\n",
    "    Args:\n",
    "        IN: centroid: tuple of coordinates of centroid\n",
    "            df: pandas.DataFrame with index corresponding to subjects and as many columns as coordinates\n",
    "        OUT: central_point: subject ID corresponding to closest point to the centroid\n",
    "    \"\"\"\n",
    "    # df must have as many columns as dimensions to consider\n",
    "    distances = {}\n",
    "    # Get distances to centroid for each point\n",
    "    for sub in list(df.index):\n",
    "        pos = [df.loc[sub][k] for k in range(1, len(df.columns)+1)]\n",
    "        distances[sub] = distance.euclidean(pos, centroid)\n",
    "    # Get closest point to centroid\n",
    "    central_point = min(distances, key=distances.get)\n",
    "    return central_point"
   ]
  },
  {
   "cell_type": "code",
   "execution_count": 4,
   "id": "4211e4af",
   "metadata": {},
   "outputs": [],
   "source": [
    "path = '/neurospin/dico/data/deep_folding/current/crops/CINGULATE/mask/sulcus_based/2mm/centered_combined/hcp/Rcrops/'"
   ]
  },
  {
   "cell_type": "markdown",
   "id": "74b44901",
   "metadata": {},
   "source": [
    "### 2) Loading of subjects's distribution in the latent space\n",
    "DataFrame is obtained during analysis of beta-VAE latent space (2 dimensions) for CINGULATE crops, according to the following steps:\n",
    "- loading of trained model\n",
    "- encoding of test controls and asymmetry benchmark subjects"
   ]
  },
  {
   "cell_type": "code",
   "execution_count": 5,
   "id": "a298e371",
   "metadata": {},
   "outputs": [
    {
     "name": "stdout",
     "output_type": "stream",
     "text": [
      "cuda:0\n"
     ]
    }
   ],
   "source": [
    "if torch.cuda.is_available():\n",
    "    device = \"cuda:0\"\n",
    "print(device)"
   ]
  },
  {
   "cell_type": "code",
   "execution_count": 6,
   "id": "6935180e",
   "metadata": {},
   "outputs": [],
   "source": [
    "# def process_config(config) -> DictConfig:\n",
    "#     \"\"\"Does whatever operations on the config file\n",
    "#     \"\"\"\n",
    "\n",
    "#     print(OmegaConf.to_yaml(config))\n",
    "#     print(\"Working directory : {}\".format(os.getcwd()))\n",
    "#     config.input_size = eval(config.input_size)\n",
    "#     print(\"config type: {}\".format(type(config)))\n",
    "#     return config"
   ]
  },
  {
   "cell_type": "code",
   "execution_count": 7,
   "id": "35acefce",
   "metadata": {},
   "outputs": [],
   "source": [
    "# from hydra.core.global_hydra import GlobalHydra\n",
    "# model_dir = 'Runs/28_cingulate_back_to_2mm/Output/t-0.1/n-004_o-4'\n",
    "\n",
    "# GlobalHydra.instance().clear()\n",
    "# # Initialize hydra\n",
    "# initialize(config_path=f\"{model_dir}/.hydra\")\n",
    "# # compose from config.yaml, this composes a bunch of defaults in:\n",
    "# config=compose(config_name=\"config.yaml\")\n",
    "# config = process_config(config)"
   ]
  },
  {
   "cell_type": "code",
   "execution_count": 11,
   "id": "b61778c3",
   "metadata": {},
   "outputs": [
    {
     "name": "stdout",
     "output_type": "stream",
     "text": [
      "torch.Size([550, 4])\n"
     ]
    }
   ],
   "source": [
    "# We load the mebeddings\n",
    "result_dir = '/host/volatile/jc225751/Runs/29_MIDL_2022_clean/Output/t-0.1/n-004_o-4'\n",
    "val_embeddings_file = f\"{result_dir}/train_val_embeddings.pt\"\n",
    "embeddings = torch.load(val_embeddings_file)\n",
    "print(embeddings.shape)"
   ]
  },
  {
   "cell_type": "code",
   "execution_count": null,
   "id": "719aa679",
   "metadata": {},
   "outputs": [],
   "source": [
    "# We load the labels\n",
    "with open(f\"{result_dir}/train_filenames.json\", 'r') as f:\n",
    "    labels = json.load(f)\n",
    "print(labels)"
   ]
  },
  {
   "cell_type": "code",
   "execution_count": 12,
   "id": "646f916b",
   "metadata": {},
   "outputs": [
    {
     "name": "stdout",
     "output_type": "stream",
     "text": [
      "clusters centroids = (3, 4)\n",
      "Average silhouette score: 0.43807780742645264\n"
     ]
    }
   ],
   "source": [
    "kmeans = KMeans(n_clusters=3, random_state=0).fit(embeddings)\n",
    "cluster_labels = kmeans.labels_\n",
    "clusters_centroids = kmeans.cluster_centers_\n",
    "print(f\"clusters centroids = {clusters_centroids.shape}\")\n",
    "print(f\"Average silhouette score: {metrics.silhouette_score(embeddings, cluster_labels)}\")\n"
   ]
  },
  {
   "cell_type": "code",
   "execution_count": 15,
   "id": "c8df8a4e",
   "metadata": {},
   "outputs": [
    {
     "ename": "NameError",
     "evalue": "name 'labels' is not defined",
     "output_type": "error",
     "traceback": [
      "\u001b[0;31m----------------------------------------------------\u001b[0m",
      "\u001b[0;31mNameError\u001b[0m          Traceback (most recent call last)",
      "\u001b[0;32m<ipython-input-15-d60113cb78d7>\u001b[0m in \u001b[0;36m<module>\u001b[0;34m()\u001b[0m\n\u001b[0;32m----> 1\u001b[0;31m \u001b[0mdstrb_sub\u001b[0m \u001b[0;34m=\u001b[0m \u001b[0mpd\u001b[0m\u001b[0;34m.\u001b[0m\u001b[0mDataFrame\u001b[0m\u001b[0;34m(\u001b[0m\u001b[0membeddings\u001b[0m\u001b[0;34m.\u001b[0m\u001b[0mnumpy\u001b[0m\u001b[0;34m(\u001b[0m\u001b[0;34m)\u001b[0m\u001b[0;34m,\u001b[0m \u001b[0mindex\u001b[0m\u001b[0;34m=\u001b[0m\u001b[0mlabels\u001b[0m\u001b[0;34m,\u001b[0m \u001b[0mcolumns\u001b[0m\u001b[0;34m=\u001b[0m\u001b[0;34m[\u001b[0m\u001b[0;36m1\u001b[0m\u001b[0;34m,\u001b[0m \u001b[0;36m2\u001b[0m\u001b[0;34m,\u001b[0m \u001b[0;36m3\u001b[0m\u001b[0;34m,\u001b[0m \u001b[0;36m4\u001b[0m\u001b[0;34m]\u001b[0m\u001b[0;34m)\u001b[0m\u001b[0;34m\u001b[0m\u001b[0;34m\u001b[0m\u001b[0m\n\u001b[0m\u001b[1;32m      2\u001b[0m \u001b[0mdstrb_sub\u001b[0m\u001b[0;34m[\u001b[0m\u001b[0;34m'cluster_lab'\u001b[0m\u001b[0;34m]\u001b[0m \u001b[0;34m=\u001b[0m \u001b[0mcluster_labels\u001b[0m\u001b[0;34m\u001b[0m\u001b[0;34m\u001b[0m\u001b[0m\n",
      "\u001b[0;31mNameError\u001b[0m: name 'labels' is not defined"
     ]
    }
   ],
   "source": [
    "dstrb_sub = pd.DataFrame(embeddings.numpy(), index=labels, columns=[1, 2, 3, 4])\n",
    "dstrb_sub['cluster_lab'] = cluster_labels"
   ]
  },
  {
   "cell_type": "code",
   "execution_count": 14,
   "id": "068dd87c",
   "metadata": {},
   "outputs": [
    {
     "ename": "NameError",
     "evalue": "name 'dstrb_sub' is not defined",
     "output_type": "error",
     "traceback": [
      "\u001b[0;31m----------------------------------------------------\u001b[0m",
      "\u001b[0;31mNameError\u001b[0m          Traceback (most recent call last)",
      "\u001b[0;32m<ipython-input-14-912f8ab15bc0>\u001b[0m in \u001b[0;36m<module>\u001b[0;34m()\u001b[0m\n\u001b[0;32m----> 1\u001b[0;31m \u001b[0mdstrb_sub\u001b[0m\u001b[0;34m.\u001b[0m\u001b[0mhead\u001b[0m\u001b[0;34m(\u001b[0m\u001b[0;34m)\u001b[0m\u001b[0;34m\u001b[0m\u001b[0;34m\u001b[0m\u001b[0m\n\u001b[0m",
      "\u001b[0;31mNameError\u001b[0m: name 'dstrb_sub' is not defined"
     ]
    }
   ],
   "source": [
    "dstrb_sub.head()"
   ]
  },
  {
   "cell_type": "code",
   "execution_count": null,
   "id": "e7e94f55",
   "metadata": {},
   "outputs": [],
   "source": [
    "clusters_centroids = kmeans.cluster_centers_\n",
    "print(f\"cluster's centroids coordinates: \\n {clusters_centroids}\")"
   ]
  },
  {
   "cell_type": "code",
   "execution_count": null,
   "id": "4d502aff",
   "metadata": {},
   "outputs": [],
   "source": [
    "central_1= closest_distance(clusters_centroids[0], dstrb_sub.drop(['cluster_lab'], axis=1))\n",
    "print(f\"Closest subject to centroid of cluster 1 is {central_1}\")\n",
    "central_2 = closest_distance(clusters_centroids[1], dstrb_sub.drop(['cluster_lab'], axis=1))\n",
    "print(f\"Closest subject to centroid of cluster 2 is {central_2}\")"
   ]
  },
  {
   "cell_type": "code",
   "execution_count": null,
   "id": "7814b77a",
   "metadata": {},
   "outputs": [],
   "source": [
    "arr = np.array([np.array([dstrb_sub[k][i] for k in dstrb_sub.columns[0:2]]) for i in range(len(dstrb_sub))])\n",
    "\n",
    "color_dict = {0: 'red', 1:'blue', 2:'green'}\n",
    "fig, ax = plt.subplots()\n",
    "\n",
    "for g in np.unique([dstrb_sub.cluster_lab]):\n",
    "    ix = np.where(dstrb_sub.cluster_lab == g)\n",
    "    x = [arr[ix][k][0] for k in range(len(ix[0]))]\n",
    "    y = [arr[ix][k][1] for k in range(len(ix[0]))]\n",
    "    if g =='benchmark':\n",
    "        g_lab = 'benchmark asymmetry'\n",
    "    else:\n",
    "        g_lab=g\n",
    "    ax.scatter(x, y, c = color_dict[g], label = g_lab)\n",
    "    \n",
    "ax.scatter(clusters_centroids[0][0], clusters_centroids[0][1], color='crimson', marker='X')\n",
    "ax.scatter(clusters_centroids[1][0], clusters_centroids[1][1], color='navy', marker='X')\n",
    "\n",
    "plt.xlabel(f'dimension 1', fontsize=14)\n",
    "plt.ylabel(f'dimension 2', fontsize=14)\n",
    "plt.legend()\n",
    "plt.show()"
   ]
  },
  {
   "cell_type": "code",
   "execution_count": null,
   "id": "e0e550ea",
   "metadata": {},
   "outputs": [],
   "source": [
    "dstrb_sub.head()"
   ]
  },
  {
   "cell_type": "code",
   "execution_count": null,
   "id": "bd6d32ab",
   "metadata": {},
   "outputs": [],
   "source": [
    "dstrb_sub.index[0]"
   ]
  },
  {
   "cell_type": "code",
   "execution_count": null,
   "id": "21459ea7",
   "metadata": {
    "scrolled": true
   },
   "outputs": [],
   "source": [
    "arr = np.array([np.array([dstrb_sub[k][i] for k in dstrb_sub.columns[2:4]]) for i in range(len(dstrb_sub))])\n",
    "\n",
    "color_dict = {0: 'red', 1:'blue', 2:'green'}\n",
    "fig, ax = plt.subplots()\n",
    "\n",
    "for g in np.unique([dstrb_sub.cluster_lab]):\n",
    "    ix = np.where(dstrb_sub.cluster_lab == g)\n",
    "    x = [arr[ix][k][0] for k in range(len(ix[0]))]\n",
    "    y = [arr[ix][k][1] for k in range(len(ix[0]))]\n",
    "    ax.scatter(x, y, c = color_dict[g], label = g)\n",
    "    \n",
    "ax.scatter(clusters_centroids[0][2], clusters_centroids[0][3], color='crimson', marker='X')\n",
    "ax.scatter(clusters_centroids[1][2], clusters_centroids[1][3], color='navy', marker='X')\n",
    "# ax.scatter(dstrb_sub[3]['113316'], dstrb_sub[4]['113316'], color='orange')\n",
    "# ax.scatter(dstrb_sub[3]['144125'], dstrb_sub[4]['144125'], color='forestgreen')\n",
    "# ax.scatter(dstrb_sub[3]['217126'], dstrb_sub[4]['217126'], color='black')\n",
    "\n",
    "plt.xlabel(f'dimension 3', fontsize=14)\n",
    "plt.ylabel(f'dimension 4', fontsize=14)\n",
    "plt.legend()\n",
    "plt.show()"
   ]
  },
  {
   "cell_type": "code",
   "execution_count": null,
   "id": "ff0798c2",
   "metadata": {},
   "outputs": [],
   "source": [
    "fig, ax = plt.subplots()\n",
    "for g in np.unique([dstrb_sub.cluster_lab]):\n",
    "    ix = np.where(dstrb_sub.cluster_lab == g)\n",
    "    x = [arr[ix][k][0] for k in range(len(ix[0]))]\n",
    "    y = [arr[ix][k][1] for k in range(len(ix[0]))]\n",
    "    ax.scatter(x, y, c = color_dict[g], label = g)\n",
    "    for k, i in zip(range(len(ix[0])), ix[0]):\n",
    "        ax.annotate(dstrb_sub.index[i], (x[k], y[k]),fontsize=7)\n",
    "    \n",
    "ax.scatter(clusters_centroids[0][2], clusters_centroids[0][3], color='crimson', marker='X')\n",
    "ax.scatter(clusters_centroids[1][2], clusters_centroids[1][3], color='navy', marker='X')\n",
    "# ax.scatter(dstrb_sub[3]['113316'], dstrb_sub[4]['113316'], color='orange')\n",
    "# ax.scatter(dstrb_sub[3]['144125'], dstrb_sub[4]['144125'], color='forestgreen')\n",
    "# ax.scatter(dstrb_sub[3]['217126'], dstrb_sub[4]['217126'], color='black')\n",
    "\n",
    "plt.xlabel(f'dimension 3', fontsize=14)\n",
    "plt.ylabel(f'dimension 4', fontsize=14)\n",
    "plt.legend()\n",
    "plt.show()"
   ]
  },
  {
   "cell_type": "code",
   "execution_count": null,
   "id": "0e5ee8be",
   "metadata": {},
   "outputs": [],
   "source": [
    "cluster1 = dstrb_sub[dstrb_sub.cluster_lab==0]\n",
    "cluster2 = dstrb_sub[dstrb_sub.cluster_lab==1]\n",
    "assert(len(np.unique(list(cluster1.cluster_lab)))==1)\n",
    "assert(len(np.unique(list(cluster2.cluster_lab)))==1)"
   ]
  },
  {
   "cell_type": "markdown",
   "id": "63fe2c98",
   "metadata": {},
   "source": [
    "### Creation of buckets dictionnary"
   ]
  },
  {
   "cell_type": "code",
   "execution_count": null,
   "id": "9cf50f90",
   "metadata": {
    "scrolled": true
   },
   "outputs": [],
   "source": [
    "bucket_path = '/neurospin/dico/data/deep_folding/current/crops/CINGULATE/mask/sulcus_based/2mm/centered_combined/hcp/Rbuckets/'\n",
    "suffix_path = '_normalized.bck'\n",
    "buckets = {}\n",
    "for sub in tqdm(list(labels)):\n",
    "    bucket = aims.read(os.path.join(bucket_path, str(sub) + suffix_path))\n",
    "    bucket = dtx.convert.bucket_aims_to_ndarray(bucket[0])\n",
    "    buckets[sub] = bucket"
   ]
  },
  {
   "cell_type": "code",
   "execution_count": null,
   "id": "1a346e46",
   "metadata": {},
   "outputs": [],
   "source": [
    "subjects_c1 = cluster1.index\n",
    "subjects_c2 = cluster2.index\n",
    "\n",
    "buckets_c1 = {k: v for k,v in buckets.items() if k in list(subjects_c1)}\n",
    "buckets_c2 = {k: v for k,v in buckets.items() if k in list(subjects_c2)}"
   ]
  },
  {
   "cell_type": "code",
   "execution_count": null,
   "id": "2805c9b2",
   "metadata": {},
   "outputs": [],
   "source": [
    "cld.draw(list(buckets_c1.values())[0])"
   ]
  },
  {
   "cell_type": "markdown",
   "id": "2f19eabc",
   "metadata": {},
   "source": [
    "#### Alignement of the subjects to respective central subject"
   ]
  },
  {
   "cell_type": "code",
   "execution_count": null,
   "id": "f4d54ebb",
   "metadata": {
    "scrolled": true
   },
   "outputs": [],
   "source": [
    "aligned_buckets_C1, aligned_rot_C1, aligned_transl_C1 = ma.align_buckets_by_ICP_batch(buckets_c1, central_1)\n",
    "aligned_buckets_C2, aligned_rot_C2, aligned_transl_C2 = ma.align_buckets_by_ICP_batch(buckets_c2, central_2)"
   ]
  },
  {
   "cell_type": "code",
   "execution_count": null,
   "id": "f3498738",
   "metadata": {},
   "outputs": [],
   "source": [
    "plt.hist(cluster1[3], alpha=0.5)\n",
    "plt.hist(cluster2[3], alpha=0.5)\n",
    "plt.show()"
   ]
  },
  {
   "cell_type": "code",
   "execution_count": null,
   "id": "ec437968",
   "metadata": {},
   "outputs": [],
   "source": [
    "def subj_count_extreme_coords(isodf, axis, min_coord, max_coord, num_coord=10):\n",
    "    coord_values = np.linspace(min_coord, max_coord, num_coord)\n",
    "    step = (coord_values[1] - coord_values[0])\n",
    "    midpoint_min = coord_values[0] + step/2\n",
    "    midpoint_max = coord_values[num_coord-1] - step/2\n",
    "    coord_under = [elt for elt in isodf[axis] if elt<midpoint_min]\n",
    "    coord_over = [elt for elt in isodf[axis] if elt>midpoint_max]\n",
    "    num_subj_under = len(coord_under)\n",
    "    num_subj_over = len(coord_over)\n",
    "    return num_subj_under, num_subj_over\n",
    "\n",
    "def get_MA_coords(isodf, axis, num_subj_threshold, num_coord=10):\n",
    "    min_subj_coord = min(isodf[axis])\n",
    "    max_subj_coord = max(isodf[axis])\n",
    "    step = (max_subj_coord - min_subj_coord)/num_coord\n",
    "    num_subj_under, num_subj_over = subj_count_extreme_coords(isodf, axis, min_subj_coord, max_subj_coord)\n",
    "    while ((num_subj_under<num_subj_threshold)|(num_subj_over<num_subj_threshold)):\n",
    "        step = (max_subj_coord - min_subj_coord)/num_coord\n",
    "        if num_subj_under<num_subj_threshold:\n",
    "            min_subj_coord = min_subj_coord + step\n",
    "        if num_subj_over<num_subj_threshold:\n",
    "            max_subj_coord = max_subj_coord - step\n",
    "        num_subj_under, num_subj_over = subj_count_extreme_coords(isodf, axis, min_subj_coord, max_subj_coord)\n",
    "    return np.linspace(min_subj_coord, max_subj_coord, num_coord)"
   ]
  },
  {
   "cell_type": "code",
   "execution_count": null,
   "id": "6968ff7f",
   "metadata": {},
   "outputs": [],
   "source": [
    "MA_coords = get_MA_coords(cluster1, 3, num_subj_threshold=14, num_coord=2)\n",
    "step = step = MA_coords[1]-MA_coords[0]"
   ]
  },
  {
   "cell_type": "code",
   "execution_count": null,
   "id": "c06e5c8c",
   "metadata": {},
   "outputs": [],
   "source": [
    "MA_coords"
   ]
  },
  {
   "cell_type": "code",
   "execution_count": null,
   "id": "257a3bdd",
   "metadata": {},
   "outputs": [],
   "source": [
    "step"
   ]
  },
  {
   "cell_type": "code",
   "execution_count": null,
   "id": "fa774b0e",
   "metadata": {},
   "outputs": [],
   "source": [
    "cluster1.index "
   ]
  },
  {
   "cell_type": "code",
   "execution_count": null,
   "id": "26ff1e18",
   "metadata": {
    "scrolled": true
   },
   "outputs": [],
   "source": [
    "SPAM_vols_c1, shift1 = ma.calc_MA_volumes_batch(MA_coords, aligned_buckets_C1, cluster1, axis_n=3, FWHM=0.5)\n",
    "SPAM_vols_c1, shift1 = ma.moving_averages_tools.calc_one_MA_volume(aligned_buckets_C1, cluster1, axis_n=3, FWHM=0.5)"
   ]
  },
  {
   "cell_type": "code",
   "execution_count": null,
   "id": "987f8cc9",
   "metadata": {},
   "outputs": [],
   "source": [
    "SPAM_vols_c1.items()"
   ]
  },
  {
   "cell_type": "code",
   "execution_count": null,
   "id": "78701842",
   "metadata": {
    "scrolled": true
   },
   "outputs": [],
   "source": [
    "SPAM_meshes = {}\n",
    "\n",
    "for k, volume in tqdm(list(SPAM_vols_c1.items())[:]):\n",
    "    SPAM_meshes[k]=dtx.convert.volume_to_mesh(\n",
    "                    vol=volume,\n",
    "                    gblur_sigma=0.0,\n",
    "                    threshold=0.45,\n",
    "                    deciReductionRate=0,\n",
    "                    smoothRate=0.25)\n",
    "    #SPAM_meshes[k] = dtx.mesh.shift_aims_mesh(SPAM_meshes[k], 2*shift1[k])\n",
    "    \n",
    "shifted_SPAM_meshes = {}\n",
    "for dist, mesh in SPAM_meshes.items():\n",
    "    shifted_SPAM_meshes[str(dist)] = dtx.mesh.shift_aims_mesh_along_axis(mesh, dist, axis=0, scale=30)"
   ]
  },
  {
   "cell_type": "code",
   "execution_count": null,
   "id": "df6dacaa",
   "metadata": {},
   "outputs": [],
   "source": [
    "fig = cld.draw(list(SPAM_vols_c1.values())[0], th_min=0.2)\n",
    "cld.draw(list(SPAM_meshes.values())[0], fig=fig)"
   ]
  },
  {
   "cell_type": "code",
   "execution_count": null,
   "id": "d3d027c7",
   "metadata": {},
   "outputs": [],
   "source": [
    "for x, mesh in tqdm(shifted_SPAM_meshes.items()):\n",
    "    aims.write(mesh, f\"MA_{x}_2cluster33.mesh\")#### Saving of average crops"
   ]
  },
  {
   "cell_type": "markdown",
   "id": "8066acf0",
   "metadata": {},
   "source": [
    "### Whole cluster analysis"
   ]
  },
  {
   "cell_type": "code",
   "execution_count": null,
   "id": "cb2fd372",
   "metadata": {},
   "outputs": [],
   "source": [
    "clusters_centroids"
   ]
  },
  {
   "cell_type": "code",
   "execution_count": null,
   "id": "b130028a",
   "metadata": {},
   "outputs": [],
   "source": [
    "np.mean(clusters_centroids,axis=0)"
   ]
  },
  {
   "cell_type": "code",
   "execution_count": null,
   "id": "ac73c80d",
   "metadata": {
    "scrolled": true
   },
   "outputs": [],
   "source": [
    "clusters_centroids = kmeans.cluster_centers_\n",
    "print(f\"cluster's centroids coordinates: \\n {clusters_centroids}\")\n",
    "centroid = np.mean(clusters_centroids, axis=0)\n",
    "print(centroid)\n",
    "\n",
    "central = closest_distance(centroid, dstrb_sub.drop(['cluster_lab'], axis=1))\n",
    "print(f\"Closest subject to centroid of cluster is {central}\")\n",
    "print(dstrb_sub[3][str(central)], dstrb_sub[4][str(central)])"
   ]
  },
  {
   "cell_type": "code",
   "execution_count": null,
   "id": "bb31a0c9",
   "metadata": {},
   "outputs": [],
   "source": [
    "aligned_buckets, aligned_rot, aligned_transl = ma.align_buckets_by_ICP_batch(buckets, central)"
   ]
  },
  {
   "cell_type": "code",
   "execution_count": null,
   "id": "53e5317c",
   "metadata": {},
   "outputs": [],
   "source": [
    "MA_coords = get_MA_coords(dstrb_sub, 3, num_subj_threshold=14, num_coord=5)\n",
    "step = step = MA_coords[1]-MA_coords[0]"
   ]
  },
  {
   "cell_type": "code",
   "execution_count": null,
   "id": "ea32d987",
   "metadata": {},
   "outputs": [],
   "source": [
    "MA_coords"
   ]
  },
  {
   "cell_type": "code",
   "execution_count": null,
   "id": "75e9dc7d",
   "metadata": {},
   "outputs": [],
   "source": [
    "step"
   ]
  },
  {
   "cell_type": "code",
   "execution_count": null,
   "id": "1cb88c5d",
   "metadata": {},
   "outputs": [],
   "source": [
    "len(dstrb_sub)"
   ]
  },
  {
   "cell_type": "code",
   "execution_count": null,
   "id": "c993e912",
   "metadata": {},
   "outputs": [],
   "source": [
    "#SPAM_centers_c1 = [-2.05716]\n",
    "#SPAM_vols_c1, shift1 = ma.calc_MA_volumes_batch(SPAM_centers_c1, aligned_buckets_C1, cluster1, axis_n=1, FWHM=1)\n",
    "SPAM_vols, shift = ma.calc_MA_volumes_batch(MA_coords, aligned_buckets, dstrb_sub, axis_n=1, FWHM=1)"
   ]
  },
  {
   "cell_type": "code",
   "execution_count": null,
   "id": "ad005bba",
   "metadata": {},
   "outputs": [],
   "source": [
    "# Draws first volume in the brochette\n",
    "cld.draw(list(SPAM_vols.values())[0], th_min=0.3)"
   ]
  },
  {
   "cell_type": "code",
   "execution_count": null,
   "id": "59e9b64a",
   "metadata": {},
   "outputs": [],
   "source": [
    "# Draws last volume in the brochette\n",
    "cld.draw(list(SPAM_vols.values())[-1], th_min=0.3)"
   ]
  },
  {
   "cell_type": "code",
   "execution_count": null,
   "id": "8cc7372e",
   "metadata": {
    "scrolled": true
   },
   "outputs": [],
   "source": [
    "SPAM_meshes = {}\n",
    "\n",
    "for k, volume in tqdm(list(SPAM_vols.items())[:]):\n",
    "    SPAM_meshes[k]=dtx.convert.volume_to_mesh(\n",
    "                    vol=volume,\n",
    "                    gblur_sigma=0,\n",
    "                    threshold=0.45,\n",
    "                    deciReductionRate=0,\n",
    "                    smoothRate=0.4)\n",
    "    #SPAM_meshes[k] = dtx.mesh.shift_aims_mesh(SPAM_meshes[k], 2*shift1[k])\n",
    "    \n",
    "shifted_SPAM_meshes = {}\n",
    "for dist, mesh in SPAM_meshes.items():\n",
    "    shifted_SPAM_meshes[str(dist)] = dtx.mesh.shift_aims_mesh_along_axis(mesh, dist, axis=0, scale=20)"
   ]
  },
  {
   "cell_type": "code",
   "execution_count": null,
   "id": "5101e6fb",
   "metadata": {},
   "outputs": [],
   "source": [
    "for x, mesh in tqdm(shifted_SPAM_meshes.items()):\n",
    "    aims.write(mesh, f\"MA_{x}_2cluster44.mesh\")#### Saving of average crops"
   ]
  },
  {
   "cell_type": "code",
   "execution_count": null,
   "id": "c349617d",
   "metadata": {},
   "outputs": [],
   "source": [
    "cld.draw(list(SPAM_meshes.values())[0])"
   ]
  },
  {
   "cell_type": "code",
   "execution_count": null,
   "id": "d6200d00",
   "metadata": {},
   "outputs": [],
   "source": [
    "cld.draw(list(SPAM_meshes.values())[4])"
   ]
  },
  {
   "cell_type": "code",
   "execution_count": null,
   "id": "228efde3",
   "metadata": {},
   "outputs": [],
   "source": [
    "fig = cld.draw(list(SPAM_vols.values())[0], th_min=0.2)\n",
    "cld.draw(list(SPAM_meshes.values())[0], fig=fig)"
   ]
  },
  {
   "cell_type": "code",
   "execution_count": null,
   "id": "917026fb",
   "metadata": {},
   "outputs": [],
   "source": [
    "SPAM_centers_c2 = [0]\n",
    "SPAM_vols_c2, shift2 = ma.calc_MA_volumes_batch(SPAM_centers_c2, aligned_buckets_C2, cluster2, axis_n=3, FWHM=1)"
   ]
  },
  {
   "cell_type": "markdown",
   "id": "18676dc0",
   "metadata": {},
   "source": [
    "#### Visualization of average crops of both clusters"
   ]
  },
  {
   "cell_type": "code",
   "execution_count": null,
   "id": "a47526f4",
   "metadata": {},
   "outputs": [],
   "source": [
    "fig = cld.draw(shifted_SPAM_meshes)\n",
    "ma.plot.brochette_layout(fig, \"subjects meshes\")"
   ]
  },
  {
   "cell_type": "code",
   "execution_count": null,
   "id": "b0c1c418",
   "metadata": {},
   "outputs": [],
   "source": [
    "\n",
    "for x, mesh in tqdm(shifted_SPAM_meshes.items()):\n",
    "    aims.write(mesh, f\"MA_{x}_2cluster2.mesh\")"
   ]
  },
  {
   "cell_type": "markdown",
   "id": "40d195fb",
   "metadata": {},
   "source": [
    "# Saves extreme bucket files"
   ]
  },
  {
   "cell_type": "code",
   "execution_count": null,
   "id": "d2a03f07",
   "metadata": {},
   "outputs": [],
   "source": [
    "arr = np.array([np.array([dstrb_sub[k][i] for k in dstrb_sub.columns[2:4]]) for i in range(len(dstrb_sub))])\n",
    "\n",
    "# Selects subjects whose 3rd dimension is higher than 14\n",
    "ix_sup14 = np.where(arr[:,0] > 14.)\n",
    "print(ix_sup14)"
   ]
  },
  {
   "cell_type": "code",
   "execution_count": null,
   "id": "e3f3c3f4",
   "metadata": {},
   "outputs": [],
   "source": [
    "for ix in np.nditer(ix_sup14):\n",
    "    sub = dstrb_sub.index[ix]\n",
    "    aims.write(dtx.convert.bucket_numpy_to_bucketMap_aims(buckets[sub]), f\">14_{sub}.bck\")"
   ]
  },
  {
   "cell_type": "code",
   "execution_count": null,
   "id": "2258c621",
   "metadata": {},
   "outputs": [],
   "source": [
    "# Selects subjects whose 3rd dimension is less than 1\n",
    "ix_inf1 = np.where(arr[:,0] < 1.)\n",
    "print(ix_inf1)"
   ]
  },
  {
   "cell_type": "code",
   "execution_count": null,
   "id": "979724d3",
   "metadata": {},
   "outputs": [],
   "source": [
    "for ix in np.nditer(ix_inf1):\n",
    "    sub = dstrb_sub.index[ix]\n",
    "    aims.write(dtx.convert.bucket_numpy_to_bucketMap_aims(buckets[sub]), f\"<1_{sub}.bck\")"
   ]
  },
  {
   "cell_type": "code",
   "execution_count": null,
   "id": "64b944de",
   "metadata": {},
   "outputs": [],
   "source": []
  }
 ],
 "metadata": {
  "kernelspec": {
   "display_name": "Run_29_python3",
   "language": "python",
   "name": "run_29_python3"
  },
  "language_info": {
   "codemirror_mode": {
    "name": "ipython",
    "version": 3
   },
   "file_extension": ".py",
   "mimetype": "text/x-python",
   "name": "python",
   "nbconvert_exporter": "python",
   "pygments_lexer": "ipython3",
   "version": "3.6.9"
  }
 },
 "nbformat": 4,
 "nbformat_minor": 5
}
